{
  "nbformat": 4,
  "nbformat_minor": 0,
  "metadata": {
    "colab": {
      "provenance": [],
      "collapsed_sections": [
        "HbJzuys_qVzI"
      ]
    },
    "kernelspec": {
      "name": "python3",
      "display_name": "Python 3"
    },
    "language_info": {
      "name": "python"
    }
  },
  "cells": [
    {
      "cell_type": "code",
      "source": [
        "import pandas as pd\n",
        "from pathlib import Path"
      ],
      "metadata": {
        "id": "cN0nYDD-PycE"
      },
      "execution_count": 1,
      "outputs": []
    },
    {
      "cell_type": "code",
      "source": [
        "from google.colab import drive\n",
        "drive.mount('/content/drive')"
      ],
      "metadata": {
        "colab": {
          "base_uri": "https://localhost:8080/"
        },
        "id": "VlxhVRPZPzRJ",
        "outputId": "9bcf0065-8bfc-4d33-ce25-4c716d00d1f7"
      },
      "execution_count": 2,
      "outputs": [
        {
          "output_type": "stream",
          "name": "stdout",
          "text": [
            "Mounted at /content/drive\n"
          ]
        }
      ]
    },
    {
      "cell_type": "code",
      "source": [
        "main_dir = \"drive/MyDrive/dataset/\""
      ],
      "metadata": {
        "id": "fPIyLpg3P0_N"
      },
      "execution_count": 3,
      "outputs": []
    },
    {
      "cell_type": "code",
      "source": [
        "final_df = pd.read_csv(main_dir + 'final_data_new_regency.csv')\n",
        "final_df.head()"
      ],
      "metadata": {
        "id": "b_CFxr39P4Sj"
      },
      "execution_count": null,
      "outputs": []
    },
    {
      "cell_type": "code",
      "source": [
        "final_df.describe()"
      ],
      "metadata": {
        "id": "S1VFjjxJnnXT"
      },
      "execution_count": null,
      "outputs": []
    },
    {
      "cell_type": "markdown",
      "source": [
        "# Clustering DBScan"
      ],
      "metadata": {
        "id": "8UBHiPOGUwwI"
      }
    },
    {
      "cell_type": "code",
      "source": [
        "from sklearn.cluster import DBSCAN\n",
        "from sklearn.preprocessing import MinMaxScaler, OneHotEncoder\n",
        "from sklearn.compose import ColumnTransformer\n",
        "from sklearn.pipeline import Pipeline\n",
        "\n",
        "# Define the columns that need to be scaled and encoded\n",
        "num_cols = ['total_guest_capacity', 'bedroom', 'bathroom', 'beds', 'avg_price_per_day', 'area_distance_to_airport']\n",
        "cat_cols = ['property_type', 'area_regency_city']\n",
        "\n",
        "# Create the transformers\n",
        "scaler = MinMaxScaler()\n",
        "encoder = OneHotEncoder(drop='first')\n",
        "\n",
        "# Create the column transformer\n",
        "preprocessor = ColumnTransformer(\n",
        "    transformers=[\n",
        "        ('num', scaler, num_cols),\n",
        "        ('cat', encoder, cat_cols)\n",
        "    ])\n",
        "\n",
        "eps_value = 1.15\n",
        "min_samples_value = 3\n",
        "# Define the DBSCAN clustering algorithm\n",
        "cluster = DBSCAN(eps=eps_value, min_samples=min_samples_value)  # You may need to tune these parameters\n",
        "\n",
        "pipeline = Pipeline(steps=[('preprocessor', preprocessor),\n",
        "                           ('cluster', cluster)])\n",
        "\n",
        "# Fit the pipeline\n",
        "pipeline.fit(final_df)\n",
        "\n",
        "# Get cluster labels and add them to the DataFrame\n",
        "cluster_labels = pipeline.named_steps['cluster'].labels_\n",
        "final_df['cluster_label'] = cluster_labels\n",
        "\n",
        "print(final_df[['unit_id', 'cluster_label']])"
      ],
      "metadata": {
        "colab": {
          "base_uri": "https://localhost:8080/"
        },
        "id": "AKXNq0IjM2k7",
        "outputId": "1d354955-3520-440d-d2ce-5d64fa351277"
      },
      "execution_count": 5,
      "outputs": [
        {
          "output_type": "stream",
          "name": "stdout",
          "text": [
            "    unit_id  cluster_label\n",
            "0    UN0165              0\n",
            "1    UN1536              0\n",
            "2    UN1537              0\n",
            "3    UN1538              0\n",
            "4    UN1539              0\n",
            "..      ...            ...\n",
            "368  UN3099              2\n",
            "369  UN3100              2\n",
            "370  UN3101              2\n",
            "371  UN3102              2\n",
            "372  UN3103              2\n",
            "\n",
            "[373 rows x 2 columns]\n"
          ]
        }
      ]
    },
    {
      "cell_type": "code",
      "source": [
        "from sklearn.metrics import silhouette_score\n",
        "\n",
        "X_transformed = pipeline.named_steps['preprocessor'].transform(final_df)\n",
        "\n",
        "# Calculate the Silhouette score\n",
        "# Note: Silhouette score can only be calculated if there are more than 1 cluster.\n",
        "if len(set(cluster_labels)) > 1:\n",
        "    silhouette_avg = silhouette_score(X_transformed, cluster_labels)\n",
        "    print(f'Silhouette Score: {silhouette_avg}')\n",
        "else:\n",
        "    print(\"Silhouette Score cannot be calculated with less than 2 clusters.\")"
      ],
      "metadata": {
        "colab": {
          "base_uri": "https://localhost:8080/"
        },
        "id": "VI60bpEGNsAo",
        "outputId": "1448fad3-d617-4a2f-8612-d82b4aee87e0"
      },
      "execution_count": 6,
      "outputs": [
        {
          "output_type": "stream",
          "name": "stdout",
          "text": [
            "Silhouette Score: 0.8307818702612887\n"
          ]
        }
      ]
    },
    {
      "cell_type": "code",
      "source": [
        "from sklearn.metrics import davies_bouldin_score\n",
        "\n",
        "# Asumsikan pipeline dan final_df sudah didefinisikan sebelumnya\n",
        "X_transformed = pipeline.named_steps['preprocessor'].transform(final_df)\n",
        "\n",
        "# Gunakan DBSCAN untuk menghasilkan cluster_labels\n",
        "\n",
        "dbscan = DBSCAN(eps=eps_value, min_samples=min_samples_value)\n",
        "cluster_labels = dbscan.fit_predict(X_transformed)\n",
        "\n",
        "# Hitung Davies-Bouldin Index\n",
        "# Note: Davies-Bouldin Index can only be calculated if there are more than 1 cluster.\n",
        "if len(set(cluster_labels)) > 1:\n",
        "    davies_bouldin_avg = davies_bouldin_score(X_transformed, cluster_labels)\n",
        "    print(f'Davies-Bouldin Index: {davies_bouldin_avg}')\n",
        "else:\n",
        "    print(\"Davies-Bouldin Index cannot be calculated with less than 2 clusters.\")"
      ],
      "metadata": {
        "colab": {
          "base_uri": "https://localhost:8080/"
        },
        "id": "qI82pijnniLt",
        "outputId": "114d98ad-a703-4176-8dc0-42f921973117"
      },
      "execution_count": 7,
      "outputs": [
        {
          "output_type": "stream",
          "name": "stdout",
          "text": [
            "Davies-Bouldin Index: 0.7985988384502066\n"
          ]
        }
      ]
    },
    {
      "cell_type": "code",
      "source": [
        "from sklearn.metrics import davies_bouldin_score\n",
        "import numpy as np\n",
        "import pandas as pd\n",
        "from sklearn.preprocessing import MinMaxScaler, OneHotEncoder\n",
        "from sklearn.compose import ColumnTransformer\n",
        "from sklearn.pipeline import Pipeline\n",
        "from sklearn.cluster import DBSCAN\n",
        "\n",
        "def optimize_dbscan(X_transformed, eps_values, min_samples_values):\n",
        "    best_dbi = np.inf\n",
        "    best_params = None\n",
        "\n",
        "    for eps in eps_values:\n",
        "        for min_samples in min_samples_values:\n",
        "            dbscan = DBSCAN(eps=eps, min_samples=min_samples)\n",
        "            cluster_labels = dbscan.fit_predict(X_transformed)\n",
        "\n",
        "            # Check jika lebih dari 1 cluster yang terbentuk\n",
        "            if len(set(cluster_labels)) > 1:\n",
        "                dbi = davies_bouldin_score(X_transformed, cluster_labels)\n",
        "                if dbi < best_dbi:\n",
        "                    best_dbi = dbi\n",
        "                    best_params = (eps, min_samples)\n",
        "\n",
        "    return best_dbi, best_params\n",
        "\n",
        "# Transformasi data menggunakan preprocessor yang sudah didefinisikan\n",
        "X_transformed = pipeline.named_steps['preprocessor'].transform(final_df)\n",
        "\n",
        "# Daftar nilai eps dan min_samples yang ingin diuji\n",
        "eps_values = [0.5, 1.0, 1.15, 1.5, 2.0]\n",
        "min_samples_values = [3, 5, 10]\n",
        "\n",
        "# Cari parameter terbaik\n",
        "best_dbi, best_params = optimize_dbscan(X_transformed, eps_values, min_samples_values)\n",
        "\n",
        "print(f'Best Davies-Bouldin Index: {best_dbi}')\n",
        "print(f'Best Parameters: eps={best_params[0]}, min_samples={best_params[1]}')"
      ],
      "metadata": {
        "colab": {
          "base_uri": "https://localhost:8080/"
        },
        "id": "qjNegf0Cqz2f",
        "outputId": "adc37530-0070-435b-e95f-2c9e6d87e648"
      },
      "execution_count": 8,
      "outputs": [
        {
          "output_type": "stream",
          "name": "stdout",
          "text": [
            "Best Davies-Bouldin Index: 0.7985988384502066\n",
            "Best Parameters: eps=1.15, min_samples=3\n"
          ]
        }
      ]
    },
    {
      "cell_type": "code",
      "source": [
        "from sklearn.neighbors import NearestNeighbors\n",
        "import numpy as np\n",
        "import matplotlib.pyplot as plt\n",
        "\n",
        "# Fit the model\n",
        "neighbors = NearestNeighbors(n_neighbors=5)  # k is usually chosen as min_samples\n",
        "neighbors_fit = neighbors.fit(X_transformed)\n",
        "distances, indices = neighbors_fit.kneighbors(X_transformed)\n",
        "\n",
        "# Sort and plot the distances\n",
        "distances = np.sort(distances, axis=0)\n",
        "distances = distances[:, 4]  # 4th column because we chose n_neighbors=5\n",
        "plt.plot(distances)\n",
        "plt.xlabel('Points sorted by distance')\n",
        "plt.ylabel('5th Nearest Neighbor Distance')\n",
        "plt.title('k-Distance Graph')\n",
        "plt.show()"
      ],
      "metadata": {
        "colab": {
          "base_uri": "https://localhost:8080/",
          "height": 472
        },
        "id": "jPmteEAjPRg7",
        "outputId": "b57c0e24-57ba-41ed-c38f-180e01b003d6"
      },
      "execution_count": 9,
      "outputs": [
        {
          "output_type": "display_data",
          "data": {
            "text/plain": [
              "<Figure size 640x480 with 1 Axes>"
            ],
            "image/png": "[encoded data removed]"
          },
          "metadata": {}
        }
      ]
    },
    {
      "cell_type": "code",
      "source": [
        "# For visualization, perform PCA to reduce dimensions to 2D\n",
        "from sklearn.decomposition import PCA\n",
        "import matplotlib.pyplot as plt\n",
        "import pandas as pd\n",
        "\n",
        "# Transform the data using the preprocessor\n",
        "X_transformed = pipeline.named_steps['preprocessor'].transform(final_df)\n",
        "\n",
        "# Perform PCA\n",
        "pca = PCA(n_components=2)\n",
        "pca_result = pca.fit_transform(X_transformed)\n",
        "\n",
        "# Create a DataFrame with PCA results and cluster labels\n",
        "pca_df = pd.DataFrame(data=pca_result, columns=['PCA1', 'PCA2'])\n",
        "pca_df['cluster_label'] = cluster_labels\n",
        "\n",
        "# Plotting the PCA results with cluster labels\n",
        "plt.figure(figsize=(12, 8))\n",
        "plt.title('DBSCAN Clustering Results Visualization')\n",
        "\n",
        "# Plot each cluster with a different color\n",
        "unique_labels = set(cluster_labels)\n",
        "for label in unique_labels:\n",
        "    cluster_data = pca_df[pca_df['cluster_label'] == label]\n",
        "    plt.scatter(cluster_data['PCA1'], cluster_data['PCA2'], label=f'Cluster {label}')\n",
        "\n",
        "plt.xlabel('PCA1')\n",
        "plt.ylabel('PCA2')\n",
        "plt.legend()\n",
        "plt.show()\n"
      ],
      "metadata": {
        "colab": {
          "base_uri": "https://localhost:8080/",
          "height": 718
        },
        "id": "8GxWokW5M7Ie",
        "outputId": "86b21796-5464-4032-ccb6-bbd376215c9d"
      },
      "execution_count": 10,
      "outputs": [
        {
          "output_type": "display_data",
          "data": {
            "text/plain": [
              "<Figure size 1200x800 with 1 Axes>"
            ],
            "image/png": "[encoded data removed]"
          },
          "metadata": {}
        }
      ]
    },
    {
      "cell_type": "code",
      "source": [
        "# Count the number of points in each cluster\n",
        "cluster_counts = final_df['cluster_label'].value_counts()\n",
        "\n",
        "# Print the counts for each cluster\n",
        "print(cluster_counts)"
      ],
      "metadata": {
        "colab": {
          "base_uri": "https://localhost:8080/"
        },
        "id": "RTymEvjcQ6G5",
        "outputId": "f99a21e2-23b9-455e-de5b-deb988a454d1"
      },
      "execution_count": 11,
      "outputs": [
        {
          "output_type": "stream",
          "name": "stdout",
          "text": [
            "cluster_label\n",
            " 0     113\n",
            " 5      58\n",
            " 2      52\n",
            " 4      35\n",
            " 12     33\n",
            " 1      20\n",
            " 10     14\n",
            " 7      11\n",
            " 13     10\n",
            " 11      7\n",
            " 6       6\n",
            " 3       4\n",
            " 9       4\n",
            " 8       3\n",
            "-1       3\n",
            "Name: count, dtype: int64\n"
          ]
        }
      ]
    },
    {
      "cell_type": "code",
      "source": [
        "final_df[final_df['cluster_label'] == 8]"
      ],
      "metadata": {
        "id": "_z_fivCzSayM"
      },
      "execution_count": null,
      "outputs": []
    },
    {
      "cell_type": "code",
      "source": [
        "final_df[final_df['cluster_label'] == 15]"
      ],
      "metadata": {
        "id": "7KFhp8wrhxQq"
      },
      "execution_count": null,
      "outputs": []
    },
    {
      "cell_type": "code",
      "source": [
        "final_df[final_df['area_regency_city'] == 11]"
      ],
      "metadata": {
        "id": "ffZmiaW3Aq-v"
      },
      "execution_count": null,
      "outputs": []
    },
    {
      "cell_type": "code",
      "source": [
        "pd.set_option('display.max_rows', None)\n",
        "final_df.sort_values(by='cluster_label')"
      ],
      "metadata": {
        "id": "zKO1dRz6r8QO"
      },
      "execution_count": null,
      "outputs": []
    },
    {
      "cell_type": "code",
      "source": [
        "def check_property_id_per_cluster(final_df):\n",
        "    # Mengelompokkan berdasarkan cluster_label dan memeriksa nilai unik di kolom property_id\n",
        "    cluster_property_id_check = final_df.groupby('cluster_label')['property_id'].nunique()\n",
        "\n",
        "    for cluster_label, unique_count in cluster_property_id_check.items():\n",
        "        if unique_count == 1:\n",
        "            print(f\"Cluster {cluster_label} memiliki property_id yang sama untuk semua baris.\")\n",
        "        else:\n",
        "            print(f\"Cluster {cluster_label} memiliki {unique_count} nilai property_id yang berbeda.\")\n",
        "\n",
        "check_property_id_per_cluster(final_df)"
      ],
      "metadata": {
        "id": "ZBJi7FHDuiMx"
      },
      "execution_count": null,
      "outputs": []
    },
    {
      "cell_type": "code",
      "source": [
        "def check_property_id_per_area(final_df):\n",
        "    \"\"\"\n",
        "    Memeriksa apakah setiap grup 'area_regency_city' hanya memiliki satu nilai 'property_id'\n",
        "    atau ada beberapa nilai 'property_id' yang berbeda.\n",
        "\n",
        "    Args:\n",
        "    final_df (pd.DataFrame): DataFrame yang mengandung data.\n",
        "\n",
        "    Returns:\n",
        "    None: Hasil pemeriksaan akan dicetak.\n",
        "    \"\"\"\n",
        "\n",
        "    # Mengelompokkan berdasarkan 'area_regency_city' dan memeriksa nilai unik di kolom 'property_id'\n",
        "    area_property_id_check = final_df.groupby('area_regency_city')['property_id'].nunique()\n",
        "\n",
        "    for area, unique_count in area_property_id_check.items():\n",
        "        if unique_count == 1:\n",
        "            print(f\"Area {area} memiliki property_id yang sama untuk semua baris.\")\n",
        "        else:\n",
        "            print(f\"Area {area} memiliki {unique_count} nilai property_id yang berbeda.\")\n",
        "\n",
        "check_property_id_per_area(final_df)"
      ],
      "metadata": {
        "id": "DYQ-iKmuoEbg"
      },
      "execution_count": null,
      "outputs": []
    },
    {
      "cell_type": "markdown",
      "source": [
        "# coba input 1 data output 3 data paling mirip"
      ],
      "metadata": {
        "id": "wWWXmXhWUrf7"
      }
    },
    {
      "cell_type": "markdown",
      "source": [
        "## hitung jarak pakai euclidean distance\n"
      ],
      "metadata": {
        "id": "kgwzZWrbZLw2"
      }
    },
    {
      "cell_type": "markdown",
      "source": [
        "### function tanpa priority\n"
      ],
      "metadata": {
        "id": "BvtcoET6eptz"
      }
    },
    {
      "cell_type": "code",
      "source": [
        "from sklearn.metrics.pairwise import euclidean_distances\n",
        "import numpy as np\n",
        "\n",
        "def find_closest_units(unit_id, final_df, num_cols, cat_cols, eps_value=eps_value, min_samples_value=min_samples_value):\n",
        "    \"\"\"\n",
        "    Temukan 3 unit terdekat berdasarkan jarak Euclidean dari unit_id yang diberikan.\n",
        "\n",
        "    Args:\n",
        "    unit_id (str): ID unit yang ingin dicari.\n",
        "    final_df (pd.DataFrame): DataFrame akhir yang mengandung data.\n",
        "    num_cols (list): Daftar kolom numerik.\n",
        "    cat_cols (list): Daftar kolom kategorikal.\n",
        "    eps_value (float): Nilai eps untuk DBSCAN.\n",
        "    min_samples_value (int): Nilai min_samples untuk DBSCAN.\n",
        "\n",
        "    Returns:\n",
        "    pd.DataFrame: DataFrame yang mengandung 3 unit terdekat.\n",
        "    \"\"\"\n",
        "    # Transformasi seluruh dataset\n",
        "    X_transformed = preprocessor.fit_transform(final_df[num_cols + cat_cols])\n",
        "\n",
        "    # Temukan data dengan unit_id yang sesuai\n",
        "    input_data = final_df[final_df['unit_id'] == unit_id]\n",
        "\n",
        "    # Pastikan data ditemukan\n",
        "    if input_data.empty:\n",
        "        print(f\"Data dengan unit_id {unit_id} tidak ditemukan.\")\n",
        "        return None\n",
        "\n",
        "    # Ambil fitur-fitur dari data yang sesuai sebagai input\n",
        "    input_features = input_data[num_cols + cat_cols]\n",
        "\n",
        "    # Transformasi data menggunakan preprocessor\n",
        "    input_transformed = preprocessor.transform(input_features)\n",
        "\n",
        "    # Hitung jarak antara input data dengan setiap data dalam dataset menggunakan Euclidean distance\n",
        "    distances = euclidean_distances(input_transformed, X_transformed)\n",
        "\n",
        "    # Gunakan DBSCAN untuk mengelompokkan data berdasarkan jarak yang telah dihitung\n",
        "    dbscan = DBSCAN(eps=eps_value, min_samples=min_samples_value)\n",
        "    dbscan.fit(X_transformed)\n",
        "\n",
        "    # Tentukan cluster yang mengandung input data\n",
        "    input_data_cluster = dbscan.labels_[np.where(final_df['unit_id'] == unit_id)[0][0]]  # Label cluster input data\n",
        "\n",
        "    # Jika data input berada dalam cluster yang valid\n",
        "    if input_data_cluster != -1:\n",
        "        # Cari data dalam cluster yang sama\n",
        "        cluster_indices = np.where(dbscan.labels_ == input_data_cluster)[0]  # Indeks data dalam cluster yang sama\n",
        "\n",
        "        # Periksa apakah cluster memiliki lebih dari satu properti\n",
        "        cluster_property_ids = final_df.iloc[cluster_indices]['property_id'].nunique()\n",
        "\n",
        "        if cluster_property_ids > 1:\n",
        "            distances_within_cluster = distances[0, cluster_indices]  # Jarak input data dengan data dalam cluster yang sama\n",
        "\n",
        "            # Urutkan data berdasarkan jarak\n",
        "            sorted_indices = np.argsort(distances_within_cluster)\n",
        "\n",
        "            # Ambil 3 data terdekat dari cluster yang sama\n",
        "            closest_data_indices_within_cluster = cluster_indices[sorted_indices]\n",
        "        else:\n",
        "            input_data_cluster = -1  # Jika cluster tidak memenuhi syarat, tandai sebagai invalid\n",
        "\n",
        "    if input_data_cluster == -1:\n",
        "        # Jika data input tidak berada dalam cluster yang valid, ambil dari seluruh dataset\n",
        "        sorted_distances = np.argsort(distances[0])\n",
        "        closest_data_indices_within_cluster = sorted_distances\n",
        "\n",
        "    # Filter data yang memiliki property_id yang sama dengan input\n",
        "    input_property_id = input_data['property_id'].values[0]\n",
        "    filtered_indices = [index for index in closest_data_indices_within_cluster if final_df.iloc[index]['property_id'] != input_property_id]\n",
        "\n",
        "    # Ambil 3 data terdekat yang memenuhi syarat\n",
        "    closest_data_indices_within_cluster = filtered_indices[:3]\n",
        "\n",
        "    # Output 3 data terdekat\n",
        "    closest_data = final_df.iloc[closest_data_indices_within_cluster]\n",
        "\n",
        "    return closest_data"
      ],
      "metadata": {
        "id": "wgKl22rulBBI"
      },
      "execution_count": null,
      "outputs": []
    },
    {
      "cell_type": "code",
      "source": [
        "find_closest_units('UN0165', final_df, num_cols, cat_cols)"
      ],
      "metadata": {
        "id": "dA62gIzXlqHL"
      },
      "execution_count": null,
      "outputs": []
    },
    {
      "cell_type": "code",
      "source": [
        "final_df[final_df['unit_id'] == 'UN0165']"
      ],
      "metadata": {
        "id": "ff-_fsMSWfaZ"
      },
      "execution_count": null,
      "outputs": []
    },
    {
      "cell_type": "code",
      "source": [
        "find_closest_units('UN2992', final_df, num_cols, cat_cols)"
      ],
      "metadata": {
        "id": "B09w04efmKxR"
      },
      "execution_count": null,
      "outputs": []
    },
    {
      "cell_type": "code",
      "source": [
        "final_df[final_df['unit_id'] == 'UN2992']"
      ],
      "metadata": {
        "id": "QwnwYsmFmP5o"
      },
      "execution_count": null,
      "outputs": []
    },
    {
      "cell_type": "code",
      "source": [
        "print(find_closest_units('UN2914', final_df, num_cols, cat_cols))"
      ],
      "metadata": {
        "id": "Aja5sCXKmcfj"
      },
      "execution_count": null,
      "outputs": []
    },
    {
      "cell_type": "code",
      "source": [
        "print(final_df[final_df['unit_id'] == 'UN2914'])"
      ],
      "metadata": {
        "id": "ioRdgsKvmsCy"
      },
      "execution_count": null,
      "outputs": []
    },
    {
      "cell_type": "code",
      "source": [
        "final_df[final_df['unit_id'] == 'UN3008']"
      ],
      "metadata": {
        "id": "c_MADYk4qPoa"
      },
      "execution_count": null,
      "outputs": []
    },
    {
      "cell_type": "code",
      "source": [
        "final_df[final_df['area_name'] == 'Mengwi']"
      ],
      "metadata": {
        "id": "nYL1gImgF6in"
      },
      "execution_count": null,
      "outputs": []
    },
    {
      "cell_type": "code",
      "source": [
        "find_closest_units('UN0672', final_df, num_cols, cat_cols)"
      ],
      "metadata": {
        "id": "iaWxMhCYt40m"
      },
      "execution_count": null,
      "outputs": []
    },
    {
      "cell_type": "code",
      "source": [
        "final_df[final_df['unit_id'] == 'UN0672']"
      ],
      "metadata": {
        "id": "xgRBCKbbt6Yf"
      },
      "execution_count": null,
      "outputs": []
    },
    {
      "cell_type": "code",
      "source": [
        "find_closest_units('UN2797',final_df, num_cols, cat_cols)"
      ],
      "metadata": {
        "id": "cdyoXu1lu4Ob"
      },
      "execution_count": null,
      "outputs": []
    },
    {
      "cell_type": "code",
      "source": [
        "final_df[final_df['unit_id'] == 'UN2908']"
      ],
      "metadata": {
        "id": "NzYUO2gpyAAp"
      },
      "execution_count": null,
      "outputs": []
    },
    {
      "cell_type": "code",
      "source": [
        " find_closest_units('UN2908',final_df, num_cols, cat_cols)"
      ],
      "metadata": {
        "id": "aOk2jGtA2jQT"
      },
      "execution_count": null,
      "outputs": []
    },
    {
      "cell_type": "markdown",
      "source": [
        "### + prioritas untuk price per day dan area regency"
      ],
      "metadata": {
        "id": "a0fP0yx-r9ky"
      }
    },
    {
      "cell_type": "code",
      "source": [
        "def find_closest_units_priority(unit_id, final_df, num_cols, cat_cols, eps_value=eps_value, min_samples_value=min_samples_value, priority_factor=2):\n",
        "    \"\"\"\n",
        "    Temukan 3 unit terdekat berdasarkan jarak Euclidean dari unit_id yang diberikan.\n",
        "\n",
        "    Args:\n",
        "    unit_id (str): ID unit yang ingin dicari.\n",
        "    final_df (pd.DataFrame): DataFrame akhir yang mengandung data.\n",
        "    num_cols (list): Daftar kolom numerik.\n",
        "    cat_cols (list): Daftar kolom kategorikal.\n",
        "    eps_value (float): Nilai eps untuk DBSCAN.\n",
        "    min_samples_value (int): Nilai min_samples untuk DBSCAN.\n",
        "    priority_factor (float): Faktor prioritas untuk kolom penting.\n",
        "\n",
        "    Returns:\n",
        "    pd.DataFrame: DataFrame yang mengandung 3 unit terdekat.\n",
        "    \"\"\"\n",
        "    # Transformasi seluruh dataset\n",
        "    X_transformed = preprocessor.fit_transform(final_df[num_cols + cat_cols])\n",
        "\n",
        "    # Skala kolom prioritas dengan priority_factor\n",
        "    col_idx_price = final_df.columns.get_loc('avg_price_per_day')\n",
        "    col_idx_area = final_df.columns.get_loc('area_regency_city')\n",
        "    X_transformed[:, col_idx_price] *= priority_factor\n",
        "    X_transformed[:, col_idx_area] *= priority_factor\n",
        "\n",
        "    # Temukan data dengan unit_id yang sesuai\n",
        "    input_data = final_df[final_df['unit_id'] == unit_id]\n",
        "\n",
        "    # Pastikan data ditemukan\n",
        "    if input_data.empty:\n",
        "        print(f\"Data dengan unit_id {unit_id} tidak ditemukan.\")\n",
        "        return None\n",
        "\n",
        "    # Ambil fitur-fitur dari data yang sesuai sebagai input\n",
        "    input_features = input_data[num_cols + cat_cols]\n",
        "\n",
        "    # Transformasi data menggunakan preprocessor\n",
        "    input_transformed = preprocessor.transform(input_features)\n",
        "\n",
        "    # Skala kolom prioritas dengan priority_factor pada input_transformed\n",
        "    input_transformed[:, col_idx_price] *= priority_factor\n",
        "    input_transformed[:, col_idx_area] *= priority_factor\n",
        "\n",
        "    # Hitung jarak antara input data dengan setiap data dalam dataset menggunakan Euclidean distance\n",
        "    distances = euclidean_distances(input_transformed, X_transformed)\n",
        "\n",
        "    # Gunakan DBSCAN untuk mengelompokkan data berdasarkan jarak yang telah dihitung\n",
        "    dbscan = DBSCAN(eps=eps_value, min_samples=min_samples_value)\n",
        "    dbscan.fit(X_transformed)\n",
        "\n",
        "    # Tentukan cluster yang mengandung input data\n",
        "    input_data_cluster = dbscan.labels_[np.where(final_df['unit_id'] == unit_id)[0][0]]  # Label cluster input data\n",
        "\n",
        "    # Jika data input berada dalam cluster yang valid\n",
        "    if input_data_cluster != -1:\n",
        "        # Cari data dalam cluster yang sama\n",
        "        cluster_indices = np.where(dbscan.labels_ == input_data_cluster)[0]  # Indeks data dalam cluster yang sama\n",
        "\n",
        "        # Periksa apakah cluster memiliki lebih dari satu properti\n",
        "        cluster_property_ids = final_df.iloc[cluster_indices]['property_id'].nunique()\n",
        "\n",
        "        if cluster_property_ids > 1:\n",
        "            distances_within_cluster = distances[0, cluster_indices]  # Jarak input data dengan data dalam cluster yang sama\n",
        "\n",
        "            # Urutkan data berdasarkan jarak\n",
        "            sorted_indices = np.argsort(distances_within_cluster)\n",
        "\n",
        "            # Ambil 3 data terdekat dari cluster yang sama\n",
        "            closest_data_indices_within_cluster = cluster_indices[sorted_indices]\n",
        "        else:\n",
        "            input_data_cluster = -1  # Jika cluster tidak memenuhi syarat, tandai sebagai invalid\n",
        "\n",
        "    if input_data_cluster == -1:\n",
        "        # Jika data input tidak berada dalam cluster yang valid, ambil dari seluruh dataset\n",
        "        sorted_distances = np.argsort(distances[0])\n",
        "        closest_data_indices_within_cluster = sorted_distances\n",
        "\n",
        "    # Filter data yang memiliki property_id yang sama dengan input\n",
        "    input_property_id = input_data['property_id'].values[0]\n",
        "    filtered_indices = [index for index in closest_data_indices_within_cluster if final_df.iloc[index]['property_id'] != input_property_id]\n",
        "\n",
        "    # Ambil 3 data terdekat yang memenuhi syarat\n",
        "    closest_data_indices_within_cluster = filtered_indices[:3]\n",
        "\n",
        "    # Output 3 data terdekat\n",
        "    closest_data = final_df.iloc[closest_data_indices_within_cluster]\n",
        "\n",
        "    return closest_data"
      ],
      "metadata": {
        "id": "bmxQ2dmwr9O3"
      },
      "execution_count": null,
      "outputs": []
    },
    {
      "cell_type": "code",
      "source": [
        "find_closest_units_priority('UN2992', final_df, num_cols, cat_cols)"
      ],
      "metadata": {
        "id": "tEhnJQ4PnPRs"
      },
      "execution_count": null,
      "outputs": []
    },
    {
      "cell_type": "code",
      "source": [
        "final_df[final_df['unit_id'] == 'UN2810']"
      ],
      "metadata": {
        "id": "tQeQNw4kqULR"
      },
      "execution_count": null,
      "outputs": []
    },
    {
      "cell_type": "code",
      "source": [
        "find_closest_units_priority('UN0165', final_df, num_cols, cat_cols)"
      ],
      "metadata": {
        "id": "R1MM7yVwsYX6"
      },
      "execution_count": null,
      "outputs": []
    },
    {
      "cell_type": "code",
      "source": [
        "final_df[final_df['unit_id'] == 'UN2871']"
      ],
      "metadata": {
        "id": "SY8p36lAseE5"
      },
      "execution_count": null,
      "outputs": []
    },
    {
      "cell_type": "code",
      "source": [
        "find_closest_units_priority('UN2990', final_df, num_cols, cat_cols)"
      ],
      "metadata": {
        "id": "9qrAiMaVsmzM"
      },
      "execution_count": null,
      "outputs": []
    },
    {
      "cell_type": "code",
      "source": [
        "final_df[final_df['unit_id'] == 'UN2990']"
      ],
      "metadata": {
        "id": "sjOtRZGaswwG"
      },
      "execution_count": null,
      "outputs": []
    },
    {
      "cell_type": "code",
      "source": [
        "find_closest_units_priority('UN2914', final_df, num_cols, cat_cols)"
      ],
      "metadata": {
        "id": "FOyo_XYwtI6N"
      },
      "execution_count": null,
      "outputs": []
    },
    {
      "cell_type": "code",
      "source": [
        "final_df[final_df['unit_id'] == 'UN2914']"
      ],
      "metadata": {
        "id": "oQQQFqxJtPE9"
      },
      "execution_count": null,
      "outputs": []
    },
    {
      "cell_type": "code",
      "source": [
        "find_closest_units_priority('UN3082', final_df, num_cols, cat_cols)"
      ],
      "metadata": {
        "id": "DG3Kn0CMsu6E"
      },
      "execution_count": null,
      "outputs": []
    },
    {
      "cell_type": "code",
      "source": [
        "final_df[final_df['unit_id'] == 'UN3082']"
      ],
      "metadata": {
        "id": "I0eyjxn-s9M5"
      },
      "execution_count": null,
      "outputs": []
    },
    {
      "cell_type": "code",
      "source": [
        "find_closest_units_priority('UN0672', final_df, num_cols, cat_cols)"
      ],
      "metadata": {
        "id": "cb2mfKMXtvz9"
      },
      "execution_count": null,
      "outputs": []
    },
    {
      "cell_type": "code",
      "source": [
        "final_df[final_df['unit_id'] == 'UN0672']"
      ],
      "metadata": {
        "id": "aBf9MVlf01AV"
      },
      "execution_count": null,
      "outputs": []
    },
    {
      "cell_type": "code",
      "source": [
        "find_closest_units_priority('UN2371', final_df, num_cols, cat_cols)"
      ],
      "metadata": {
        "id": "daUCF4q15CcG"
      },
      "execution_count": null,
      "outputs": []
    },
    {
      "cell_type": "code",
      "source": [
        "final_df[final_df['unit_id'] == 'UN2371']"
      ],
      "metadata": {
        "id": "Z6_jqhbY5GVg"
      },
      "execution_count": null,
      "outputs": []
    },
    {
      "cell_type": "code",
      "source": [
        "find_closest_units_priority('UN2797',final_df, num_cols, cat_cols)"
      ],
      "metadata": {
        "id": "na6vjb9iudLa"
      },
      "execution_count": null,
      "outputs": []
    },
    {
      "cell_type": "code",
      "source": [
        "final_df[final_df['unit_id'] == 'UN2797']"
      ],
      "metadata": {
        "id": "kWj-fDJ-ukdD"
      },
      "execution_count": null,
      "outputs": []
    },
    {
      "cell_type": "code",
      "source": [
        "find_closest_units_priority('UN2908',final_df, num_cols, cat_cols)"
      ],
      "metadata": {
        "id": "WX5qMI9j2JF4"
      },
      "execution_count": null,
      "outputs": []
    },
    {
      "cell_type": "code",
      "source": [
        "final_df[final_df['unit_id'] == 'UN2908']"
      ],
      "metadata": {
        "id": "ZDxbRCW_2MBD"
      },
      "execution_count": null,
      "outputs": []
    },
    {
      "cell_type": "code",
      "source": [
        "final_df[final_df['unit_id'] == 'UN2785']"
      ],
      "metadata": {
        "id": "CTujENJviFNh"
      },
      "execution_count": null,
      "outputs": []
    },
    {
      "cell_type": "code",
      "source": [
        "find_closest_units_priority('UN2785',final_df, num_cols, cat_cols)"
      ],
      "metadata": {
        "id": "T0SVUCzLiJKe"
      },
      "execution_count": null,
      "outputs": []
    },
    {
      "cell_type": "code",
      "source": [
        "find_closest_units_priority('UN1539',final_df, num_cols, cat_cols)"
      ],
      "metadata": {
        "id": "VBhn2t2LiMPV"
      },
      "execution_count": null,
      "outputs": []
    },
    {
      "cell_type": "code",
      "source": [
        "final_df[final_df['unit_id'] == 'UN1539']"
      ],
      "metadata": {
        "id": "lis7MHKmj1BF"
      },
      "execution_count": null,
      "outputs": []
    },
    {
      "cell_type": "code",
      "source": [
        "find_closest_units_priority('UN2788',final_df, num_cols, cat_cols)"
      ],
      "metadata": {
        "id": "0-Xna9lHuJMf"
      },
      "execution_count": null,
      "outputs": []
    }
  ]
}