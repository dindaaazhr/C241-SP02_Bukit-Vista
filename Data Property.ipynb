{
 "cells": [
  {
   "cell_type": "markdown",
   "metadata": {
    "id": "115h9YjJ43Od"
   },
   "source": [
    "# Data Property - Property Type - Area\n",
    "\n",
    "\n"
   ]
  },
  {
   "cell_type": "code",
   "execution_count": null,
   "metadata": {},
   "outputs": [],
   "source": [
    "!pip install numpy\n",
    "!pip install pandas\n",
    "!pip install matplotlib\n",
    "!pip install seaborn\n",
    "!pip install pathlib\n",
    "!pip install scikit-learn"
   ]
  },
  {
   "cell_type": "code",
   "execution_count": null,
   "metadata": {
    "id": "nmN6sRkG41ww"
   },
   "outputs": [],
   "source": [
    "import numpy as np\n",
    "import pandas as pd\n",
    "import matplotlib.pyplot as plt\n",
    "import seaborn as sb\n",
    "from pathlib import Path"
   ]
  },
  {
   "cell_type": "code",
   "execution_count": null,
   "metadata": {
    "colab": {
     "base_uri": "https://localhost:8080/"
    },
    "id": "9PmFWzG65wuF",
    "outputId": "ba6496ae-e19a-4202-fd2a-b450ce04b990"
   },
   "outputs": [],
   "source": [
    "# from google.colab import drive\n",
    "# drive.mount('/content/drive')"
   ]
  },
  {
   "cell_type": "code",
   "execution_count": null,
   "metadata": {
    "id": "jOoVkdUX5xC7"
   },
   "outputs": [],
   "source": [
    "# main_dir = \"drive/MyDrive/Capstone Project Bukit Vista Repo/Dataset/\""
   ]
  },
  {
   "cell_type": "code",
   "execution_count": null,
   "metadata": {
    "id": "TyrNbH4oM7Pd"
   },
   "outputs": [],
   "source": [
    "pd.set_option('display.max_columns', None)\n",
    "pd.set_option('display.max_rows', None)\n",
    "pd.set_option('display.max_colwidth', None)\n",
    "pd.set_option('display.width', None)"
   ]
  },
  {
   "cell_type": "markdown",
   "metadata": {
    "id": "WhA03nVv5xYC"
   },
   "source": [
    "## Penjelasan Tiap Fitur Df_area\n",
    " 0   area_id\n",
    " : Primary key untuk area atau daerah\n",
    "\n",
    " 1   area_name\n",
    " : Nama area atau daerah yang menjadi tempat lokasi property\n",
    "\n",
    " 2   area_squad\n",
    " : **belum tahu**\n",
    "\n",
    " 3   employee_id\n",
    " : Foreign key dari pegawai yang bekerja di area tersebut\n",
    "\n",
    " 4   created_at\n",
    " : tanggal informasi daerah di inputkan\n",
    "\n",
    " 5   updated_at\n",
    " : tanggal informasi daerah diperbarui\n",
    "\n",
    " 6   deleted_at\n",
    " : tanggal informasi daerah dihapus (sudah tidak relevan)\n",
    "\n",
    " 7   temp_column\n",
    " : kolom sementara\n",
    "\n",
    " 8   area_distance_to_airport\n",
    " : jarak dengan airport\n",
    "\n",
    " 9   airport_pickup_price_idr\n",
    " : harga perjalanan dari area tersebut ke airport\n",
    "\n",
    " 10  area_airport_name : nama airportnya\n",
    "\n",
    " 11  region_id  : id region"
   ]
  },
  {
   "cell_type": "markdown",
   "metadata": {
    "id": "udrXe4dS6zi8"
   },
   "source": [
    "### Area"
   ]
  },
  {
   "cell_type": "code",
   "execution_count": null,
   "metadata": {
    "colab": {
     "base_uri": "https://localhost:8080/",
     "height": 295
    },
    "id": "_eCQRNEE6gCs",
    "outputId": "cefaa74b-4793-4908-8094-e8dcb4f6e0cd"
   },
   "outputs": [],
   "source": [
    "area_df = pd.read_csv('area.csv')\n",
    "area_df.head()"
   ]
  },
  {
   "cell_type": "code",
   "execution_count": null,
   "metadata": {
    "colab": {
     "base_uri": "https://localhost:8080/"
    },
    "id": "xoBjBlTI6e4H",
    "outputId": "5d024883-1c8e-49a4-a32a-52eb0e556e88"
   },
   "outputs": [],
   "source": [
    "area_df.info()"
   ]
  },
  {
   "cell_type": "code",
   "execution_count": null,
   "metadata": {
    "colab": {
     "base_uri": "https://localhost:8080/"
    },
    "id": "iPoaifye5y_h",
    "outputId": "643438aa-5560-4c96-d46c-5b6bcea5b24c"
   },
   "outputs": [],
   "source": [
    "area_df.isna().sum()"
   ]
  },
  {
   "cell_type": "code",
   "execution_count": null,
   "metadata": {
    "colab": {
     "base_uri": "https://localhost:8080/"
    },
    "id": "_BPF5Qtq11V0",
    "outputId": "006843c1-b4c6-4ba0-fcd3-154d983a42a3"
   },
   "outputs": [],
   "source": [
    "a = 2\n",
    "for i in area_df[\"area_distance_to_airport\"]:\n",
    "  print(a, i)\n",
    "  a += 1"
   ]
  },
  {
   "cell_type": "markdown",
   "metadata": {
    "id": "UynOwkba8gFU"
   },
   "source": [
    "## Penjelasan Tiap Fitur df_property\n",
    "\n",
    "- property_id: id unik tiap property nya\n",
    "- owner_id: FK ID pemilik properti.\n",
    "- property_name: Nama properti\n",
    "- property_type: FK ID jenis property.\n",
    "- property_bedrooms: Jumlah kamar tidur.\n",
    "- property_status: Status saat ini dari properti (misalnya, tersedia, terjual, dll).\n",
    "- *property_package: Paket layanan atau penawaran yang terkait dengan properti.\n",
    "- *bc_commission: Komisi yang diterima oleh broker atau agen.\n",
    "- property_design: Desain atau gaya arsitektur dari properti.\n",
    "- property_proximity: Kedekatan properti terhadap fasilitas atau lokasi penting lainnya.\n",
    "- property_life_support: Fasilitas pendukung kehidupan yang tersedia di properti.\n",
    "- property_service: Layanan yang disediakan bersama dengan properti.\n",
    "- property_owner_group_link: Tautan ke grup atau komunitas pemilik properti.\n",
    "- property_direction: Arah atau orientasi dari properti.\n",
    "google_map_link: Tautan ke lokasi properti di Google Maps.\n",
    "- property_staff_contact: Kontak staf yang bertanggung jawab atas properti.\n",
    "property_staff_name: Nama staf yang bertanggung jawab atas properti.\n",
    "- area_id: ID area di mana properti berada.\n",
    "- employee_id: ID karyawan yang bertanggung jawab atau terkait dengan properti.\n",
    "- created_at: Tanggal dan waktu pembuatan catatan properti.\n",
    "- updated_at: Tanggal dan waktu terakhir catatan properti diperbarui.\n",
    "- deleted_at: Tanggal dan waktu catatan properti dihapus, jika berlaku.\n",
    "- temp_column: Kolom sementara, mungkin digunakan untuk keperluan internal atau sementara.\n",
    "- property_concern: Masalah atau kekhawatiran yang terkait dengan properti.\n",
    "- property_prev_partner: Mitra sebelumnya yang terkait dengan properti.\n",
    "- employee_user_id: ID pengguna karyawan yang terkait dengan properti.\n",
    "- property_next_meeting: Jadwal pertemuan berikutnya yang terkait dengan properti.\n",
    "- contract_signing_date: Tanggal penandatanganan kontrak untuk properti.\n",
    "- signing_contract_link: Tautan ke dokumen kontrak yang ditandatangani.\n",
    "- projection_picture_url: URL ke gambar proyeksi atau visualisasi properti.\n",
    "- training_material_link: Tautan ke materi pelatihan yang terkait dengan properti.\n",
    "- is_contract_signed: Indikator apakah kontrak telah ditandatangani.\n",
    "- total_quota: Kuota total yang tersedia atau ditetapkan untuk properti.\n",
    "- added_by: Pengguna yang menambahkan catatan properti.\n",
    "- signed_contract_link: Tautan ke kontrak yang telah ditandatangani.\n",
    "- property_evaluation_link: Tautan ke evaluasi atau penilaian properti.\n",
    "- revenue_projection_status: Status proyeksi pendapatan untuk properti.\n",
    "- training_material_saved_type: Jenis materi pelatihan yang disimpan.\n",
    "- is_training_done: Indikator apakah pelatihan telah selesai dilakukan.\n",
    "- is_additional_training_requested: Indikator apakah pelatihan tambahan diminta.\n",
    "- is_amenities_details_filled: Indikator apakah detail fasilitas telah diisi.\n",
    "- photoshoot_request_time: Waktu permintaan sesi foto untuk properti.\n",
    "- launch_date: Tanggal peluncuran properti di pasar.\n",
    "partner_property_status: Status properti dalam kemitraan.\n",
    "- signing_contract_pin: PIN untuk penandatanganan kontrak.\n",
    "- signing_contract_document_id: ID dokumen untuk kontrak yang ditandatangani.\n",
    "- is_revenue_requested: Indikator apakah pendapatan telah diminta.\n",
    "- created_by: Pengguna yang membuat catatan properti.\n",
    "- is_property_details_added: Indikator apakah detail properti telah ditambahkan.\n",
    "- trello_card_id: ID kartu Trello yang terkait dengan properti.\n",
    "- trello_short_url: URL pendek ke kartu Trello yang terkait dengan properti.\n",
    "- owner_bank_details_id: ID detail bank pemilik properti.\n",
    "- property_brand_class_id: ID kelas merek properti.\n",
    "- ready_to_accept_guest_date: Tanggal properti siap menerima tamu.\n",
    "- property_service_id: ID layanan yang terkait dengan properti.\n",
    "- property_experience_id: ID pengalaman yang terkait dengan properti.\n",
    "- lat: Latitude dari lokasi properti.\n",
    "- lng: Longitude dari lokasi properti.\n",
    "- current_selling_price: Harga jual saat ini dari properti.\n",
    "- whatsapp_remote_id: ID remote WhatsApp yang terkait dengan properti.\n",
    "- distance_to_coastline: Jarak properti ke garis pantai.\n",
    "- check_out_time: Waktu check-out untuk properti.\n"
   ]
  },
  {
   "cell_type": "markdown",
   "metadata": {
    "id": "dnoU8MnD619p"
   },
   "source": [
    "### Property"
   ]
  },
  {
   "cell_type": "code",
   "execution_count": null,
   "metadata": {
    "colab": {
     "base_uri": "https://localhost:8080/",
     "height": 313
    },
    "id": "Jcr4KwMG6h4k",
    "outputId": "3b8d66ad-a5ce-4734-a7c6-3e5f9e914a9d"
   },
   "outputs": [],
   "source": [
    "property_df = pd.read_csv('property.csv')\n",
    "property_df.head()"
   ]
  },
  {
   "cell_type": "code",
   "execution_count": null,
   "metadata": {
    "colab": {
     "base_uri": "https://localhost:8080/"
    },
    "id": "lD2kVv6j656o",
    "outputId": "227373d1-9f55-4b08-9459-514cc2e5a7a7"
   },
   "outputs": [],
   "source": [
    "property_df.info()"
   ]
  },
  {
   "cell_type": "code",
   "execution_count": null,
   "metadata": {
    "id": "CEhlOtqYuHS1"
   },
   "outputs": [],
   "source": [
    "# for kolom in property_df.columns:\n",
    "#     jumlah_null = property_df[kolom].isna().sum()\n",
    "#     if jumlah_null >=1:\n",
    "#       print(f\"- {kolom} : {jumlah_null}\")"
   ]
  },
  {
   "cell_type": "code",
   "execution_count": null,
   "metadata": {
    "id": "GVwTTKwnvmH3"
   },
   "outputs": [],
   "source": [
    "# updated_deleted_df = property_df[['updated_at', 'deleted_at']]"
   ]
  },
  {
   "cell_type": "code",
   "execution_count": null,
   "metadata": {
    "id": "GVdbNjJrv7TZ"
   },
   "outputs": [],
   "source": [
    "# updated_deleted_df"
   ]
  },
  {
   "cell_type": "code",
   "execution_count": null,
   "metadata": {
    "id": "8ElRU3n_5kIl"
   },
   "outputs": [],
   "source": [
    "# property_df = property_df[property_df['property_status'] == 1]\n",
    "# property_df.head()"
   ]
  },
  {
   "cell_type": "code",
   "execution_count": null,
   "metadata": {
    "colab": {
     "base_uri": "https://localhost:8080/",
     "height": 34
    },
    "id": "0qfe3K077Ddu",
    "outputId": "9d3b0954-f72b-459f-f31c-95ea3144402f"
   },
   "outputs": [],
   "source": [
    "from IPython.display import FileLink\n",
    "property_df.to_csv('property.csv', index=False)\n",
    "FileLink('property.csv')"
   ]
  },
  {
   "cell_type": "markdown",
   "metadata": {
    "id": "JJcQoQt57oMZ"
   },
   "source": [
    "## Penjelasan Tiap Fitur df_property_type\n",
    "Jenis-jenis property, ini bisa jd fitur untuk clustering property berdasarkan\n",
    "- property_type : id property type\n",
    "- type_desc : nama jenis-jenis property nya\n",
    "- type_description_id : id deskripsi tipe (Dihapus karna gaada isinya semua)"
   ]
  },
  {
   "cell_type": "markdown",
   "metadata": {
    "id": "QK2ujFsx67zg"
   },
   "source": [
    "### Property Type"
   ]
  },
  {
   "cell_type": "code",
   "execution_count": null,
   "metadata": {
    "colab": {
     "base_uri": "https://localhost:8080/",
     "height": 331
    },
    "id": "SrtkKrxU6-Qu",
    "outputId": "355b6428-3bf5-4779-fd0b-7c6413d42280"
   },
   "outputs": [],
   "source": [
    "property_type_df = pd.read_csv('prop_property_type.csv')\n",
    "property_type_df.head(10)"
   ]
  },
  {
   "cell_type": "code",
   "execution_count": null,
   "metadata": {
    "colab": {
     "base_uri": "https://localhost:8080/"
    },
    "id": "DmzsBMeM6-q9",
    "outputId": "94368da7-625d-438e-f7e4-0ab7c8d5e556"
   },
   "outputs": [],
   "source": [
    "property_type_df.info()"
   ]
  },
  {
   "cell_type": "code",
   "execution_count": null,
   "metadata": {
    "colab": {
     "base_uri": "https://localhost:8080/"
    },
    "id": "OHwK0bZ56_Aa",
    "outputId": "745f510a-b08c-45cb-b2c4-e3934ce03618"
   },
   "outputs": [],
   "source": [
    "property_type_df.isna().sum()"
   ]
  },
  {
   "cell_type": "markdown",
   "metadata": {
    "id": "eosG2lgbAAb6"
   },
   "source": [
    "## Merged The Datasets\n",
    "1. Property - Property Type\n",
    "2. Property_all - area"
   ]
  },
  {
   "cell_type": "code",
   "execution_count": null,
   "metadata": {
    "id": "dHNAqJTqAM2i"
   },
   "outputs": [],
   "source": [
    "merged_propertyType_df = pd.merge(property_df, property_type_df, how='left', left_on='property_type', right_on='property_type')"
   ]
  },
  {
   "cell_type": "code",
   "execution_count": null,
   "metadata": {
    "colab": {
     "base_uri": "https://localhost:8080/",
     "height": 313
    },
    "id": "vSWJLo7mD7S0",
    "outputId": "f5fb4410-78eb-4577-a6be-e57ae644c08d"
   },
   "outputs": [],
   "source": [
    "merged_propertyType_df.head()"
   ]
  },
  {
   "cell_type": "code",
   "execution_count": null,
   "metadata": {
    "colab": {
     "base_uri": "https://localhost:8080/"
    },
    "id": "J4L_La2XD-JQ",
    "outputId": "9aada295-fff0-4dc1-c89f-dd2fd8b03a68"
   },
   "outputs": [],
   "source": [
    "merged_propertyType_df.info()"
   ]
  },
  {
   "cell_type": "code",
   "execution_count": null,
   "metadata": {
    "id": "aRn3_vodH025"
   },
   "outputs": [],
   "source": [
    "cols = merged_propertyType_df.columns.tolist()\n",
    "cols.insert(4, cols.pop(cols.index('type_desc')))\n",
    "merged_propertyType_df = merged_propertyType_df[cols]"
   ]
  },
  {
   "cell_type": "code",
   "execution_count": null,
   "metadata": {
    "colab": {
     "base_uri": "https://localhost:8080/",
     "height": 313
    },
    "id": "mS3w5PJ9FXeD",
    "outputId": "351d60c3-b0d8-4989-b011-8ff0c139b241"
   },
   "outputs": [],
   "source": [
    "merged_propertyType_df.head()"
   ]
  },
  {
   "cell_type": "markdown",
   "metadata": {
    "id": "C9ynouZzIICN"
   },
   "source": [
    "### Merged all the data"
   ]
  },
  {
   "cell_type": "code",
   "execution_count": null,
   "metadata": {
    "colab": {
     "base_uri": "https://localhost:8080/",
     "height": 313
    },
    "id": "ith4LSoEIkDD",
    "outputId": "91bcf945-f848-4031-f7c2-55c8f8d3868d"
   },
   "outputs": [],
   "source": [
    "all_property_df = pd.merge(merged_propertyType_df, area_df, how='left', left_on='area_id', right_on='area_id')\n",
    "all_property_df.head()"
   ]
  },
  {
   "cell_type": "code",
   "execution_count": null,
   "metadata": {
    "id": "FjB2wC7NJcug"
   },
   "outputs": [],
   "source": [
    "cols_change = ['area_name',\n",
    "  'area_squad',\n",
    "  'employee_id_y',\n",
    "  'created_at_y',\n",
    "  'updated_at_y',\n",
    "  'deleted_at_y',\n",
    "  'temp_column_y',\n",
    "  'area_distance_to_airport',\n",
    "  'airport_pickup_price_idr',\n",
    "  'area_airport_name',\n",
    "  'region_id']\n",
    "cols = all_property_df.columns.tolist()\n",
    "\n",
    "num = 19\n",
    "for i in cols_change:\n",
    "  cols.insert(num, cols.pop(cols.index(i)))\n",
    "  all_property_df = all_property_df[cols]\n",
    "  num += 1"
   ]
  },
  {
   "cell_type": "code",
   "execution_count": null,
   "metadata": {
    "colab": {
     "base_uri": "https://localhost:8080/",
     "height": 313
    },
    "id": "mb-R_D_NMLUO",
    "outputId": "be4aebae-9f5b-43fa-9f56-201d01ec968b"
   },
   "outputs": [],
   "source": [
    "all_property_df.head()"
   ]
  },
  {
   "cell_type": "code",
   "execution_count": null,
   "metadata": {
    "id": "wqJgAq_pMTRh"
   },
   "outputs": [],
   "source": [
    "# all_property_df.info()"
   ]
  },
  {
   "cell_type": "code",
   "execution_count": null,
   "metadata": {
    "colab": {
     "base_uri": "https://localhost:8080/"
    },
    "id": "cjhuGWGHpmCk",
    "outputId": "62d6b6b3-fd6f-496d-b0bd-8c264b0f13a9"
   },
   "outputs": [],
   "source": [
    "for kolom in all_property_df.columns:\n",
    "    jumlah_null = all_property_df[kolom].isna().sum()\n",
    "    if jumlah_null >=1:\n",
    "      print(f\"- {kolom} : {jumlah_null}\")"
   ]
  },
  {
   "cell_type": "markdown",
   "metadata": {
    "id": "SPxWYhHQwA5u"
   },
   "source": [
    "#### Feature Selection\n",
    "\n",
    "Total entries data = 797\n",
    "1. **Relevance**: features like `property_type`, `property_bedrooms`, `property_status`, `property_package`, `property_design`, `property_proximity`, `property_life_support`, `property_service`, , `area_name`, `area_distance_to_airport`, `region_id`, `property_concern`, `property_prev_partner`, `current_selling_price` might be relevant.\n",
    "\n",
    "2. **Missing Values**: features with a very large number of missing values. `bc_commission`, `property_staff_contact`, `property_staff_name`, `deleted_at_y`, `temp_column_y`, `employee_id_x`, `deleted_at_x`, `temp_column_x`, `signing_contract_link`, `total_quota`, `signed_contract_link`, `training_material_saved_type`, `photoshoot_request_time`, `signing_contract_pin`, `signing_contract_document_id`, `owner_bank_details_id`, `property_brand_class_id`, `ready_to_accept_guest_date`, `property_service_id`, `property_experience_id`, `whatsapp_remote_id`, `distance_to_coastline`, `check_out_time`, `type_description_id`\n",
    "\n",
    "\n",
    "> Based on these guidelines, we can start use these following features: `property_id`, `property_type`, `property_bedrooms`, `property_design`, `property_life_support`, `property_service`, `area_name`, `area_distance_to_airport`, `updated_at_x`, `deleted_at_x`\n",
    "\n",
    "not included\n",
    "- `current_selling_price`\n",
    "- `property_status`\n",
    "- `property_proximity`\n",
    "- `property_package`\n",
    "\n",
    "We might need to try different combinations of features and evaluate the performance of your clustering algorithm on each combination to find the best set of features.\n"
   ]
  },
  {
   "cell_type": "markdown",
   "metadata": {
    "id": "9f9ml56tzwSA"
   },
   "source": [
    "# Preprocessing Data\n"
   ]
  },
  {
   "cell_type": "markdown",
   "metadata": {
    "id": "fwnHSPcGz83g"
   },
   "source": [
    "## New dataframe\n",
    "Select the features that we wanna use for the clustering\n",
    "\n",
    "`property_id`, `property_type`, `property_bedrooms`, `property_design`, `property_life_support`, `property_service`, `area_name`, `area_distance_to_airport`,\n",
    "- (`updated_at_x`, `deleted_at_x`)\n",
    "\n",
    "not included\n",
    "- `current_selling_price`\n",
    "- `property_status`\n",
    "- `property_proximity`\n",
    "- `property_package`"
   ]
  },
  {
   "cell_type": "code",
   "execution_count": null,
   "metadata": {
    "id": "f9ncO2D6pnJV"
   },
   "outputs": [],
   "source": [
    "columns_to_select = [\n",
    "    'property_id',\n",
    "    'area_id',\n",
    "    'property_type',\n",
    "    'property_status',\n",
    "    'area_squad',\n",
    "    'area_distance_to_airport',\n",
    "    'updated_at_x',\n",
    "    'deleted_at_x'\n",
    "]\n",
    "\n",
    "property_selected_df = all_property_df[columns_to_select]"
   ]
  },
  {
   "cell_type": "code",
   "execution_count": null,
   "metadata": {
    "colab": {
     "base_uri": "https://localhost:8080/",
     "height": 206
    },
    "id": "9Vjg7uoitPUH",
    "outputId": "ce7ae7ff-6a5a-4e84-8774-b4a0d78c9865"
   },
   "outputs": [],
   "source": [
    "property_selected_df.head()"
   ]
  },
  {
   "cell_type": "code",
   "execution_count": null,
   "metadata": {
    "colab": {
     "base_uri": "https://localhost:8080/"
    },
    "id": "FULxvjFFyQeg",
    "outputId": "b957fe44-dfb4-4ebb-e58b-dd55ea5a7209"
   },
   "outputs": [],
   "source": [
    "property_selected_df.info()"
   ]
  },
  {
   "cell_type": "code",
   "execution_count": null,
   "metadata": {
    "id": "xMxGM6jeNmgK"
   },
   "outputs": [],
   "source": [
    "property_selected_df = property_selected_df[property_selected_df['property_status'] == 1]"
   ]
  },
  {
   "cell_type": "code",
   "execution_count": null,
   "metadata": {
    "id": "l6wdxTNVSRtp"
   },
   "outputs": [],
   "source": [
    "# unique_values = property_selected_df['property_life_support'].unique()\n",
    "# print(unique_values)"
   ]
  },
  {
   "cell_type": "markdown",
   "metadata": {
    "id": "yC6QBw9aykUd"
   },
   "source": [
    "## Change the Dtype"
   ]
  },
  {
   "cell_type": "markdown",
   "metadata": {
    "id": "x_JSxi9mS8Xe"
   },
   "source": [
    "change to int"
   ]
  },
  {
   "cell_type": "code",
   "execution_count": null,
   "metadata": {
    "id": "vXb2HU5dSI_G"
   },
   "outputs": [],
   "source": [
    "# property_selected_df['property_life_support'] = property_selected_df['property_life_support'].astype(int)"
   ]
  },
  {
   "cell_type": "markdown",
   "metadata": {
    "id": "bSmXoSAQTKUg"
   },
   "source": [
    "change to int"
   ]
  },
  {
   "cell_type": "code",
   "execution_count": null,
   "metadata": {
    "colab": {
     "base_uri": "https://localhost:8080/"
    },
    "id": "afBx698cTJ-O",
    "outputId": "b73228a6-6c0c-44fb-f65c-b6b1601433d9"
   },
   "outputs": [],
   "source": [
    "property_selected_df['area_squad'] = property_selected_df['area_squad'].astype(int)"
   ]
  },
  {
   "cell_type": "markdown",
   "metadata": {
    "id": "lsPJ3oocS-yA"
   },
   "source": [
    "change to datetime"
   ]
  },
  {
   "cell_type": "code",
   "execution_count": null,
   "metadata": {
    "colab": {
     "base_uri": "https://localhost:8080/"
    },
    "id": "Tc4G3V3zyUxT",
    "outputId": "46cfdc12-5f45-45a1-c57d-d29d2e101f64"
   },
   "outputs": [],
   "source": [
    "property_selected_df['updated_at_x'] = pd.to_datetime(property_selected_df['updated_at_x'])\n",
    "property_selected_df['deleted_at_x'] = pd.to_datetime(property_selected_df['deleted_at_x'])"
   ]
  },
  {
   "cell_type": "code",
   "execution_count": null,
   "metadata": {
    "id": "aHO1n4Iw0W3s"
   },
   "outputs": [],
   "source": [
    "def convert_to_hours(time_str):\n",
    "    if pd.isnull(time_str):\n",
    "        return np.nan\n",
    "    elif 'hour' in time_str:\n",
    "        return float(time_str.split()[0])\n",
    "    elif 'minute' in time_str:\n",
    "        return float(time_str.split()[0]) / 60\n",
    "    else:\n",
    "        return np.nan"
   ]
  },
  {
   "cell_type": "code",
   "execution_count": null,
   "metadata": {
    "colab": {
     "base_uri": "https://localhost:8080/"
    },
    "id": "A3JLFMCV0sYC",
    "outputId": "a698ca04-93a1-478d-cebe-a252816002fc"
   },
   "outputs": [],
   "source": [
    "property_selected_df['area_distance_to_airport'] = property_selected_df['area_distance_to_airport'].apply(convert_to_hours)"
   ]
  },
  {
   "cell_type": "code",
   "execution_count": null,
   "metadata": {
    "colab": {
     "base_uri": "https://localhost:8080/"
    },
    "id": "6Tek-WnPyvmw",
    "outputId": "cfbbead9-5e58-443a-c544-6ad01a96fa8e"
   },
   "outputs": [],
   "source": [
    "property_selected_df.info()"
   ]
  },
  {
   "cell_type": "code",
   "execution_count": null,
   "metadata": {
    "colab": {
     "base_uri": "https://localhost:8080/",
     "height": 206
    },
    "id": "kF6JuQrN3JW2",
    "outputId": "9bb02874-36b3-489e-e82f-5023018774cb"
   },
   "outputs": [],
   "source": [
    "property_selected_df.head()"
   ]
  },
  {
   "cell_type": "markdown",
   "metadata": {
    "id": "LRGIpsm5njxm"
   },
   "source": [
    "## Delete the unrelevant data based on 'delete_at' and 'update_at' column\n",
    "All of data that have been deleted is not relevant anymore"
   ]
  },
  {
   "cell_type": "code",
   "execution_count": null,
   "metadata": {
    "id": "J4vqSCxdyAPr"
   },
   "outputs": [],
   "source": [
    "updated_deleted_df = property_selected_df[['updated_at_x', 'deleted_at_x']]\n",
    "updated_deleted_df"
   ]
  },
  {
   "cell_type": "code",
   "execution_count": null,
   "metadata": {
    "id": "3b4Ece8npnGB"
   },
   "outputs": [],
   "source": [
    "pd.set_option('display.max_rows', None)\n",
    "property_selected_df"
   ]
  },
  {
   "cell_type": "markdown",
   "metadata": {
    "id": "pCOv7aVP_f_8"
   },
   "source": [
    "## Data Imputation"
   ]
  },
  {
   "cell_type": "code",
   "execution_count": null,
   "metadata": {
    "id": "5L9jWVZ6_fV0"
   },
   "outputs": [],
   "source": [
    "for kolom in property_selected_df.columns:\n",
    "    jumlah_null = property_selected_df[kolom].isna().sum()\n",
    "    if jumlah_null >=1:\n",
    "      print(f\"- {kolom} : {jumlah_null}\")"
   ]
  },
  {
   "cell_type": "code",
   "execution_count": null,
   "metadata": {
    "id": "W0QTh-MI_OH8"
   },
   "outputs": [],
   "source": [
    "# most_frequent = property_selected_df['property_life_support'].mode()[0]\n",
    "# property_selected_df['property_life_support'].fillna(most_frequent, inplace=True)"
   ]
  },
  {
   "cell_type": "code",
   "execution_count": null,
   "metadata": {
    "id": "IyrKCKaM_RmL"
   },
   "outputs": [],
   "source": [
    "most_frequent = property_selected_df['area_squad'].mode()[0]\n",
    "property_selected_df['area_squad'].fillna(most_frequent, inplace=True)"
   ]
  },
  {
   "cell_type": "code",
   "execution_count": null,
   "metadata": {
    "colab": {
     "base_uri": "https://localhost:8080/"
    },
    "id": "XGqmDLHi_YLk",
    "outputId": "7cd20034-f9e3-43d7-8686-74c696ef2c8d"
   },
   "outputs": [],
   "source": [
    "property_selected_df.info()"
   ]
  },
  {
   "cell_type": "markdown",
   "metadata": {
    "id": "zbFYYvYu_jhF"
   },
   "source": [
    "## Normalize Data"
   ]
  },
  {
   "cell_type": "code",
   "execution_count": null,
   "metadata": {
    "id": "rNjCq5aqBGRD"
   },
   "outputs": [],
   "source": [
    "from sklearn.preprocessing import MinMaxScaler\n",
    "\n",
    "scaler = MinMaxScaler()\n",
    "\n",
    "columns_to_normalize = ['property_type', 'area_squad', 'area_distance_to_airport'] #'property_life_support',\n",
    "\n",
    "property_selected_df[columns_to_normalize] = scaler.fit_transform(property_selected_df[columns_to_normalize])"
   ]
  },
  {
   "cell_type": "markdown",
   "metadata": {
    "id": "SjXow-iwT6Z7"
   },
   "source": [
    "ubah menjadi lebih skalar"
   ]
  },
  {
   "cell_type": "code",
   "execution_count": null,
   "metadata": {
    "id": "UI3mb9ehBGIu"
   },
   "outputs": [],
   "source": [
    "# property_selected_df['property_life_support'] = property_selected_df['property_life_support'].round(3)"
   ]
  },
  {
   "cell_type": "code",
   "execution_count": null,
   "metadata": {
    "id": "yRhc9U5kBF37"
   },
   "outputs": [],
   "source": [
    "property_selected_df['area_distance_to_airport'] = property_selected_df['area_distance_to_airport'].round(3)"
   ]
  },
  {
   "cell_type": "code",
   "execution_count": null,
   "metadata": {
    "colab": {
     "base_uri": "https://localhost:8080/",
     "height": 1000
    },
    "id": "Ev1FxwmjBGNH",
    "outputId": "5b7fd0f8-e805-4dcd-d89f-fbde30ae9729"
   },
   "outputs": [],
   "source": [
    "property_selected_df"
   ]
  },
  {
   "cell_type": "code",
   "execution_count": null,
   "metadata": {
    "id": "UuqI5lIo_nG_"
   },
   "outputs": [],
   "source": []
  },
  {
   "cell_type": "markdown",
   "metadata": {
    "id": "rwLo08pcnzYn"
   },
   "source": [
    "# Export to CSV for the cleaned and preprossed datas"
   ]
  },
  {
   "cell_type": "code",
   "execution_count": null,
   "metadata": {
    "colab": {
     "base_uri": "https://localhost:8080/",
     "height": 34
    },
    "id": "cBwZUBoeOFBc",
    "outputId": "79c7d6e9-095b-4656-9113-8906c48f4dcd"
   },
   "outputs": [],
   "source": [
    "from IPython.display import FileLink\n",
    "property_selected_df.to_csv('all_property.csv', index=False)\n",
    "FileLink('all_property.csv')"
   ]
  }
 ],
 "metadata": {
  "colab": {
   "provenance": []
  },
  "kernelspec": {
   "display_name": "Python 3 (ipykernel)",
   "language": "python",
   "name": "python3"
  },
  "language_info": {
   "codemirror_mode": {
    "name": "ipython",
    "version": 3
   },
   "file_extension": ".py",
   "mimetype": "text/x-python",
   "name": "python",
   "nbconvert_exporter": "python",
   "pygments_lexer": "ipython3",
   "version": "3.11.3"
  }
 },
 "nbformat": 4,
 "nbformat_minor": 4
}
