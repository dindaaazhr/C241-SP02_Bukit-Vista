{
  "nbformat": 4,
  "nbformat_minor": 0,
  "metadata": {
    "colab": {
      "provenance": [],
      "toc_visible": true
    },
    "kernelspec": {
      "name": "python3",
      "display_name": "Python 3"
    },
    "language_info": {
      "name": "python"
    }
  },
  "cells": [
    {
      "cell_type": "code",
      "execution_count": null,
      "metadata": {
        "id": "7kjXRChkbR6B"
      },
      "outputs": [],
      "source": [
        "import pandas as pd\n",
        "from pathlib import Path"
      ]
    },
    {
      "cell_type": "code",
      "source": [
        "from google.colab import drive\n",
        "drive.mount('/content/drive')"
      ],
      "metadata": {
        "id": "QKYKYYgnbZLb"
      },
      "execution_count": null,
      "outputs": []
    },
    {
      "cell_type": "code",
      "source": [
        "main_dir = \"drive/MyDrive/dataset/\""
      ],
      "metadata": {
        "id": "Qen0B4bBbaj3"
      },
      "execution_count": null,
      "outputs": []
    },
    {
      "cell_type": "markdown",
      "source": [
        "# Booking Price per Unit"
      ],
      "metadata": {
        "id": "kD-a9qpxdAIc"
      }
    },
    {
      "cell_type": "code",
      "source": [
        "unit_booking_price_df = pd.read_csv(main_dir + 'unit_mean_price.csv')\n",
        "unit_booking_price_df.head()"
      ],
      "metadata": {
        "id": "Dxl4UB1xbdLw"
      },
      "execution_count": null,
      "outputs": []
    },
    {
      "cell_type": "code",
      "source": [
        "unit_booking_price_df.describe()"
      ],
      "metadata": {
        "id": "FyfPu-P3c0T2"
      },
      "execution_count": null,
      "outputs": []
    },
    {
      "cell_type": "code",
      "source": [
        "unit_booking_price_df.isna().sum()"
      ],
      "metadata": {
        "id": "8bX5iUVZgjST"
      },
      "execution_count": null,
      "outputs": []
    },
    {
      "cell_type": "code",
      "source": [
        "unit_booking_price_df.describe()"
      ],
      "metadata": {
        "id": "Jrr44K77uMgk"
      },
      "execution_count": null,
      "outputs": []
    },
    {
      "cell_type": "code",
      "source": [
        "unit_booking_price_df.shape"
      ],
      "metadata": {
        "id": "LuxVEgupc1gH"
      },
      "execution_count": null,
      "outputs": []
    },
    {
      "cell_type": "markdown",
      "source": [
        "# Clean Property Data"
      ],
      "metadata": {
        "id": "BQvnaic-dEgv"
      }
    },
    {
      "cell_type": "code",
      "source": [
        "# area_df = pd.read_csv(main_dir + 'area.csv')\n",
        "# area_df.head()"
      ],
      "metadata": {
        "id": "xalHhwO7yIBh"
      },
      "execution_count": null,
      "outputs": []
    },
    {
      "cell_type": "code",
      "source": [
        "# area_df = area_df[['area_id', 'area_name']]"
      ],
      "metadata": {
        "id": "Vu9Z5uHoz6lr"
      },
      "execution_count": null,
      "outputs": []
    },
    {
      "cell_type": "code",
      "source": [
        "property_df = pd.read_csv(main_dir + 'all_property.csv')\n",
        "property_df.head()"
      ],
      "metadata": {
        "id": "IXf1pihlc-l6"
      },
      "execution_count": null,
      "outputs": []
    },
    {
      "cell_type": "code",
      "source": [
        "property_df.isna().sum()"
      ],
      "metadata": {
        "id": "7TgMhzbfuCmA"
      },
      "execution_count": null,
      "outputs": []
    },
    {
      "cell_type": "code",
      "source": [
        "property_df.describe(include='all')"
      ],
      "metadata": {
        "id": "ry4IzHfBuRMX"
      },
      "execution_count": null,
      "outputs": []
    },
    {
      "cell_type": "code",
      "source": [
        "property_df.shape"
      ],
      "metadata": {
        "id": "8eMxHfMruJ35"
      },
      "execution_count": null,
      "outputs": []
    },
    {
      "cell_type": "markdown",
      "source": [
        "# Unit Data"
      ],
      "metadata": {
        "id": "TXW2iLDhew0C"
      }
    },
    {
      "cell_type": "code",
      "source": [
        "unit_df = pd.read_csv(main_dir + 'unit_merge.csv')\n",
        "unit_df.head()"
      ],
      "metadata": {
        "id": "y6EGHxEIe8xn"
      },
      "execution_count": null,
      "outputs": []
    },
    {
      "cell_type": "code",
      "source": [
        "unit_df.isna().sum()"
      ],
      "metadata": {
        "id": "u8azI8stgokS"
      },
      "execution_count": null,
      "outputs": []
    },
    {
      "cell_type": "code",
      "source": [
        "unit_df.describe(include='all')"
      ],
      "metadata": {
        "id": "b4xtcQ_qvADh"
      },
      "execution_count": null,
      "outputs": []
    },
    {
      "cell_type": "code",
      "source": [
        "# unit_df = unit_df.drop(columns=['status'])\n",
        "# unit_df.head()"
      ],
      "metadata": {
        "id": "dt4AKsBmDXuF"
      },
      "execution_count": null,
      "outputs": []
    },
    {
      "cell_type": "code",
      "source": [
        "unit_df.shape"
      ],
      "metadata": {
        "id": "8MgRU5iivCRW"
      },
      "execution_count": null,
      "outputs": []
    },
    {
      "cell_type": "markdown",
      "source": [
        "# Join"
      ],
      "metadata": {
        "id": "OYbXRLW29KVw"
      }
    },
    {
      "cell_type": "markdown",
      "source": [
        "## join harga booking dengan unit"
      ],
      "metadata": {
        "id": "TfLB5-OQ_EVk"
      }
    },
    {
      "cell_type": "code",
      "source": [
        "merged_df = unit_df.merge(unit_booking_price_df, on='unit_id', how='left')"
      ],
      "metadata": {
        "id": "e4RrUKgl9q9y"
      },
      "execution_count": null,
      "outputs": []
    },
    {
      "cell_type": "code",
      "source": [
        "merged_df.head()"
      ],
      "metadata": {
        "id": "Q2L9z0eW_NcH"
      },
      "execution_count": null,
      "outputs": []
    },
    {
      "cell_type": "code",
      "source": [
        "merged_df.info()"
      ],
      "metadata": {
        "id": "DiYcAPUJ_OXt"
      },
      "execution_count": null,
      "outputs": []
    },
    {
      "cell_type": "code",
      "source": [
        "merged_df.describe(include='all')"
      ],
      "metadata": {
        "id": "ndyojri7_Q9m"
      },
      "execution_count": null,
      "outputs": []
    },
    {
      "cell_type": "code",
      "source": [
        "merged_df.isna().sum()"
      ],
      "metadata": {
        "id": "RhewNDEW_UGz"
      },
      "execution_count": null,
      "outputs": []
    },
    {
      "cell_type": "code",
      "source": [
        "merged_df.shape"
      ],
      "metadata": {
        "id": "IaM42nRr_x57"
      },
      "execution_count": null,
      "outputs": []
    },
    {
      "cell_type": "code",
      "source": [
        "# Menampilkan data yang memiliki nilai null\n",
        "null_rows = merged_df[merged_df.isnull().any(axis=1)]\n",
        "\n",
        "# Menampilkan hasil\n",
        "print(\"Data yang memiliki nilai null pada merged_df:\")\n",
        "print(null_rows)"
      ],
      "metadata": {
        "id": "MP9BsxLV_aGi"
      },
      "execution_count": null,
      "outputs": []
    },
    {
      "cell_type": "code",
      "source": [
        "null_rows['property_id'].unique()"
      ],
      "metadata": {
        "id": "vTUHBwlSFKey"
      },
      "execution_count": null,
      "outputs": []
    },
    {
      "cell_type": "markdown",
      "source": [
        "## join merged dengan properti"
      ],
      "metadata": {
        "id": "qoBpnkxHAG-f"
      }
    },
    {
      "cell_type": "code",
      "source": [
        "final_df = pd.merge(merged_df, property_df, on='property_id', how='outer')"
      ],
      "metadata": {
        "id": "hKqce6rTACwS"
      },
      "execution_count": null,
      "outputs": []
    },
    {
      "cell_type": "code",
      "source": [
        "final_df.head()"
      ],
      "metadata": {
        "id": "vV47M8auBu5t"
      },
      "execution_count": null,
      "outputs": []
    },
    {
      "cell_type": "code",
      "source": [
        "final_df.info()"
      ],
      "metadata": {
        "id": "5TlqflhKBxIA"
      },
      "execution_count": null,
      "outputs": []
    },
    {
      "cell_type": "code",
      "source": [
        "final_df.isna().sum()"
      ],
      "metadata": {
        "id": "CiIU3dYpB2fG"
      },
      "execution_count": null,
      "outputs": []
    },
    {
      "cell_type": "code",
      "source": [
        "null_property_type_df = final_df[final_df['property_type'].isna()]\n",
        "\n",
        "# Menampilkan hasil\n",
        "print(\"Baris data yang memiliki nilai null pada kolom property_type:\")\n",
        "print(null_property_type_df)"
      ],
      "metadata": {
        "id": "Z0_b_M1tB-FL"
      },
      "execution_count": null,
      "outputs": []
    },
    {
      "cell_type": "code",
      "source": [
        "final_df.to_csv('merged_data.csv', index=False)"
      ],
      "metadata": {
        "id": "FolJViYFDp32"
      },
      "execution_count": null,
      "outputs": []
    },
    {
      "cell_type": "markdown",
      "source": [
        "# cek data properti"
      ],
      "metadata": {
        "id": "huuixHDvF-Jx"
      }
    },
    {
      "cell_type": "code",
      "source": [
        "property_asli_df = pd.read_csv(main_dir + 'property.csv')"
      ],
      "metadata": {
        "id": "lvFdSdhUGBgh"
      },
      "execution_count": null,
      "outputs": []
    },
    {
      "cell_type": "code",
      "source": [
        "property_ids = ['PR0641', 'PR0761', 'PR0861', 'PR0864', 'PR0858', 'PR0728', 'PR0781']\n",
        "\n",
        "# Mencari baris dengan property_id yang sesuai dengan daftar di atas\n",
        "property_selected_df = property_asli_df[property_asli_df['property_id'].isin(property_ids)]\n",
        "\n",
        "# Menampilkan hasil pencarian\n",
        "property_selected_df"
      ],
      "metadata": {
        "id": "iSntnD5in_tB"
      },
      "execution_count": null,
      "outputs": []
    },
    {
      "cell_type": "code",
      "source": [
        "pd.set_option('display.max_columns', None)\n",
        "property_asli_df[property_asli_df['property_id'] == 'PR0641']"
      ],
      "metadata": {
        "id": "7ZBwHT9CGJCS"
      },
      "execution_count": null,
      "outputs": []
    },
    {
      "cell_type": "code",
      "source": [
        "pd.reset_option('display.max_columns')"
      ],
      "metadata": {
        "id": "GMDz3qCrHSlX"
      },
      "execution_count": null,
      "outputs": []
    },
    {
      "cell_type": "markdown",
      "source": [
        "properti status == 2 tapi unit status == 1 jadi dia udah join bukit vista? tapi judul properti namenya TEST VILLA?"
      ],
      "metadata": {
        "id": "A2EV7mspGoga"
      }
    },
    {
      "cell_type": "code",
      "source": [
        "#drop data property == PR0641\n",
        "final_df = final_df[final_df['property_id'] != 'PR0641']"
      ],
      "metadata": {
        "id": "m86rAxa6nwLQ"
      },
      "execution_count": null,
      "outputs": []
    },
    {
      "cell_type": "code",
      "source": [
        "final_df.isna().sum()"
      ],
      "metadata": {
        "id": "eZLz0_g4pNlL"
      },
      "execution_count": null,
      "outputs": []
    },
    {
      "cell_type": "markdown",
      "source": [
        "## cek properti untuk cari harga booking"
      ],
      "metadata": {
        "id": "Hh_yJStOHzOB"
      }
    },
    {
      "cell_type": "markdown",
      "source": [
        "### properti PR0761"
      ],
      "metadata": {
        "id": "jdZrPdCgLWz8"
      }
    },
    {
      "cell_type": "code",
      "source": [
        "pd.set_option('display.max_columns', None)\n",
        "property_asli_df[property_asli_df['property_id'] == 'PR0761']"
      ],
      "metadata": {
        "id": "fHzvg_-uH3uY"
      },
      "execution_count": null,
      "outputs": []
    },
    {
      "cell_type": "markdown",
      "source": [
        "test purpose??? aku cari di BigRR Acala Hostel ini dari januari 2023 gaada booking sama sekali, kenapa? apa dia masih mitra dan masih beroperasi? aku coba di traveloka dkk dia juga gaada kamar yang tersedia jadi gabisa ambil harganya. tapi properti status sama unitnya masih == 1"
      ],
      "metadata": {
        "id": "EQrjt8u8JsaZ"
      }
    },
    {
      "cell_type": "code",
      "source": [
        "pd.set_option('display.max_columns', None)\n",
        "property_asli_df[property_asli_df['property_name'].str.contains('acala', case=False, na=False)]"
      ],
      "metadata": {
        "id": "FpkAGHB_JR6u"
      },
      "execution_count": null,
      "outputs": []
    },
    {
      "cell_type": "code",
      "source": [
        "#drop data property == PR0761\n",
        "final_df = final_df[final_df['property_id'] != 'PR0761']"
      ],
      "metadata": {
        "id": "XjdU-E5kpXup"
      },
      "execution_count": null,
      "outputs": []
    },
    {
      "cell_type": "code",
      "source": [
        "final_df.isna().sum()"
      ],
      "metadata": {
        "id": "PKudrR3DpeFb"
      },
      "execution_count": null,
      "outputs": []
    },
    {
      "cell_type": "markdown",
      "source": [
        "### Properti PR0861"
      ],
      "metadata": {
        "id": "wXn8H7gkLaxO"
      }
    },
    {
      "cell_type": "code",
      "source": [
        "pd.set_option('display.max_columns', None)\n",
        "property_asli_df[property_asli_df['property_id'] == 'PR0861']"
      ],
      "metadata": {
        "id": "Ons86EsZKYaE"
      },
      "execution_count": null,
      "outputs": []
    },
    {
      "cell_type": "markdown",
      "source": [
        "kalau diliat emang masih baru, ambil data booking dari dataviz"
      ],
      "metadata": {
        "id": "3Xex5rsLL9uH"
      }
    },
    {
      "cell_type": "code",
      "source": [
        "pd.set_option('display.max_columns', None)\n",
        "final_df[final_df['property_id'] == 'PR0861']"
      ],
      "metadata": {
        "id": "4LhTIOsKqAxf"
      },
      "execution_count": null,
      "outputs": []
    },
    {
      "cell_type": "markdown",
      "source": [
        "### Properti PR0864"
      ],
      "metadata": {
        "id": "3j1bhpgdprdY"
      }
    },
    {
      "cell_type": "code",
      "source": [
        "pd.set_option('display.max_columns', None)\n",
        "property_asli_df[property_asli_df['property_id'] == 'PR0864']"
      ],
      "metadata": {
        "id": "3-vrMCDToG9q"
      },
      "execution_count": null,
      "outputs": []
    },
    {
      "cell_type": "markdown",
      "source": [
        "kalau diliat emang masih baru, ambil data booking dari dataviz"
      ],
      "metadata": {
        "id": "nVNz8GVXqa56"
      }
    },
    {
      "cell_type": "code",
      "source": [
        "final_df[final_df['property_id'] == 'PR0864']"
      ],
      "metadata": {
        "id": "4EW2m-p5qaTS"
      },
      "execution_count": null,
      "outputs": []
    },
    {
      "cell_type": "markdown",
      "source": [
        "### Properti PR0858"
      ],
      "metadata": {
        "id": "Ijgj4n56qeh3"
      }
    },
    {
      "cell_type": "code",
      "source": [
        "pd.set_option('display.max_columns', None)\n",
        "property_asli_df[property_asli_df['property_id'] == 'PR0858']"
      ],
      "metadata": {
        "id": "-Ip0fDhKql2Z"
      },
      "execution_count": null,
      "outputs": []
    },
    {
      "cell_type": "markdown",
      "source": [
        "kalau diliat emang masih baru, ambil data booking dari dataviz"
      ],
      "metadata": {
        "id": "e66XCzUMq2C2"
      }
    },
    {
      "cell_type": "code",
      "source": [],
      "metadata": {
        "id": "oSY9sE4mq1Yg"
      },
      "execution_count": null,
      "outputs": []
    },
    {
      "cell_type": "markdown",
      "source": [
        "### Properti PR0728"
      ],
      "metadata": {
        "id": "QbLvDbbOq3Ev"
      }
    },
    {
      "cell_type": "code",
      "source": [
        "pd.set_option('display.max_columns', None)\n",
        "property_asli_df[property_asli_df['property_id'] == 'PR0728']"
      ],
      "metadata": {
        "id": "v3dd4hJpq5TV"
      },
      "execution_count": null,
      "outputs": []
    },
    {
      "cell_type": "markdown",
      "source": [
        "data bookingnya ada semua tapi kenapa hasil di booking unit gaada? coba cek di booking.csv"
      ],
      "metadata": {
        "id": "AD0asixkrZIA"
      }
    },
    {
      "cell_type": "code",
      "source": [
        "final_df[final_df['property_id'] == 'PR0728']"
      ],
      "metadata": {
        "id": "lO_RIUcysKNX"
      },
      "execution_count": null,
      "outputs": []
    },
    {
      "cell_type": "code",
      "source": [
        "# Mengubah nilai price_per_day untuk unit_id == UN3107\n",
        "final_df.loc[final_df['unit_id'] == 'UN3105', 'price_per_day'] = 863333.333\n",
        "\n",
        "# Menampilkan baris yang sudah diperbarui untuk verifikasi\n",
        "final_df[final_df['unit_id'] == 'UN3105']"
      ],
      "metadata": {
        "id": "LAWgH4l3vJZ7"
      },
      "execution_count": null,
      "outputs": []
    },
    {
      "cell_type": "markdown",
      "source": [
        "### Properti PR0781"
      ],
      "metadata": {
        "id": "SFPaHzz3rrfY"
      }
    },
    {
      "cell_type": "code",
      "source": [
        "pd.set_option('display.max_columns', None)\n",
        "property_asli_df[property_asli_df['property_id'] == 'PR0781']"
      ],
      "metadata": {
        "id": "al7yJdARre5X"
      },
      "execution_count": null,
      "outputs": []
    },
    {
      "cell_type": "markdown",
      "source": [
        "data bookingnya ada semua tapi kenapa hasil di booking unit gaada? coba cek di booking.csv"
      ],
      "metadata": {
        "id": "qWNIXzlVsJMw"
      }
    },
    {
      "cell_type": "code",
      "source": [
        "final_df[final_df['property_id'] == 'PR0781']"
      ],
      "metadata": {
        "id": "AF9w-wHbelSX"
      },
      "execution_count": null,
      "outputs": []
    },
    {
      "cell_type": "markdown",
      "source": [
        "Upstairs Double 1,2,3,4 ga pernah ada data bookingnya. dia masih available ga untuk dibooking? tapi status unitnya 1"
      ],
      "metadata": {
        "id": "NUBVC_FjfNnW"
      }
    },
    {
      "cell_type": "code",
      "source": [
        "pd.set_option('display.max_columns', None)\n",
        "final_df[(final_df['property_id'] == 'PR0781') & final_df.isna().any(axis=1)]"
      ],
      "metadata": {
        "id": "cQ0mMQFYbNdI"
      },
      "execution_count": null,
      "outputs": []
    },
    {
      "cell_type": "code",
      "source": [
        "# Mengubah nilai price_per_day untuk unit_id == UN3107\n",
        "final_df.loc[final_df['unit_id'] == 'UN3107', 'price_per_day'] = 520000\n",
        "\n",
        "# Menampilkan baris yang sudah diperbarui untuk verifikasi\n",
        "final_df[final_df['unit_id'] == 'UN3107']"
      ],
      "metadata": {
        "id": "UF2AHuRirpI1"
      },
      "execution_count": null,
      "outputs": []
    },
    {
      "cell_type": "code",
      "source": [
        "# Mengubah nilai price_per_day untuk unit_id == UN3107\n",
        "final_df.loc[final_df['unit_id'] == 'UN3106', 'price_per_day'] = 520000\n",
        "\n",
        "# Menampilkan baris yang sudah diperbarui untuk verifikasi\n",
        "final_df[final_df['unit_id'] == 'UN3106']"
      ],
      "metadata": {
        "id": "orheLUM1rxCT"
      },
      "execution_count": null,
      "outputs": []
    },
    {
      "cell_type": "code",
      "source": [
        "# Mengubah nilai price_per_day untuk unit_id == UN3107\n",
        "final_df.loc[final_df['unit_id'] == 'UN3108', 'price_per_day'] = 520000\n",
        "\n",
        "# Menampilkan baris yang sudah diperbarui untuk verifikasi\n",
        "final_df[final_df['unit_id'] == 'UN3108']"
      ],
      "metadata": {
        "id": "rTQDJVkCr3jm"
      },
      "execution_count": null,
      "outputs": []
    },
    {
      "cell_type": "code",
      "source": [
        "# Mengubah nilai price_per_day untuk unit_id == UN3107\n",
        "final_df.loc[final_df['unit_id'] == 'UN3109', 'price_per_day'] = 520000\n",
        "\n",
        "# Menampilkan baris yang sudah diperbarui untuk verifikasi\n",
        "final_df[final_df['unit_id'] == 'UN3109']"
      ],
      "metadata": {
        "id": "EEhBFLGdr7G2"
      },
      "execution_count": null,
      "outputs": []
    },
    {
      "cell_type": "code",
      "source": [
        "pd.set_option('display.max_columns', None)\n",
        "final_df[(final_df['property_id'] == 'PR0781') & final_df.isna().any(axis=1)]"
      ],
      "metadata": {
        "id": "Dg8jN0OFr_xO"
      },
      "execution_count": null,
      "outputs": []
    },
    {
      "cell_type": "markdown",
      "source": [
        "# final"
      ],
      "metadata": {
        "id": "sMgV0_dguAgS"
      }
    },
    {
      "cell_type": "code",
      "source": [
        "final_df[final_df.isna().any(axis=1)]"
      ],
      "metadata": {
        "id": "efkLXkEZt-oc"
      },
      "execution_count": null,
      "outputs": []
    },
    {
      "cell_type": "code",
      "source": [
        "final_df.isna().sum()"
      ],
      "metadata": {
        "id": "KdScyEkEuOC_"
      },
      "execution_count": null,
      "outputs": []
    },
    {
      "cell_type": "code",
      "source": [
        "final_df.shape"
      ],
      "metadata": {
        "id": "yrohipk1Jy7Y"
      },
      "execution_count": null,
      "outputs": []
    },
    {
      "cell_type": "code",
      "source": [
        "final_df.head()"
      ],
      "metadata": {
        "id": "x0AZyGfqKcIe"
      },
      "execution_count": null,
      "outputs": []
    },
    {
      "cell_type": "code",
      "source": [
        "final_df.describe()"
      ],
      "metadata": {
        "id": "Hy6Bms3SNJ25"
      },
      "execution_count": null,
      "outputs": []
    },
    {
      "cell_type": "markdown",
      "source": [
        "## isi data total guest capacity"
      ],
      "metadata": {
        "id": "PFLvCqjuc3XC"
      }
    },
    {
      "cell_type": "code",
      "source": [
        "(final_df['total_guest_capacity'] == 0.0).sum()"
      ],
      "metadata": {
        "id": "gy_qssL1dDpc"
      },
      "execution_count": null,
      "outputs": []
    },
    {
      "cell_type": "code",
      "source": [
        "final_df[final_df['total_guest_capacity'] == 0.0]"
      ],
      "metadata": {
        "id": "xr1Vx2VXcypA"
      },
      "execution_count": null,
      "outputs": []
    },
    {
      "cell_type": "code",
      "source": [
        "final_df[final_df['property_id'] == 'PR0254']"
      ],
      "metadata": {
        "id": "77TBsPfOdW54"
      },
      "execution_count": null,
      "outputs": []
    },
    {
      "cell_type": "code",
      "source": [
        "# Mengubah nilai pada baris dengan property_id == 'PR0254'\n",
        "final_df.loc[final_df['property_id'] == 'PR0254', ['total_guest_capacity', 'bathroom', 'beds']] = [2, 1, 1]\n",
        "\n",
        "# Menampilkan hasil untuk memeriksa perubahan\n",
        "final_df[final_df['property_id'] == 'PR0254']"
      ],
      "metadata": {
        "id": "OW4kIzVreQER"
      },
      "execution_count": null,
      "outputs": []
    },
    {
      "cell_type": "code",
      "source": [
        "property_asli_df[property_asli_df['property_id'] == 'PR0575']"
      ],
      "metadata": {
        "id": "ANJklZLYd9PT"
      },
      "execution_count": null,
      "outputs": []
    },
    {
      "cell_type": "code",
      "source": [
        "final_df.loc[final_df['property_id'] == 'PR0093', 'total_guest_capacity'] = 5"
      ],
      "metadata": {
        "id": "7rzRT2LBg7zG"
      },
      "execution_count": null,
      "outputs": []
    },
    {
      "cell_type": "code",
      "source": [
        "final_df[final_df['property_id'] == 'PR0093']"
      ],
      "metadata": {
        "id": "cAxgsuvxevtO"
      },
      "execution_count": null,
      "outputs": []
    },
    {
      "cell_type": "code",
      "source": [
        "# final_df.loc[final_df['property_id'] == 'PR0354', 'total_guest_capacity'] = 10\n",
        "# final_df.loc[final_df['property_id'] == 'PR0404', 'total_guest_capacity'] = 2\n",
        "# final_df.loc[final_df['property_id'] == 'PR0575', 'total_guest_capacity'] = 2\n",
        "# final_df.loc[final_df['property_id'] == 'PR0603', 'total_guest_capacity'] = 2"
      ],
      "metadata": {
        "id": "jdNUk2tLhIdA"
      },
      "execution_count": null,
      "outputs": []
    },
    {
      "cell_type": "code",
      "source": [
        "# Mengisi kolom 'total_guest_capacity' dengan beds * 2 pada baris yang memiliki 'total_guest_capacity' sama dengan 0.0\n",
        "final_df.loc[final_df['total_guest_capacity'] == 0.0, 'total_guest_capacity'] = final_df['beds'] * 2\n",
        "\n",
        "# Menampilkan baris yang telah diperbarui untuk memastikan perubahan\n",
        "final_df[final_df['total_guest_capacity'] == 0.0]"
      ],
      "metadata": {
        "id": "fpQPqSDDkvPK"
      },
      "execution_count": null,
      "outputs": []
    },
    {
      "cell_type": "code",
      "source": [
        "final_df.describe()"
      ],
      "metadata": {
        "id": "1huCoAbZlgg-"
      },
      "execution_count": null,
      "outputs": []
    },
    {
      "cell_type": "code",
      "source": [
        "final_df[final_df['beds'] == 0.0]"
      ],
      "metadata": {
        "id": "faZhfq9Cltv3"
      },
      "execution_count": null,
      "outputs": []
    },
    {
      "cell_type": "code",
      "source": [
        "final_df.loc[final_df['beds'] == 0.0, 'beds'] = final_df['bedroom']\n",
        "final_df[final_df['beds'] == 0.0]"
      ],
      "metadata": {
        "id": "dE6UDT2ymwrm"
      },
      "execution_count": null,
      "outputs": []
    },
    {
      "cell_type": "code",
      "source": [
        "final_df[final_df['bathroom'] == 0.0]"
      ],
      "metadata": {
        "id": "Kr2lkqRwmHG4"
      },
      "execution_count": null,
      "outputs": []
    },
    {
      "cell_type": "code",
      "source": [
        "final_df.loc[final_df['bathroom'] == 0.0, 'bathroom'] = final_df['bedroom']\n",
        "final_df[final_df['bathroom'] == 0.0]"
      ],
      "metadata": {
        "id": "qYjwE0WHm2oH"
      },
      "execution_count": null,
      "outputs": []
    },
    {
      "cell_type": "code",
      "source": [
        "final_df.describe()"
      ],
      "metadata": {
        "id": "BDuoiayMm_22"
      },
      "execution_count": null,
      "outputs": []
    },
    {
      "cell_type": "code",
      "source": [
        "final_df.info()"
      ],
      "metadata": {
        "id": "P16f4j1hVDa0"
      },
      "execution_count": null,
      "outputs": []
    },
    {
      "cell_type": "markdown",
      "source": [
        "## drop kolom yang tidak dipakai clustering"
      ],
      "metadata": {
        "id": "fY5fIPWjcllh"
      }
    },
    {
      "cell_type": "code",
      "source": [
        "final_df = final_df.drop(columns=['status'])\n",
        "final_df.describe()"
      ],
      "metadata": {
        "id": "BuHTrLkkNN37"
      },
      "execution_count": null,
      "outputs": []
    },
    {
      "cell_type": "code",
      "source": [
        "final_df = final_df.drop(columns=['property_status'])\n",
        "final_df.describe()"
      ],
      "metadata": {
        "id": "eex5leirSCYj"
      },
      "execution_count": null,
      "outputs": []
    },
    {
      "cell_type": "code",
      "source": [
        "final_df = final_df.drop(columns=['unit_type_id'])\n",
        "final_df.describe()"
      ],
      "metadata": {
        "id": "a3Ds4gq9Y0Lo"
      },
      "execution_count": null,
      "outputs": []
    },
    {
      "cell_type": "code",
      "source": [
        "final_df = final_df.drop(columns=['area_id'])\n",
        "final_df.describe()"
      ],
      "metadata": {
        "id": "ulBKUhe0Y_lg"
      },
      "execution_count": null,
      "outputs": []
    },
    {
      "cell_type": "code",
      "source": [
        "# final_df['area_id_num'].unique()"
      ],
      "metadata": {
        "id": "saqmWoNXSsjw"
      },
      "execution_count": null,
      "outputs": []
    },
    {
      "cell_type": "code",
      "source": [
        "# final_df = final_df.drop(columns=['area_squad'])\n",
        "# final_df.describe()"
      ],
      "metadata": {
        "id": "qcGVixMHunzL"
      },
      "execution_count": null,
      "outputs": []
    },
    {
      "cell_type": "code",
      "source": [
        "# final_df = final_df.drop(columns=['area_id_num'])\n",
        "# final_df.describe()"
      ],
      "metadata": {
        "id": "9s54SVMzuyHA"
      },
      "execution_count": null,
      "outputs": []
    },
    {
      "cell_type": "code",
      "source": [
        "# area_to_regency = {\n",
        "#     'Kintamani': 1,\n",
        "#     'Caturtunggal': 10,\n",
        "#     'Karangasem': 4,\n",
        "#     'Umalas' :8,\n",
        "#     'Pererenan' : 9,\n",
        "#     'Singaraja' : 2,\n",
        "#     'Tabanan' : 6,\n",
        "#     'Kerobokan' : 8,\n",
        "#     'Nusa Ceningan' : 5,\n",
        "#     'Pecatu' : 10,\n",
        "#     'Mengwi' : 9,\n",
        "#     'Seminyak' : 8,\n",
        "#     'Sanur' : 7,\n",
        "#     'Bingin' : 10,\n",
        "#     'Jimbaran' : 10,\n",
        "#     'Ungasan' : 10,\n",
        "#     'Uluwatu' : 10,\n",
        "#     'Nusa Dua' : 10,\n",
        "#     'Canggu' : 8,\n",
        "#     'Ngupasan' : 11,\n",
        "#     'Padang Padang' : 10,\n",
        "#     'Nusa Penida' : 5,\n",
        "#     'Ubud' : 3,\n",
        "#     'Kutuh' : 10,\n",
        "#     'Sinduadi' : 11,\n",
        "#     'Timbulharjo' : 11,\n",
        "# }\n",
        "\n",
        "# final_df['area_regency_city'] = final_df['area_name'].map(area_to_regency)"
      ],
      "metadata": {
        "id": "dHyBLkMXHDIY"
      },
      "execution_count": null,
      "outputs": []
    },
    {
      "cell_type": "markdown",
      "source": [
        "## buat kolom area to agency"
      ],
      "metadata": {
        "id": "Fy5g88u1cQRW"
      }
    },
    {
      "cell_type": "markdown",
      "source": [
        "analisis regency tabanan, sanur, singasari karena propertinya 1 di tiap daerah\n",
        "\n",
        "tabanan (6) -> mengwi, pererenan (9) jarak 8km dan 15km\n",
        "\n",
        "singaraja (2) -> kintamani (1) jarak 50km gada yg lbih deket lagi:(\n",
        "\n",
        "sanur (7) -> kuta utara, kuta (8) (seminyak 15 km, umalas 16 km,  kerobokan 19 km, canggu 21 km)"
      ],
      "metadata": {
        "id": "1K43uZ56Gw3d"
      }
    },
    {
      "cell_type": "code",
      "source": [
        "area_to_regency = {\n",
        "    'Kintamani': 1,\n",
        "    'Caturtunggal': 11,\n",
        "    'Karangasem': 4,\n",
        "    'Umalas' :8,\n",
        "    'Pererenan' : 9,\n",
        "    'Singaraja' : 1,\n",
        "    'Tabanan' : 9,\n",
        "    'Kerobokan' : 8,\n",
        "    'Nusa Ceningan' : 5,\n",
        "    'Pecatu' : 10,\n",
        "    'Mengwi' : 9,\n",
        "    'Seminyak' : 8,\n",
        "    'Sanur' : 8,\n",
        "    'Bingin' : 10,\n",
        "    'Jimbaran' : 10,\n",
        "    'Ungasan' : 10,\n",
        "    'Uluwatu' : 10,\n",
        "    'Nusa Dua' : 10,\n",
        "    'Canggu' : 8,\n",
        "    'Ngupasan' : 11,\n",
        "    'Padang Padang' : 10,\n",
        "    'Nusa Penida' : 5,\n",
        "    'Ubud' : 3,\n",
        "    'Kutuh' : 10,\n",
        "    'Sinduadi' : 11,\n",
        "    'Timbulharjo' : 11,\n",
        "}\n",
        "\n",
        "final_df['area_regency_city'] = final_df['area_name'].map(area_to_regency)"
      ],
      "metadata": {
        "id": "2_hyC-gZ0YDD"
      },
      "execution_count": null,
      "outputs": []
    },
    {
      "cell_type": "code",
      "source": [
        "final_df[final_df['area_regency_city'] == 9]"
      ],
      "metadata": {
        "id": "511UK4FkG2xl"
      },
      "execution_count": null,
      "outputs": []
    },
    {
      "cell_type": "markdown",
      "source": [
        "mengwi lebih deket ke pererenan\n",
        "\n",
        "pererenan lebih deket ke mengwi\n",
        "\n",
        "tabanan deket ke pererenan\n"
      ],
      "metadata": {
        "id": "kYCIUDQWMAFP"
      }
    },
    {
      "cell_type": "code",
      "source": [
        "final_df.loc[final_df['area_name'] == 'Pererenan', 'area_distance_to_airport'] = 1.1\n",
        "\n",
        "# Menampilkan baris yang telah diperbarui untuk memastikan perubahan\n",
        "final_df[final_df['area_name'] == 'Pererenan']"
      ],
      "metadata": {
        "id": "TlbA2cKxJ9sH"
      },
      "execution_count": null,
      "outputs": []
    },
    {
      "cell_type": "code",
      "source": [
        "final_df[final_df['area_regency_city'] == 9]"
      ],
      "metadata": {
        "id": "OYrAxKYVKHOx"
      },
      "execution_count": null,
      "outputs": []
    },
    {
      "cell_type": "code",
      "source": [
        "final_df[final_df['area_regency_city'] == 1]"
      ],
      "metadata": {
        "id": "_bPSg8j8M5Hn"
      },
      "execution_count": null,
      "outputs": []
    },
    {
      "cell_type": "code",
      "source": [
        "final_df.loc[final_df['area_name'] == 'Singaraja', 'area_distance_to_airport'] = 2.7\n",
        "\n",
        "# Menampilkan baris yang telah diperbarui untuk memastikan perubahan\n",
        "final_df[final_df['area_name'] == 'Singaraja']"
      ],
      "metadata": {
        "id": "nfgwPjfXVRdw"
      },
      "execution_count": null,
      "outputs": []
    },
    {
      "cell_type": "code",
      "source": [
        "final_df[final_df['area_regency_city'] == 1]"
      ],
      "metadata": {
        "id": "6Kft0b_YVZql"
      },
      "execution_count": null,
      "outputs": []
    },
    {
      "cell_type": "code",
      "source": [
        "final_df[final_df['area_regency_city'] == 8]"
      ],
      "metadata": {
        "id": "7-PZmE7xWN0c"
      },
      "execution_count": null,
      "outputs": []
    },
    {
      "cell_type": "code",
      "source": [
        "# Memfilter DataFrame dengan 'area_regency_city' == 8\n",
        "filtered_df = final_df[final_df['area_regency_city'] == 8]\n",
        "\n",
        "# Menghapus duplikat berdasarkan 'area_name', sehingga hanya menyisakan satu baris untuk setiap 'area_name'\n",
        "unique_area_name_df = filtered_df.drop_duplicates(subset=['area_name'])\n",
        "\n",
        "# Menampilkan hasil\n",
        "unique_area_name_df\n"
      ],
      "metadata": {
        "id": "G1Rt3aJON1A2"
      },
      "execution_count": null,
      "outputs": []
    },
    {
      "cell_type": "code",
      "source": [
        "final_df.loc[final_df['area_name'] == 'Umalas', 'area_distance_to_airport'] = 0.8\n",
        "\n",
        "# Menampilkan baris yang telah diperbarui untuk memastikan perubahan\n",
        "final_df[final_df['area_name'] == 'Umalas']"
      ],
      "metadata": {
        "id": "H05ugp0ObYsw"
      },
      "execution_count": null,
      "outputs": []
    },
    {
      "cell_type": "code",
      "source": [
        "final_df.loc[final_df['area_name'] == 'Canggu', 'area_distance_to_airport'] = 0.9\n",
        "\n",
        "# Menampilkan baris yang telah diperbarui untuk memastikan perubahan\n",
        "final_df[final_df['area_name'] == 'Canggu']"
      ],
      "metadata": {
        "id": "mVPj4B5lbv3r"
      },
      "execution_count": null,
      "outputs": []
    },
    {
      "cell_type": "code",
      "source": [
        "final_df.loc[final_df['area_name'] == 'Kerobokan', 'area_distance_to_airport'] = 0.77\n",
        "\n",
        "# Menampilkan baris yang telah diperbarui untuk memastikan perubahan\n",
        "final_df[final_df['area_name'] == 'Kerobokan']"
      ],
      "metadata": {
        "id": "vGBF1Ad9b1J0"
      },
      "execution_count": null,
      "outputs": []
    },
    {
      "cell_type": "code",
      "source": [
        "final_df.loc[final_df['area_name'] == 'Sanur', 'area_distance_to_airport'] = 0.7\n",
        "\n",
        "# Menampilkan baris yang telah diperbarui untuk memastikan perubahan\n",
        "final_df[final_df['area_name'] == 'Sanur']"
      ],
      "metadata": {
        "id": "VmpKsfjGcnWO"
      },
      "execution_count": null,
      "outputs": []
    },
    {
      "cell_type": "code",
      "source": [
        "final_df[final_df['area_name'] == 'Seminyak']"
      ],
      "metadata": {
        "id": "CA3fCLrwc9nT"
      },
      "execution_count": null,
      "outputs": []
    },
    {
      "cell_type": "markdown",
      "source": [
        "seminyak -> kerobokan 5km, umalas 4.7km, canggu 9.5 km, sanur 15km\n",
        "\n",
        "canggu -> seminyak 9.5 km, kerobokan 4.5km, umalas 6.8km, sanur 21km\n",
        "\n",
        "umalas -> seminyak 4.7km, canggu 6.8km, sanur 16km, kerobokan 2,4km\n",
        "\n",
        "kerobokan -> seminyak 5km, canggu 4.5 km, sanur 19 km, umalas 2,4km\n",
        "\n",
        "sanur -> seminyak 15 km, umalas 16 km,  kerobokan 19 km, canggu 21 km\n",
        "\n",
        "\n"
      ],
      "metadata": {
        "id": "2PmDf1oYQUWv"
      }
    },
    {
      "cell_type": "code",
      "source": [
        "# Memfilter DataFrame dengan 'area_regency_city' == 8\n",
        "filtered_df = final_df[final_df['area_regency_city'] == 8]\n",
        "\n",
        "# Menghapus duplikat berdasarkan 'area_name', sehingga hanya menyisakan satu baris untuk setiap 'area_name'\n",
        "unique_area_name_df = filtered_df.drop_duplicates(subset=['area_name'])\n",
        "\n",
        "# Menampilkan hasil\n",
        "unique_area_name_df\n"
      ],
      "metadata": {
        "id": "h3kuwdc2k0nb"
      },
      "execution_count": null,
      "outputs": []
    },
    {
      "cell_type": "markdown",
      "source": [
        "# to csv"
      ],
      "metadata": {
        "id": "KdB8xo9iHqPs"
      }
    },
    {
      "cell_type": "code",
      "source": [
        "final_df.describe()"
      ],
      "metadata": {
        "id": "zSQ5HrQ40sk-"
      },
      "execution_count": null,
      "outputs": []
    },
    {
      "cell_type": "code",
      "source": [
        "final_df.isna().sum()"
      ],
      "metadata": {
        "id": "v5ec8SKq1REl"
      },
      "execution_count": null,
      "outputs": []
    },
    {
      "cell_type": "code",
      "source": [
        "# Mengganti nama kolom 'price_per_day' menjadi 'avg_price_per_day' di final_df\n",
        "final_df.rename(columns={'price_per_day': 'avg_price_per_day'}, inplace=True)\n",
        "\n",
        "# Menampilkan beberapa baris pertama untuk memastikan perubahan\n",
        "final_df.head()"
      ],
      "metadata": {
        "id": "oI4i4wpTmqTO"
      },
      "execution_count": null,
      "outputs": []
    },
    {
      "cell_type": "code",
      "source": [
        "final_df.to_csv('final_data_new_regency.csv', index=False)"
      ],
      "metadata": {
        "id": "r5bZgDGWJqgj"
      },
      "execution_count": null,
      "outputs": []
    },
    {
      "cell_type": "code",
      "source": [
        "final_df.info()"
      ],
      "metadata": {
        "id": "htOg9-xGODfJ"
      },
      "execution_count": null,
      "outputs": []
    },
    {
      "cell_type": "code",
      "source": [],
      "metadata": {
        "id": "J-REO0MnVhcF"
      },
      "execution_count": null,
      "outputs": []
    }
  ]
}