{
  "nbformat": 4,
  "nbformat_minor": 0,
  "metadata": {
    "colab": {
      "provenance": []
    },
    "kernelspec": {
      "name": "python3",
      "display_name": "Python 3"
    },
    "language_info": {
      "name": "python"
    }
  },
  "cells": [
    {
      "cell_type": "code",
      "execution_count": null,
      "metadata": {
        "id": "7kjXRChkbR6B"
      },
      "outputs": [],
      "source": [
        "import pandas as pd\n",
        "from pathlib import Path"
      ]
    },
    {
      "cell_type": "code",
      "source": [
        "from google.colab import drive\n",
        "drive.mount('/content/drive')"
      ],
      "metadata": {
        "id": "QKYKYYgnbZLb"
      },
      "execution_count": null,
      "outputs": []
    },
    {
      "cell_type": "code",
      "source": [
        "main_dir = \"drive/MyDrive/dataset/\""
      ],
      "metadata": {
        "id": "Qen0B4bBbaj3"
      },
      "execution_count": null,
      "outputs": []
    },
    {
      "cell_type": "markdown",
      "source": [
        "# Booking Price per Unit"
      ],
      "metadata": {
        "id": "kD-a9qpxdAIc"
      }
    },
    {
      "cell_type": "code",
      "source": [
        "unit_booking_price_df = pd.read_csv(main_dir + 'unit_mean_price.csv')\n",
        "unit_booking_price_df.head()"
      ],
      "metadata": {
        "id": "Dxl4UB1xbdLw"
      },
      "execution_count": null,
      "outputs": []
    },
    {
      "cell_type": "code",
      "source": [
        "unit_booking_price_df.describe()"
      ],
      "metadata": {
        "id": "FyfPu-P3c0T2"
      },
      "execution_count": null,
      "outputs": []
    },
    {
      "cell_type": "code",
      "source": [
        "unit_booking_price_df.isna().sum()"
      ],
      "metadata": {
        "id": "8bX5iUVZgjST"
      },
      "execution_count": null,
      "outputs": []
    },
    {
      "cell_type": "code",
      "source": [
        "unit_booking_price_df.describe()"
      ],
      "metadata": {
        "id": "Jrr44K77uMgk"
      },
      "execution_count": null,
      "outputs": []
    },
    {
      "cell_type": "code",
      "source": [
        "unit_booking_price_df.shape"
      ],
      "metadata": {
        "id": "LuxVEgupc1gH"
      },
      "execution_count": null,
      "outputs": []
    },
    {
      "cell_type": "markdown",
      "source": [
        "# Clean Property Data"
      ],
      "metadata": {
        "id": "BQvnaic-dEgv"
      }
    },
    {
      "cell_type": "code",
      "source": [
        "property_df = pd.read_csv(main_dir + 'all_property.csv')\n",
        "property_df.head()"
      ],
      "metadata": {
        "id": "IXf1pihlc-l6"
      },
      "execution_count": null,
      "outputs": []
    },
    {
      "cell_type": "code",
      "source": [
        "property_df.isna().sum()"
      ],
      "metadata": {
        "id": "7TgMhzbfuCmA"
      },
      "execution_count": null,
      "outputs": []
    },
    {
      "cell_type": "code",
      "source": [
        "property_df.describe(include='all')"
      ],
      "metadata": {
        "id": "ry4IzHfBuRMX"
      },
      "execution_count": null,
      "outputs": []
    },
    {
      "cell_type": "code",
      "source": [
        "property_df.shape"
      ],
      "metadata": {
        "id": "8eMxHfMruJ35"
      },
      "execution_count": null,
      "outputs": []
    },
    {
      "cell_type": "markdown",
      "source": [
        "# Unit Data"
      ],
      "metadata": {
        "id": "TXW2iLDhew0C"
      }
    },
    {
      "cell_type": "code",
      "source": [
        "unit_df = pd.read_csv(main_dir + 'unit_merge.csv')\n",
        "unit_df.head()"
      ],
      "metadata": {
        "id": "y6EGHxEIe8xn"
      },
      "execution_count": null,
      "outputs": []
    },
    {
      "cell_type": "code",
      "source": [
        "unit_df.isna().sum()"
      ],
      "metadata": {
        "id": "u8azI8stgokS"
      },
      "execution_count": null,
      "outputs": []
    },
    {
      "cell_type": "code",
      "source": [
        "unit_df.describe(include='all')"
      ],
      "metadata": {
        "id": "b4xtcQ_qvADh"
      },
      "execution_count": null,
      "outputs": []
    },
    {
      "cell_type": "code",
      "source": [
        "# unit_df = unit_df.drop(columns=['status'])\n",
        "# unit_df.head()"
      ],
      "metadata": {
        "id": "dt4AKsBmDXuF"
      },
      "execution_count": null,
      "outputs": []
    },
    {
      "cell_type": "code",
      "source": [
        "unit_df.shape"
      ],
      "metadata": {
        "id": "8MgRU5iivCRW"
      },
      "execution_count": null,
      "outputs": []
    },
    {
      "cell_type": "markdown",
      "source": [
        "# Join"
      ],
      "metadata": {
        "id": "OYbXRLW29KVw"
      }
    },
    {
      "cell_type": "markdown",
      "source": [
        "## join harga booking dengan unit"
      ],
      "metadata": {
        "id": "TfLB5-OQ_EVk"
      }
    },
    {
      "cell_type": "code",
      "source": [
        "merged_df = unit_df.merge(unit_booking_price_df, on='unit_id', how='left')"
      ],
      "metadata": {
        "id": "e4RrUKgl9q9y"
      },
      "execution_count": null,
      "outputs": []
    },
    {
      "cell_type": "code",
      "source": [
        "merged_df.head()"
      ],
      "metadata": {
        "id": "Q2L9z0eW_NcH"
      },
      "execution_count": null,
      "outputs": []
    },
    {
      "cell_type": "code",
      "source": [
        "merged_df.info()"
      ],
      "metadata": {
        "id": "DiYcAPUJ_OXt"
      },
      "execution_count": null,
      "outputs": []
    },
    {
      "cell_type": "code",
      "source": [
        "merged_df.describe(include='all')"
      ],
      "metadata": {
        "id": "ndyojri7_Q9m"
      },
      "execution_count": null,
      "outputs": []
    },
    {
      "cell_type": "code",
      "source": [
        "merged_df.isna().sum()"
      ],
      "metadata": {
        "id": "RhewNDEW_UGz"
      },
      "execution_count": null,
      "outputs": []
    },
    {
      "cell_type": "code",
      "source": [
        "merged_df.shape"
      ],
      "metadata": {
        "id": "IaM42nRr_x57"
      },
      "execution_count": null,
      "outputs": []
    },
    {
      "cell_type": "code",
      "source": [
        "# Menampilkan data yang memiliki nilai null\n",
        "null_rows = merged_df[merged_df.isnull().any(axis=1)]\n",
        "\n",
        "# Menampilkan hasil\n",
        "print(\"Data yang memiliki nilai null pada merged_df:\")\n",
        "print(null_rows)"
      ],
      "metadata": {
        "id": "MP9BsxLV_aGi"
      },
      "execution_count": null,
      "outputs": []
    },
    {
      "cell_type": "code",
      "source": [
        "null_rows['property_id'].unique()"
      ],
      "metadata": {
        "id": "vTUHBwlSFKey"
      },
      "execution_count": null,
      "outputs": []
    },
    {
      "cell_type": "markdown",
      "source": [
        "## join merged dengan properti"
      ],
      "metadata": {
        "id": "qoBpnkxHAG-f"
      }
    },
    {
      "cell_type": "code",
      "source": [
        "final_df = pd.merge(merged_df, property_df, on='property_id', how='outer')"
      ],
      "metadata": {
        "id": "hKqce6rTACwS"
      },
      "execution_count": null,
      "outputs": []
    },
    {
      "cell_type": "code",
      "source": [
        "final_df.head()"
      ],
      "metadata": {
        "id": "vV47M8auBu5t"
      },
      "execution_count": null,
      "outputs": []
    },
    {
      "cell_type": "code",
      "source": [
        "final_df.info()"
      ],
      "metadata": {
        "id": "5TlqflhKBxIA"
      },
      "execution_count": null,
      "outputs": []
    },
    {
      "cell_type": "code",
      "source": [
        "final_df.isna().sum()"
      ],
      "metadata": {
        "id": "CiIU3dYpB2fG"
      },
      "execution_count": null,
      "outputs": []
    },
    {
      "cell_type": "code",
      "source": [
        "null_property_type_df = final_df[final_df['property_type'].isna()]\n",
        "\n",
        "# Menampilkan hasil\n",
        "print(\"Baris data yang memiliki nilai null pada kolom property_type:\")\n",
        "print(null_property_type_df)"
      ],
      "metadata": {
        "id": "Z0_b_M1tB-FL"
      },
      "execution_count": null,
      "outputs": []
    },
    {
      "cell_type": "code",
      "source": [
        "final_df.to_csv('merged_data.csv', index=False)"
      ],
      "metadata": {
        "id": "FolJViYFDp32"
      },
      "execution_count": null,
      "outputs": []
    },
    {
      "cell_type": "markdown",
      "source": [
        "# cek data properti"
      ],
      "metadata": {
        "id": "huuixHDvF-Jx"
      }
    },
    {
      "cell_type": "code",
      "source": [
        "property_asli_df = pd.read_csv(main_dir + 'property.csv')"
      ],
      "metadata": {
        "id": "lvFdSdhUGBgh"
      },
      "execution_count": null,
      "outputs": []
    },
    {
      "cell_type": "code",
      "source": [
        "property_ids = ['PR0641', 'PR0761', 'PR0861', 'PR0864', 'PR0858', 'PR0728', 'PR0781']\n",
        "\n",
        "# Mencari baris dengan property_id yang sesuai dengan daftar di atas\n",
        "property_selected_df = property_asli_df[property_asli_df['property_id'].isin(property_ids)]\n",
        "\n",
        "# Menampilkan hasil pencarian\n",
        "property_selected_df"
      ],
      "metadata": {
        "id": "iSntnD5in_tB"
      },
      "execution_count": null,
      "outputs": []
    },
    {
      "cell_type": "code",
      "source": [
        "pd.set_option('display.max_columns', None)\n",
        "property_asli_df[property_asli_df['property_id'] == 'PR0641']"
      ],
      "metadata": {
        "id": "7ZBwHT9CGJCS"
      },
      "execution_count": null,
      "outputs": []
    },
    {
      "cell_type": "code",
      "source": [
        "pd.reset_option('display.max_columns')"
      ],
      "metadata": {
        "id": "GMDz3qCrHSlX"
      },
      "execution_count": null,
      "outputs": []
    },
    {
      "cell_type": "markdown",
      "source": [
        "properti status == 2 tapi unit status == 1 jadi dia udah join bukit vista? tapi judul properti namenya TEST VILLA?"
      ],
      "metadata": {
        "id": "A2EV7mspGoga"
      }
    },
    {
      "cell_type": "code",
      "source": [
        "#drop data property == PR0641\n",
        "final_df = final_df[final_df['property_id'] != 'PR0641']"
      ],
      "metadata": {
        "id": "m86rAxa6nwLQ"
      },
      "execution_count": null,
      "outputs": []
    },
    {
      "cell_type": "code",
      "source": [
        "final_df.isna().sum()"
      ],
      "metadata": {
        "id": "eZLz0_g4pNlL"
      },
      "execution_count": null,
      "outputs": []
    },
    {
      "cell_type": "markdown",
      "source": [
        "## cek properti untuk cari harga booking"
      ],
      "metadata": {
        "id": "Hh_yJStOHzOB"
      }
    },
    {
      "cell_type": "markdown",
      "source": [
        "### properti PR0761"
      ],
      "metadata": {
        "id": "jdZrPdCgLWz8"
      }
    },
    {
      "cell_type": "code",
      "source": [
        "pd.set_option('display.max_columns', None)\n",
        "property_asli_df[property_asli_df['property_id'] == 'PR0761']"
      ],
      "metadata": {
        "id": "fHzvg_-uH3uY"
      },
      "execution_count": null,
      "outputs": []
    },
    {
      "cell_type": "markdown",
      "source": [
        "test purpose??? aku cari di BigRR Acala Hostel ini dari januari 2023 gaada booking sama sekali, kenapa? apa dia masih mitra dan masih beroperasi? aku coba di traveloka dkk dia juga gaada kamar yang tersedia jadi gabisa ambil harganya. tapi properti status sama unitnya masih == 1"
      ],
      "metadata": {
        "id": "EQrjt8u8JsaZ"
      }
    },
    {
      "cell_type": "code",
      "source": [
        "pd.set_option('display.max_columns', None)\n",
        "property_asli_df[property_asli_df['property_name'].str.contains('acala', case=False, na=False)]"
      ],
      "metadata": {
        "id": "FpkAGHB_JR6u"
      },
      "execution_count": null,
      "outputs": []
    },
    {
      "cell_type": "code",
      "source": [
        "#drop data property == PR0761\n",
        "final_df = final_df[final_df['property_id'] != 'PR0761']"
      ],
      "metadata": {
        "id": "XjdU-E5kpXup"
      },
      "execution_count": null,
      "outputs": []
    },
    {
      "cell_type": "code",
      "source": [
        "final_df.isna().sum()"
      ],
      "metadata": {
        "id": "PKudrR3DpeFb"
      },
      "execution_count": null,
      "outputs": []
    },
    {
      "cell_type": "markdown",
      "source": [
        "### Properti PR0861"
      ],
      "metadata": {
        "id": "wXn8H7gkLaxO"
      }
    },
    {
      "cell_type": "code",
      "source": [
        "pd.set_option('display.max_columns', None)\n",
        "property_asli_df[property_asli_df['property_id'] == 'PR0861']"
      ],
      "metadata": {
        "id": "Ons86EsZKYaE"
      },
      "execution_count": null,
      "outputs": []
    },
    {
      "cell_type": "markdown",
      "source": [
        "kalau diliat emang masih baru, ambil data booking dari dataviz"
      ],
      "metadata": {
        "id": "3Xex5rsLL9uH"
      }
    },
    {
      "cell_type": "code",
      "source": [
        "pd.set_option('display.max_columns', None)\n",
        "final_df[final_df['property_id'] == 'PR0861']"
      ],
      "metadata": {
        "id": "4LhTIOsKqAxf"
      },
      "execution_count": null,
      "outputs": []
    },
    {
      "cell_type": "markdown",
      "source": [
        "### Properti PR0864"
      ],
      "metadata": {
        "id": "3j1bhpgdprdY"
      }
    },
    {
      "cell_type": "code",
      "source": [
        "pd.set_option('display.max_columns', None)\n",
        "property_asli_df[property_asli_df['property_id'] == 'PR0864']"
      ],
      "metadata": {
        "id": "3-vrMCDToG9q"
      },
      "execution_count": null,
      "outputs": []
    },
    {
      "cell_type": "markdown",
      "source": [
        "kalau diliat emang masih baru, ambil data booking dari dataviz"
      ],
      "metadata": {
        "id": "nVNz8GVXqa56"
      }
    },
    {
      "cell_type": "code",
      "source": [
        "final_df[final_df['property_id'] == 'PR0864']"
      ],
      "metadata": {
        "id": "4EW2m-p5qaTS"
      },
      "execution_count": null,
      "outputs": []
    },
    {
      "cell_type": "markdown",
      "source": [
        "### Properti PR0858"
      ],
      "metadata": {
        "id": "Ijgj4n56qeh3"
      }
    },
    {
      "cell_type": "code",
      "source": [
        "pd.set_option('display.max_columns', None)\n",
        "property_asli_df[property_asli_df['property_id'] == 'PR0858']"
      ],
      "metadata": {
        "id": "-Ip0fDhKql2Z"
      },
      "execution_count": null,
      "outputs": []
    },
    {
      "cell_type": "markdown",
      "source": [
        "kalau diliat emang masih baru, ambil data booking dari dataviz"
      ],
      "metadata": {
        "id": "e66XCzUMq2C2"
      }
    },
    {
      "cell_type": "code",
      "source": [],
      "metadata": {
        "id": "oSY9sE4mq1Yg"
      },
      "execution_count": null,
      "outputs": []
    },
    {
      "cell_type": "markdown",
      "source": [
        "### Properti PR0728"
      ],
      "metadata": {
        "id": "QbLvDbbOq3Ev"
      }
    },
    {
      "cell_type": "code",
      "source": [
        "pd.set_option('display.max_columns', None)\n",
        "property_asli_df[property_asli_df['property_id'] == 'PR0728']"
      ],
      "metadata": {
        "id": "v3dd4hJpq5TV"
      },
      "execution_count": null,
      "outputs": []
    },
    {
      "cell_type": "markdown",
      "source": [
        "data bookingnya ada semua tapi kenapa hasil di booking unit gaada? coba cek di booking.csv"
      ],
      "metadata": {
        "id": "AD0asixkrZIA"
      }
    },
    {
      "cell_type": "code",
      "source": [
        "final_df[final_df['property_id'] == 'PR0728']"
      ],
      "metadata": {
        "id": "lO_RIUcysKNX"
      },
      "execution_count": null,
      "outputs": []
    },
    {
      "cell_type": "code",
      "source": [
        "# Mengubah nilai price_per_day untuk unit_id == UN3107\n",
        "final_df.loc[final_df['unit_id'] == 'UN3105', 'price_per_day'] = 863333.333\n",
        "\n",
        "# Menampilkan baris yang sudah diperbarui untuk verifikasi\n",
        "final_df[final_df['unit_id'] == 'UN3105']"
      ],
      "metadata": {
        "id": "LAWgH4l3vJZ7"
      },
      "execution_count": null,
      "outputs": []
    },
    {
      "cell_type": "markdown",
      "source": [
        "### Properti PR0781"
      ],
      "metadata": {
        "id": "SFPaHzz3rrfY"
      }
    },
    {
      "cell_type": "code",
      "source": [
        "pd.set_option('display.max_columns', None)\n",
        "property_asli_df[property_asli_df['property_id'] == 'PR0781']"
      ],
      "metadata": {
        "id": "al7yJdARre5X"
      },
      "execution_count": null,
      "outputs": []
    },
    {
      "cell_type": "markdown",
      "source": [
        "data bookingnya ada semua tapi kenapa hasil di booking unit gaada? coba cek di booking.csv"
      ],
      "metadata": {
        "id": "qWNIXzlVsJMw"
      }
    },
    {
      "cell_type": "code",
      "source": [
        "final_df[final_df['property_id'] == 'PR0781']"
      ],
      "metadata": {
        "id": "AF9w-wHbelSX"
      },
      "execution_count": null,
      "outputs": []
    },
    {
      "cell_type": "markdown",
      "source": [
        "Upstairs Double 1,2,3,4 ga pernah ada data bookingnya. dia masih available ga untuk dibooking? tapi status unitnya 1"
      ],
      "metadata": {
        "id": "NUBVC_FjfNnW"
      }
    },
    {
      "cell_type": "code",
      "source": [
        "pd.set_option('display.max_columns', None)\n",
        "final_df[(final_df['property_id'] == 'PR0781') & final_df.isna().any(axis=1)]"
      ],
      "metadata": {
        "id": "cQ0mMQFYbNdI"
      },
      "execution_count": null,
      "outputs": []
    },
    {
      "cell_type": "code",
      "source": [
        "# Mengubah nilai price_per_day untuk unit_id == UN3107\n",
        "final_df.loc[final_df['unit_id'] == 'UN3107', 'price_per_day'] = 520000\n",
        "\n",
        "# Menampilkan baris yang sudah diperbarui untuk verifikasi\n",
        "final_df[final_df['unit_id'] == 'UN3107']"
      ],
      "metadata": {
        "id": "UF2AHuRirpI1"
      },
      "execution_count": null,
      "outputs": []
    },
    {
      "cell_type": "code",
      "source": [
        "# Mengubah nilai price_per_day untuk unit_id == UN3107\n",
        "final_df.loc[final_df['unit_id'] == 'UN3106', 'price_per_day'] = 520000\n",
        "\n",
        "# Menampilkan baris yang sudah diperbarui untuk verifikasi\n",
        "final_df[final_df['unit_id'] == 'UN3106']"
      ],
      "metadata": {
        "id": "orheLUM1rxCT"
      },
      "execution_count": null,
      "outputs": []
    },
    {
      "cell_type": "code",
      "source": [
        "# Mengubah nilai price_per_day untuk unit_id == UN3107\n",
        "final_df.loc[final_df['unit_id'] == 'UN3108', 'price_per_day'] = 520000\n",
        "\n",
        "# Menampilkan baris yang sudah diperbarui untuk verifikasi\n",
        "final_df[final_df['unit_id'] == 'UN3108']"
      ],
      "metadata": {
        "id": "rTQDJVkCr3jm"
      },
      "execution_count": null,
      "outputs": []
    },
    {
      "cell_type": "code",
      "source": [
        "# Mengubah nilai price_per_day untuk unit_id == UN3107\n",
        "final_df.loc[final_df['unit_id'] == 'UN3109', 'price_per_day'] = 520000\n",
        "\n",
        "# Menampilkan baris yang sudah diperbarui untuk verifikasi\n",
        "final_df[final_df['unit_id'] == 'UN3109']"
      ],
      "metadata": {
        "id": "EEhBFLGdr7G2"
      },
      "execution_count": null,
      "outputs": []
    },
    {
      "cell_type": "code",
      "source": [
        "pd.set_option('display.max_columns', None)\n",
        "final_df[(final_df['property_id'] == 'PR0781') & final_df.isna().any(axis=1)]"
      ],
      "metadata": {
        "id": "Dg8jN0OFr_xO"
      },
      "execution_count": null,
      "outputs": []
    },
    {
      "cell_type": "markdown",
      "source": [
        "# final"
      ],
      "metadata": {
        "id": "sMgV0_dguAgS"
      }
    },
    {
      "cell_type": "code",
      "source": [
        "final_df[final_df.isna().any(axis=1)]"
      ],
      "metadata": {
        "id": "efkLXkEZt-oc"
      },
      "execution_count": null,
      "outputs": []
    },
    {
      "cell_type": "code",
      "source": [
        "final_df.isna().sum()"
      ],
      "metadata": {
        "id": "KdScyEkEuOC_"
      },
      "execution_count": null,
      "outputs": []
    },
    {
      "cell_type": "code",
      "source": [
        "final_df.shape"
      ],
      "metadata": {
        "id": "yrohipk1Jy7Y"
      },
      "execution_count": null,
      "outputs": []
    },
    {
      "cell_type": "code",
      "source": [
        "final_df.head()"
      ],
      "metadata": {
        "id": "x0AZyGfqKcIe"
      },
      "execution_count": null,
      "outputs": []
    },
    {
      "cell_type": "code",
      "source": [
        "final_df.to_csv('all_data.csv', index=False)\n"
      ],
      "metadata": {
        "id": "r5bZgDGWJqgj"
      },
      "execution_count": null,
      "outputs": []
    }
  ]
}