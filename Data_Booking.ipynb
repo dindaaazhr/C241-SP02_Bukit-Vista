{
  "nbformat": 4,
  "nbformat_minor": 0,
  "metadata": {
    "colab": {
      "provenance": []
    },
    "kernelspec": {
      "name": "python3",
      "display_name": "Python 3"
    },
    "language_info": {
      "name": "python"
    }
  },
  "cells": [
    {
      "cell_type": "code",
      "execution_count": null,
      "metadata": {
        "id": "qqCk0TbUfIlb"
      },
      "outputs": [],
      "source": [
        "import pandas as pd\n",
        "from pathlib import Path"
      ]
    },
    {
      "cell_type": "code",
      "source": [
        "from google.colab import drive\n",
        "drive.mount('/content/drive')"
      ],
      "metadata": {
        "id": "kRFchgl-fP8v"
      },
      "execution_count": null,
      "outputs": []
    },
    {
      "cell_type": "code",
      "source": [
        "main_dir = \"drive/MyDrive/dataset/\""
      ],
      "metadata": {
        "id": "oGtapQ79fc0V"
      },
      "execution_count": null,
      "outputs": []
    },
    {
      "cell_type": "code",
      "source": [
        "booking_status_df = pd.read_csv(main_dir + 'booking_status.csv')\n",
        "booking_status_df.head()"
      ],
      "metadata": {
        "id": "XxNIzSUUlE2S"
      },
      "execution_count": null,
      "outputs": []
    },
    {
      "cell_type": "code",
      "source": [
        "booking_status_df.info()"
      ],
      "metadata": {
        "id": "672Z2t4emMnD"
      },
      "execution_count": null,
      "outputs": []
    },
    {
      "cell_type": "code",
      "source": [
        "booking_to_units_df = pd.read_csv(main_dir + 'booking_to_units.csv')\n",
        "booking_to_units_df.head()"
      ],
      "metadata": {
        "id": "pX0-wqrELRVK"
      },
      "execution_count": null,
      "outputs": []
    },
    {
      "cell_type": "code",
      "source": [
        "booking_to_units_df.info()"
      ],
      "metadata": {
        "id": "3-YZoNAhLeBW"
      },
      "execution_count": null,
      "outputs": []
    },
    {
      "cell_type": "code",
      "source": [
        "booking_to_units_df.isna().sum()"
      ],
      "metadata": {
        "id": "s5YWFHYuLi0S"
      },
      "execution_count": null,
      "outputs": []
    },
    {
      "cell_type": "code",
      "source": [
        "booking_to_units_df.describe()"
      ],
      "metadata": {
        "id": "RXdi8Yi0o3wO"
      },
      "execution_count": null,
      "outputs": []
    },
    {
      "cell_type": "code",
      "source": [
        "booking_df = pd.read_csv(main_dir + 'booking.csv')\n",
        "booking_df.head()"
      ],
      "metadata": {
        "id": "616Vk3oQMJv5"
      },
      "execution_count": null,
      "outputs": []
    },
    {
      "cell_type": "code",
      "source": [
        "booking_df.info()"
      ],
      "metadata": {
        "id": "Ev7MqIFuMYFE"
      },
      "execution_count": null,
      "outputs": []
    },
    {
      "cell_type": "code",
      "source": [
        "booking_df.describe(include='all')"
      ],
      "metadata": {
        "id": "x5XLWyGyg0Bj"
      },
      "execution_count": null,
      "outputs": []
    },
    {
      "cell_type": "code",
      "source": [
        "booking_df.isna().sum()"
      ],
      "metadata": {
        "id": "ZE5q8_6xMfmK"
      },
      "execution_count": null,
      "outputs": []
    },
    {
      "cell_type": "code",
      "source": [
        "channel_df = pd.read_csv(main_dir + 'channel.csv')\n",
        "channel_df"
      ],
      "metadata": {
        "id": "HI66k76ClSzr"
      },
      "execution_count": null,
      "outputs": []
    },
    {
      "cell_type": "code",
      "source": [
        "channel_df.info()"
      ],
      "metadata": {
        "id": "KTwwnolxmTIe"
      },
      "execution_count": null,
      "outputs": []
    },
    {
      "cell_type": "code",
      "source": [
        "channel_df.isna().sum()"
      ],
      "metadata": {
        "id": "0YQOPePTmXdu"
      },
      "execution_count": null,
      "outputs": []
    },
    {
      "cell_type": "code",
      "source": [
        "currency_df = pd.read_csv(main_dir + 'currency.csv')\n",
        "currency_df.head()"
      ],
      "metadata": {
        "id": "7Q4MwbMklhvt"
      },
      "execution_count": null,
      "outputs": []
    },
    {
      "cell_type": "markdown",
      "source": [
        "## Join Data\n"
      ],
      "metadata": {
        "id": "aULfkr8alATB"
      }
    },
    {
      "cell_type": "markdown",
      "source": [
        "inner join booking_to_units_df dan booking_df dengan kolom booking_id karena ambil nilai yang tidak null saja"
      ],
      "metadata": {
        "id": "KJdO_egVtoVQ"
      }
    },
    {
      "cell_type": "code",
      "source": [
        "join_booking_unit_df = pd.merge(booking_to_units_df, booking_df, on='booking_id')"
      ],
      "metadata": {
        "id": "HX11O3gDlEez"
      },
      "execution_count": null,
      "outputs": []
    },
    {
      "cell_type": "code",
      "source": [
        "join_booking_unit_df.info()"
      ],
      "metadata": {
        "id": "QPlRRHgvlKD8"
      },
      "execution_count": null,
      "outputs": []
    },
    {
      "cell_type": "code",
      "source": [
        "join_booking_unit_df = join_booking_unit_df.rename(columns={'created_at_x': 'booking_units_created_at'})\n",
        "join_booking_unit_df = join_booking_unit_df.rename(columns={'updated_at_x': 'booking_units_updated_at'})\n",
        "join_booking_unit_df = join_booking_unit_df.rename(columns={'deleted_at_x': 'booking_units_deleted_at'})\n",
        "\n",
        "join_booking_unit_df = join_booking_unit_df.rename(columns={'created_at_y': 'booking_created_at'})\n",
        "join_booking_unit_df = join_booking_unit_df.rename(columns={'updated_at_y': 'booking_updated_at'})\n",
        "join_booking_unit_df = join_booking_unit_df.rename(columns={'deleted_at_y': 'booking_deleted_at'})"
      ],
      "metadata": {
        "id": "FByCmfa2ofkN"
      },
      "execution_count": null,
      "outputs": []
    },
    {
      "cell_type": "code",
      "source": [
        "join_booking_unit_df.info()"
      ],
      "metadata": {
        "id": "8LvYcT7tp1K5"
      },
      "execution_count": null,
      "outputs": []
    },
    {
      "cell_type": "code",
      "source": [
        "join_booking_unit_df.isna().sum()"
      ],
      "metadata": {
        "id": "z79iJy_qs2bN"
      },
      "execution_count": null,
      "outputs": []
    },
    {
      "cell_type": "code",
      "source": [
        "filtered_df = join_booking_unit_df[\n",
        "    join_booking_unit_df['booking_check_in'].notna()\n",
        "]\n",
        "\n",
        "# Menampilkan hasil filter\n",
        "filtered_df['booking_check_in'].head(10)"
      ],
      "metadata": {
        "id": "ZuH5Ip2ep_m_"
      },
      "execution_count": null,
      "outputs": []
    },
    {
      "cell_type": "code",
      "source": [
        "join_booking_unit_df['booking_guest_number'].describe()"
      ],
      "metadata": {
        "id": "IBNGQ75crO98"
      },
      "execution_count": null,
      "outputs": []
    },
    {
      "cell_type": "code",
      "source": [
        "join_booking_unit_df['temp_column'].unique()"
      ],
      "metadata": {
        "id": "K8M7dAq2w75G"
      },
      "execution_count": null,
      "outputs": []
    },
    {
      "cell_type": "code",
      "source": [
        "join_booking_unit_df.shape"
      ],
      "metadata": {
        "id": "FEI_hlUVHewB"
      },
      "execution_count": null,
      "outputs": []
    },
    {
      "cell_type": "code",
      "source": [
        "join_booking_unit_currency_df = pd.merge(join_booking_unit_df, currency_df, left_on='booking_currency', right_on='currency_code')\n",
        "\n",
        "join_booking_unit_currency_df.info()"
      ],
      "metadata": {
        "id": "wSvN6KuS5-mk"
      },
      "execution_count": null,
      "outputs": []
    },
    {
      "cell_type": "code",
      "source": [
        "join_booking_unit_currency_df.isna().sum()"
      ],
      "metadata": {
        "id": "4ky5eotDHlvb"
      },
      "execution_count": null,
      "outputs": []
    },
    {
      "cell_type": "code",
      "source": [
        "join_booking_unit_currency_df.shape"
      ],
      "metadata": {
        "id": "VZW8xyZrHTtY"
      },
      "execution_count": null,
      "outputs": []
    },
    {
      "cell_type": "code",
      "source": [
        "join_booking_unit_currency_channel_df = pd.merge(join_booking_unit_currency_df, channel_df, left_on='booking_source', right_on='channel_code',how='left')\n",
        "\n",
        "join_booking_unit_currency_channel_df.info()"
      ],
      "metadata": {
        "id": "0zQhGkvRHwCP"
      },
      "execution_count": null,
      "outputs": []
    },
    {
      "cell_type": "code",
      "source": [
        "join_booking_unit_currency_channel_df.isna().sum()"
      ],
      "metadata": {
        "id": "taOwVGEyIBNj"
      },
      "execution_count": null,
      "outputs": []
    },
    {
      "cell_type": "code",
      "source": [
        "join_booking_unit_currency_channel_df.shape"
      ],
      "metadata": {
        "id": "nUri_28lIJ0N"
      },
      "execution_count": null,
      "outputs": []
    },
    {
      "cell_type": "code",
      "source": [
        "join_booking_unit_currency_channel_df['booking_status'] = join_booking_unit_currency_channel_df['booking_status'].astype(int)\n",
        "\n",
        "join_booking_unit_currency_channel_df.info()"
      ],
      "metadata": {
        "id": "Ql3s4Zo6IZsD"
      },
      "execution_count": null,
      "outputs": []
    },
    {
      "cell_type": "code",
      "source": [
        "joined_all_booking_df = pd.merge(join_booking_unit_currency_channel_df, booking_status_df, on='booking_status',how='left')\n",
        "\n",
        "joined_all_booking_df.info()"
      ],
      "metadata": {
        "id": "Aegls42MJZ8v"
      },
      "execution_count": null,
      "outputs": []
    },
    {
      "cell_type": "code",
      "source": [
        "joined_all_booking_df.shape"
      ],
      "metadata": {
        "id": "DzLptKpGJlDg"
      },
      "execution_count": null,
      "outputs": []
    },
    {
      "cell_type": "code",
      "source": [
        "joined_all_booking_df.isna().sum()"
      ],
      "metadata": {
        "id": "Fwo1DS6KJm87"
      },
      "execution_count": null,
      "outputs": []
    },
    {
      "cell_type": "code",
      "source": [
        "joined_all_booking_df.to_csv('joined_booking.csv')"
      ],
      "metadata": {
        "id": "oYisKKjWKHUW"
      },
      "execution_count": null,
      "outputs": []
    },
    {
      "cell_type": "code",
      "source": [
        "joined_all_booking_df['cancellation_policy'].unique()"
      ],
      "metadata": {
        "id": "bYRTef3yKJ9g"
      },
      "execution_count": null,
      "outputs": []
    },
    {
      "cell_type": "code",
      "source": [
        "joined_all_booking_df['booking_currency'].head()"
      ],
      "metadata": {
        "id": "q6W7j639Mkev"
      },
      "execution_count": null,
      "outputs": []
    },
    {
      "cell_type": "code",
      "source": [
        "import pandas as pd\n",
        "\n",
        "# Memuat data\n",
        "\n",
        "# Menangani nilai-nilai yang tidak valid\n",
        "joined_all_booking_df['booking_check_in'] = pd.to_datetime(joined_all_booking_df['booking_check_in'], errors='coerce')\n",
        "\n",
        "# Menghapus baris dengan nilai 'booking_check_in' yang tidak valid\n",
        "joined_all_booking_df = joined_all_booking_df.dropna(subset=['booking_check_in'])\n",
        "\n",
        "# Mencari nilai data tanggal yang paling baru (maksimal) dan paling lama (minimal)\n",
        "tanggal_terbaru = joined_all_booking_df['booking_check_in'].max()\n",
        "tanggal_terlama = joined_all_booking_df['booking_check_in'].min()\n",
        "\n",
        "print(\"Tanggal paling baru (maksimal):\", tanggal_terbaru)\n",
        "print(\"Tanggal paling lama (minimal):\", tanggal_terlama)\n"
      ],
      "metadata": {
        "id": "8Fd2OJScMx6J"
      },
      "execution_count": null,
      "outputs": []
    },
    {
      "cell_type": "code",
      "source": [],
      "metadata": {
        "id": "d_KSCfdo8ILO"
      },
      "execution_count": null,
      "outputs": []
    },
    {
      "cell_type": "markdown",
      "metadata": {
        "id": "0t5ezist-Y2j"
      },
      "source": [
        "# Cleaning Booking Data\n",
        "booking_status 1 = confirmed, 2 = cancelled\n",
        "\n",
        "booking_currency"
      ]
    },
    {
      "cell_type": "code",
      "execution_count": null,
      "metadata": {
        "id": "YqtpxwJJ-jSr"
      },
      "outputs": [],
      "source": [
        "booking_df = joined_all_booking_df[['booking_id','unit_id','booking_check_in','booking_check_out','booking_earned','booking_currency','currency_desc', 'booking_status']]\n",
        "\n",
        "booking_df.head()"
      ]
    },
    {
      "cell_type": "code",
      "execution_count": null,
      "metadata": {
        "id": "qWuOBwWX_pUO"
      },
      "outputs": [],
      "source": [
        "booking_df.shape"
      ]
    },
    {
      "cell_type": "markdown",
      "source": [
        "### Mengambil data confirmed dan menghapus data cancelled"
      ],
      "metadata": {
        "id": "DiZBVKjAKGjw"
      }
    },
    {
      "cell_type": "code",
      "source": [
        "# Filter data yang memiliki booking_status selain 1\n",
        "non_one_status_df = booking_df[booking_df['booking_status'] != 1]\n",
        "\n",
        "# Print data yang memiliki booking_status selain 1\n",
        "print(non_one_status_df)\n",
        "\n",
        "# Jika kamu ingin mengetahui berapa banyak data yang memiliki booking_status selain 1\n",
        "count_non_one_status = len(non_one_status_df)\n",
        "print(f\"Jumlah data dengan booking_status selain 1: {count_non_one_status}\")\n"
      ],
      "metadata": {
        "id": "7z4nYuaKGZRS"
      },
      "execution_count": null,
      "outputs": []
    },
    {
      "cell_type": "code",
      "source": [
        "unique_booking_status = booking_df['booking_status'].unique()\n",
        "print(\"Nilai unik pada kolom booking_status:\", unique_booking_status)"
      ],
      "metadata": {
        "id": "nVOgqDtiG5dP"
      },
      "execution_count": null,
      "outputs": []
    },
    {
      "cell_type": "code",
      "source": [
        "# Filter data yang memiliki booking_status selain 1\n",
        "three_status_df = booking_df[booking_df['booking_status'] == 3]\n",
        "four_status_df = booking_df[booking_df['booking_status'] == 4]\n",
        "five_status_df = booking_df[booking_df['booking_status'] == 5]\n",
        "six_status_df = booking_df[booking_df['booking_status'] == 6]\n",
        "\n",
        "# Jika kamu ingin mengetahui berapa banyak data yang memiliki booking_status selain 1\n",
        "count_non_one_status = len(three_status_df) + len(four_status_df) + len(five_status_df) + len(six_status_df)\n",
        "print(f\"Jumlah data dengan booking_status 3,4,5,6: {count_non_one_status}\")\n"
      ],
      "metadata": {
        "id": "FmvT6au_HUG5"
      },
      "execution_count": null,
      "outputs": []
    },
    {
      "cell_type": "code",
      "source": [
        "# Menghitung jumlah baris awal di booking_df\n",
        "initial_count = len(booking_df)\n",
        "\n",
        "# Mengambil data booking status = 1 (confirmed)\n",
        "booking_df = booking_df[booking_df['booking_status'] == 1]\n",
        "\n",
        "# Menghitung jumlah baris setelah penghapusan\n",
        "final_count = len(booking_df)\n",
        "\n",
        "# Menghitung jumlah data yang terhapus\n",
        "deleted_count = initial_count - final_count\n",
        "\n",
        "# Menampilkan hasil\n",
        "print(f\"Jumlah data awal: {initial_count}\")\n",
        "print(f\"Jumlah data yang terhapus: {deleted_count}\")\n",
        "print(f\"Jumlah data yang tersisa: {final_count}\")"
      ],
      "metadata": {
        "id": "it5U2h5hCNe7"
      },
      "execution_count": null,
      "outputs": []
    },
    {
      "cell_type": "code",
      "source": [
        "booking_df.describe()"
      ],
      "metadata": {
        "id": "mB2Mkwa2EY6o"
      },
      "execution_count": null,
      "outputs": []
    },
    {
      "cell_type": "markdown",
      "source": [
        "### mengubah semua data earned (harga booking) menjadi rupiah"
      ],
      "metadata": {
        "id": "RH4TfzSxKa7x"
      }
    },
    {
      "cell_type": "code",
      "source": [
        "unique_currency_label = booking_df['currency_desc'].unique()\n",
        "print(\"Nilai unik pada currency code:\", unique_currency_label)\n",
        "\n",
        "unique_currency = booking_df['booking_currency'].unique()\n",
        "print(\"Nilai unik pada currency:\", unique_currency)"
      ],
      "metadata": {
        "id": "XvlPaghVEjX1"
      },
      "execution_count": null,
      "outputs": []
    },
    {
      "cell_type": "code",
      "source": [
        "one_status_df = booking_df[booking_df['booking_currency'] == 1.]\n",
        "two_status_df = booking_df[booking_df['booking_currency'] == 2.]\n",
        "three_status_df = booking_df[booking_df['booking_currency'] == 3.]\n",
        "\n",
        "print(f\"Jumlah data booking currency rupiah: {len(one_status_df) }\")\n",
        "print(f\"Jumlah data booking currency USD: {len(two_status_df) }\")\n",
        "print(f\"Jumlah data booking currency EUR: {len(three_status_df) }\")"
      ],
      "metadata": {
        "id": "9DwinUcwLBq9"
      },
      "execution_count": null,
      "outputs": []
    },
    {
      "cell_type": "code",
      "source": [
        "two_status_df.head()"
      ],
      "metadata": {
        "id": "6HPn-otF9Jl2"
      },
      "execution_count": null,
      "outputs": []
    },
    {
      "cell_type": "code",
      "source": [
        "three_status_df.head()"
      ],
      "metadata": {
        "id": "MLx9QfIJ9bDW"
      },
      "execution_count": null,
      "outputs": []
    },
    {
      "cell_type": "code",
      "source": [
        "# Definisikan nilai tukar mata uang secara manual\n",
        "usd_to_idr = 15918\n",
        "eur_to_idr = 17307\n",
        "\n",
        "# Fungsi untuk mengonversi ke IDR dan memperbarui booking_currency\n",
        "def convert_to_idr(row):\n",
        "    if row['booking_currency'] == 2.:  # USD\n",
        "        converted_value = row['booking_earned'] * usd_to_idr\n",
        "    elif row['booking_currency'] == 3.:  # EUR\n",
        "        converted_value = row['booking_earned'] * eur_to_idr\n",
        "    else:  # Assuming 1.0 is already IDR\n",
        "        converted_value = row['booking_earned']\n",
        "    return converted_value\n",
        "\n",
        "# Menggunakan apply untuk mengonversi booking_earned dan memperbarui booking_currency\n",
        "booking_df['booking_earned_idr'] = booking_df.apply(lambda row: convert_to_idr(row), axis=1)\n",
        "\n",
        "# Memeriksa beberapa baris pertama untuk memastikan konversi dan pembaruan kolom\n",
        "print(booking_df[['booking_id', 'booking_currency', 'booking_earned', 'booking_earned_idr']].head())\n"
      ],
      "metadata": {
        "id": "1l0_MTHHOa4b"
      },
      "execution_count": null,
      "outputs": []
    },
    {
      "cell_type": "code",
      "source": [
        "booking_df.describe()"
      ],
      "metadata": {
        "id": "j7x3pT3x5Itk"
      },
      "execution_count": null,
      "outputs": []
    },
    {
      "cell_type": "code",
      "source": [
        "# Mengambil nilai minimal dan maksimal dari kolom booking_earned_idr\n",
        "nilai_minimal = booking_df['booking_earned_idr'].min()\n",
        "nilai_maksimal = booking_df['booking_earned_idr'].max()\n",
        "\n",
        "# Menampilkan hasil\n",
        "print(f\"Nilai minimal booking_earned_idr: {nilai_minimal}\")\n",
        "print(f\"Nilai maksimal booking_earned_idr: {nilai_maksimal}\")\n"
      ],
      "metadata": {
        "id": "fEjWaWbc74yQ"
      },
      "execution_count": null,
      "outputs": []
    },
    {
      "cell_type": "code",
      "source": [
        "# Menghitung jumlah nilai negatif\n",
        "jumlah_nilai_negatif = booking_df[booking_df['booking_earned_idr'] < 0]\n",
        "\n",
        "# Menampilkan hasil\n",
        "print(f\"Jumlah data dengan nilai negatif: {len(jumlah_nilai_negatif)}\")"
      ],
      "metadata": {
        "id": "TvvJrXfV8KGe"
      },
      "execution_count": null,
      "outputs": []
    },
    {
      "cell_type": "code",
      "source": [
        "jumlah_nilai_negatif"
      ],
      "metadata": {
        "id": "peeAwFj09w_X"
      },
      "execution_count": null,
      "outputs": []
    },
    {
      "cell_type": "markdown",
      "source": [
        "## menghapus nilai harga booking yang negatif"
      ],
      "metadata": {
        "id": "sXZhoVqlkalB"
      }
    },
    {
      "cell_type": "code",
      "source": [
        "# Menghitung jumlah data dengan nilai negatif sebelum dihapus\n",
        "jumlah_nilai_negatif = (booking_df['booking_earned_idr'] < 0).sum()\n",
        "print(f\"Jumlah data dengan nilai negatif sebelum dihapus: {jumlah_nilai_negatif}\")\n",
        "\n",
        "# Menghapus data dengan nilai negatif di kolom booking_earned_idr\n",
        "booking_df = booking_df[booking_df['booking_earned_idr'] >= 0]\n",
        "\n",
        "# Menghitung jumlah data setelah penghapusan\n",
        "jumlah_data_setelah_penghapusan = len(booking_df)\n",
        "print(f\"Jumlah data setelah penghapusan: {jumlah_data_setelah_penghapusan}\")\n",
        "\n",
        "# Mengambil nilai minimal dan maksimal dari kolom booking_earned_idr setelah penghapusan\n",
        "nilai_minimal = booking_df['booking_earned_idr'].min()\n",
        "nilai_maksimal = booking_df['booking_earned_idr'].max()\n",
        "\n",
        "# Menampilkan hasil\n",
        "print(f\"Nilai minimal booking_earned_idr setelah penghapusan nilai negatif: {nilai_minimal}\")\n",
        "print(f\"Nilai maksimal booking_earned_idr setelah penghapusan nilai negatif: {nilai_maksimal}\")\n"
      ],
      "metadata": {
        "id": "o5abKZLF90wT"
      },
      "execution_count": null,
      "outputs": []
    },
    {
      "cell_type": "code",
      "source": [
        "# Menghitung jumlah nilai kurang dari 100 ribu\n",
        "jumlah_nilai_nol = booking_df[booking_df['booking_earned_idr'] < 100000]\n",
        "\n",
        "# Menampilkan hasil\n",
        "print(f\"Jumlah data dengan nilai dibawah 100 ribu: {len(jumlah_nilai_nol)}\")"
      ],
      "metadata": {
        "id": "9M80S-yw_g1P"
      },
      "execution_count": null,
      "outputs": []
    },
    {
      "cell_type": "code",
      "source": [
        "one_status_df = jumlah_nilai_nol[jumlah_nilai_nol['booking_currency'] == 1.]\n",
        "two_status_df = jumlah_nilai_nol[jumlah_nilai_nol['booking_currency'] == 2.]\n",
        "three_status_df = jumlah_nilai_nol[jumlah_nilai_nol['booking_currency'] == 3.]\n",
        "\n",
        "print(f\"Jumlah data booking currency rupiah dibawah 100 ribu: {len(one_status_df) }\")\n",
        "print(f\"Jumlah data booking currency USD dibawah 100 ribu: {len(two_status_df) }\")\n",
        "print(f\"Jumlah data booking currency EUR dibawah 100 ribu: {len(three_status_df) }\")"
      ],
      "metadata": {
        "id": "WsjysJVfBLTP"
      },
      "execution_count": null,
      "outputs": []
    },
    {
      "cell_type": "code",
      "source": [
        "one_status_df.head()"
      ],
      "metadata": {
        "id": "C2Iw_RJZBfIg"
      },
      "execution_count": null,
      "outputs": []
    },
    {
      "cell_type": "code",
      "source": [
        "two_status_df.head()"
      ],
      "metadata": {
        "id": "HwT_BuwxBaie"
      },
      "execution_count": null,
      "outputs": []
    },
    {
      "cell_type": "code",
      "source": [
        "three_status_df.head()"
      ],
      "metadata": {
        "id": "Gi4xOgN6mSE3"
      },
      "execution_count": null,
      "outputs": []
    },
    {
      "cell_type": "code",
      "source": [
        "one_status_df.describe()"
      ],
      "metadata": {
        "id": "B_VJJTlSBpgw"
      },
      "execution_count": null,
      "outputs": []
    },
    {
      "cell_type": "markdown",
      "source": [
        "## ambil rentang booking dari tahun 2022"
      ],
      "metadata": {
        "id": "85sNAsFSEoHC"
      }
    },
    {
      "cell_type": "code",
      "source": [
        "booking_df['booking_check_in'] = pd.to_datetime(booking_df['booking_check_in'], errors='coerce')\n",
        "booking_df['booking_check_out'] = pd.to_datetime(booking_df['booking_check_out'], errors='coerce')"
      ],
      "metadata": {
        "id": "qwQfvp32Byld"
      },
      "execution_count": null,
      "outputs": []
    },
    {
      "cell_type": "code",
      "source": [
        "start_date = pd.Timestamp('2023-01-01')\n",
        "filtered_booking_df = booking_df[booking_df['booking_check_in'] >= start_date]"
      ],
      "metadata": {
        "id": "zXOcsgJ2zMAd"
      },
      "execution_count": null,
      "outputs": []
    },
    {
      "cell_type": "code",
      "source": [
        "print(filtered_booking_df.head())\n",
        "print(f\"Jumlah data mulai 2022: {len(filtered_booking_df)}\")\n"
      ],
      "metadata": {
        "id": "bQ25N9xazRfd"
      },
      "execution_count": null,
      "outputs": []
    },
    {
      "cell_type": "code",
      "source": [
        "len(filtered_booking_df['unit_id'].unique())"
      ],
      "metadata": {
        "id": "8tEDzunop0RD"
      },
      "execution_count": null,
      "outputs": []
    },
    {
      "cell_type": "code",
      "source": [
        "# Menghitung jumlah nilai negatif\n",
        "jumlah_nilai_nol = filtered_booking_df[filtered_booking_df['booking_earned_idr'] < 100000]\n",
        "\n",
        "# Menampilkan hasil\n",
        "print(f\"Jumlah data dengan nilai dibawah 100 ribu: {len(jumlah_nilai_nol)}\")"
      ],
      "metadata": {
        "id": "Ync1gheezTOF"
      },
      "execution_count": null,
      "outputs": []
    },
    {
      "cell_type": "code",
      "source": [
        "jumlah_nilai_nol"
      ],
      "metadata": {
        "id": "Zm6BZ3KNzbGX"
      },
      "execution_count": null,
      "outputs": []
    },
    {
      "cell_type": "code",
      "source": [
        "jumlah_nilai_nol['unit_id']"
      ],
      "metadata": {
        "id": "7pBLWrAbzqkq"
      },
      "execution_count": null,
      "outputs": []
    },
    {
      "cell_type": "code",
      "source": [
        "# Menghitung jumlah data dengan nilai dibawah 100 ribu sebelum dihapus\n",
        "print(f\"Jumlah data dengan nilai dibawah 100 ribu sebelum dihapus: {len(jumlah_nilai_nol)}\")\n",
        "\n",
        "# Menghapus data dengan nilai dibawah 100 ribu di kolom booking_earned_idr\n",
        "filtered_booking_df = filtered_booking_df[filtered_booking_df['booking_earned_idr'] >= 100000]\n",
        "\n",
        "# Menghitung jumlah data setelah penghapusan\n",
        "jumlah_data_setelah_penghapusan = len(filtered_booking_df)\n",
        "print(f\"Jumlah data setelah penghapusan: {jumlah_data_setelah_penghapusan}\")\n",
        "\n",
        "# Mengambil nilai minimal dan maksimal dari kolom booking_earned_idr setelah penghapusan\n",
        "nilai_minimal = filtered_booking_df['booking_earned_idr'].min()\n",
        "nilai_maksimal = filtered_booking_df['booking_earned_idr'].max()\n",
        "\n",
        "# Menampilkan hasil\n",
        "print(f\"Nilai minimal booking_earned_idr setelah penghapusan nilai negatif: {nilai_minimal}\")\n",
        "print(f\"Nilai maksimal booking_earned_idr setelah penghapusan nilai negatif: {nilai_maksimal}\")\n"
      ],
      "metadata": {
        "id": "Dx2hu-punnlj"
      },
      "execution_count": null,
      "outputs": []
    },
    {
      "cell_type": "code",
      "source": [
        "len(filtered_booking_df['unit_id'].unique())"
      ],
      "metadata": {
        "id": "GNIPjSSsoVkG"
      },
      "execution_count": null,
      "outputs": []
    },
    {
      "cell_type": "code",
      "source": [
        "filtered_booking_df.describe(include='all')"
      ],
      "metadata": {
        "id": "v5jRO9M_pnnO"
      },
      "execution_count": null,
      "outputs": []
    },
    {
      "cell_type": "markdown",
      "source": [
        "# feature engineering untuk harga setiap unit"
      ],
      "metadata": {
        "id": "TbLDTwX2rtuH"
      }
    },
    {
      "cell_type": "code",
      "source": [
        "# Filter data berdasarkan unit_id\n",
        "filtered_data = filtered_booking_df[filtered_booking_df['unit_id'] == 'UN1009']\n",
        "\n",
        "# Mengurutkan data berdasarkan booking_check_in dan booking_check_out dari yang terbaru\n",
        "sorted_filtered_data = filtered_data.sort_values(by=['booking_check_in', 'booking_check_out'], ascending=[False, False])\n",
        "\n",
        "# Menampilkan hasil\n",
        "sorted_filtered_data.head(10)"
      ],
      "metadata": {
        "id": "ZyPhmEdGRQq8"
      },
      "execution_count": null,
      "outputs": []
    },
    {
      "cell_type": "code",
      "source": [
        "filtered_data = filtered_booking_df[filtered_booking_df['unit_id'] == 'UN2808']\n",
        "# Filter data berdasarkan tanggal booking_check_in dan booking_check_out yang diinginkan\n",
        "data_tanggal_1_1_2023 = filtered_data[(filtered_data['booking_check_in'] == '2023-01-01 ')]\n",
        "data_tanggal_1_1_2024 = filtered_data[(filtered_data['booking_check_in'] == '2024-01-01' )]\n",
        "\n",
        "# Menggabungkan hasil\n",
        "result_data = pd.concat([data_tanggal_1_1_2023, data_tanggal_1_1_2024])\n",
        "\n",
        "# Menampilkan hasil\n",
        "print(result_data)"
      ],
      "metadata": {
        "id": "CXAQ033BTGBQ"
      },
      "execution_count": null,
      "outputs": []
    },
    {
      "cell_type": "code",
      "source": [
        "import numpy as np\n",
        "# Menghitung durasi menginap dalam hari\n",
        "filtered_booking_df['stay_duration'] = abs((filtered_booking_df['booking_check_out'] - filtered_booking_df['booking_check_in']).dt.days)\n",
        "\n",
        "# Menghindari pembagian dengan nol dengan mengganti nilai stay_duration yang nol dengan NaN\n",
        "filtered_booking_df.loc[filtered_booking_df['stay_duration'] == 0, 'stay_duration'] = np.nan\n",
        "\n",
        "# Menghitung harga sewa per hari\n",
        "filtered_booking_df['price_per_day'] = filtered_booking_df['booking_earned_idr'] / filtered_booking_df['stay_duration']\n",
        "\n",
        "# Menampilkan beberapa baris pertama untuk melihat hasilnya\n",
        "print(filtered_booking_df[['booking_id', 'booking_check_in', 'booking_check_out', 'booking_earned_idr', 'stay_duration', 'price_per_day']].head())"
      ],
      "metadata": {
        "id": "Fpz1Zps6UrWS"
      },
      "execution_count": null,
      "outputs": []
    },
    {
      "cell_type": "code",
      "source": [
        "# Melakukan analisis statistik pada harga sewa per hari\n",
        "print(filtered_booking_df['price_per_day'].describe())"
      ],
      "metadata": {
        "id": "6uUljCyeVJ5N"
      },
      "execution_count": null,
      "outputs": []
    },
    {
      "cell_type": "code",
      "source": [
        "# Menampilkan data yang memiliki nilai price_per_day di bawah 100 ribu\n",
        "data_price_below_100k = filtered_booking_df[filtered_booking_df['price_per_day'] < 100000]\n",
        "\n",
        "# Menampilkan hasil\n",
        "data_price_below_100k"
      ],
      "metadata": {
        "id": "bs0Oqx-CWkMp"
      },
      "execution_count": null,
      "outputs": []
    },
    {
      "cell_type": "code",
      "source": [
        "filtered_booking_df[filtered_booking_df['price_per_day'] == filtered_booking_df['price_per_day'].max()]"
      ],
      "metadata": {
        "id": "cyajJo1nH5wX"
      },
      "execution_count": null,
      "outputs": []
    },
    {
      "cell_type": "code",
      "source": [
        "filtered_booking_df[filtered_booking_df['price_per_day'] == filtered_booking_df['price_per_day'].min()]"
      ],
      "metadata": {
        "id": "uuEkrXkVH7ZC"
      },
      "execution_count": null,
      "outputs": []
    },
    {
      "cell_type": "code",
      "source": [
        "filtered_booking_df[filtered_booking_df['unit_id'] == 'UN1009']"
      ],
      "metadata": {
        "id": "eygAHAfuLLyE"
      },
      "execution_count": null,
      "outputs": []
    },
    {
      "cell_type": "code",
      "source": [
        "# Kelompokkan data berdasarkan unit_id dan hitung median harga booking\n",
        "unit_median_price = filtered_booking_df.groupby('unit_id')['price_per_day'].median().reset_index()\n",
        "\n",
        "# Simpan hasil ke dalam file CSV\n",
        "unit_median_price.to_csv('unit_median_price.csv', index=False)\n",
        "\n",
        "print(unit_median_price.head())"
      ],
      "metadata": {
        "id": "I45ogwWRcLzn"
      },
      "execution_count": null,
      "outputs": []
    },
    {
      "cell_type": "code",
      "source": [
        "unit_median_price.describe()"
      ],
      "metadata": {
        "id": "4zqiCthpsrMt"
      },
      "execution_count": null,
      "outputs": []
    },
    {
      "cell_type": "code",
      "source": [
        "unit_median_price"
      ],
      "metadata": {
        "id": "QupohF9kszRh"
      },
      "execution_count": null,
      "outputs": []
    },
    {
      "cell_type": "code",
      "source": [
        "unit_median_price[unit_median_price['unit_id'] == 'UN3095']"
      ],
      "metadata": {
        "id": "kXCav2XwMgWL"
      },
      "execution_count": null,
      "outputs": []
    },
    {
      "cell_type": "code",
      "source": [
        "# Kelompokkan data berdasarkan unit_id dan hitung median harga booking\n",
        "unit_mean_price = filtered_booking_df.groupby('unit_id')['price_per_day'].mean().reset_index()\n",
        "\n",
        "# Simpan hasil ke dalam file CSV\n",
        "unit_mean_price.to_csv('unit_mean_price.csv', index=False)\n",
        "\n",
        "print(unit_mean_price.head())"
      ],
      "metadata": {
        "id": "cV_kt2JKMjBZ"
      },
      "execution_count": null,
      "outputs": []
    },
    {
      "cell_type": "code",
      "source": [
        "unit_mean_price.describe()"
      ],
      "metadata": {
        "id": "UiYdYG9_M_6_"
      },
      "execution_count": null,
      "outputs": []
    },
    {
      "cell_type": "code",
      "source": [
        "unit_mean_price"
      ],
      "metadata": {
        "id": "afmXbUygOjku"
      },
      "execution_count": null,
      "outputs": []
    },
    {
      "cell_type": "code",
      "source": [
        "unit_mean_price[unit_mean_price['unit_id'] == 'UN3101']"
      ],
      "metadata": {
        "id": "w5hAtu9KNDg4"
      },
      "execution_count": null,
      "outputs": []
    }
  ]
}