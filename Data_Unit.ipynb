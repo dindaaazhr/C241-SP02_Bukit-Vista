{
  "nbformat": 4,
  "nbformat_minor": 0,
  "metadata": {
    "colab": {
      "provenance": []
    },
    "kernelspec": {
      "name": "python3",
      "display_name": "Python 3"
    },
    "language_info": {
      "name": "python"
    }
  },
  "cells": [
    {
      "cell_type": "code",
      "execution_count": null,
      "metadata": {
        "id": "qqCk0TbUfIlb"
      },
      "outputs": [],
      "source": [
        "import pandas as pd\n",
        "from pathlib import Path\n",
        "import numpy as np"
      ]
    },
    {
      "cell_type": "code",
      "source": [
        "from google.colab import drive\n",
        "drive.mount('/content/drive')"
      ],
      "metadata": {
        "id": "kRFchgl-fP8v"
      },
      "execution_count": null,
      "outputs": []
    },
    {
      "cell_type": "code",
      "source": [
        "main_dir = \"drive/MyDrive/dataset/\""
      ],
      "metadata": {
        "id": "oGtapQ79fc0V"
      },
      "execution_count": null,
      "outputs": []
    },
    {
      "cell_type": "markdown",
      "source": [
        "# Data Exploration"
      ],
      "metadata": {
        "id": "m6I4T_9bkvOG"
      }
    },
    {
      "cell_type": "markdown",
      "source": [
        "## Area"
      ],
      "metadata": {
        "id": "QHbXoJkQk2Dj"
      }
    },
    {
      "cell_type": "code",
      "source": [
        "area_df = pd.read_csv(main_dir + 'area.csv')\n",
        "area_df.head()"
      ],
      "metadata": {
        "id": "6fLbhrAfgRBa"
      },
      "execution_count": null,
      "outputs": []
    },
    {
      "cell_type": "code",
      "source": [
        "area_df.info()"
      ],
      "metadata": {
        "id": "09bWXaUYmFtj"
      },
      "execution_count": null,
      "outputs": []
    },
    {
      "cell_type": "code",
      "source": [
        "area_df.isna().sum()"
      ],
      "metadata": {
        "id": "5s9kd2ktgaV2"
      },
      "execution_count": null,
      "outputs": []
    },
    {
      "cell_type": "markdown",
      "source": [
        "## Booking status"
      ],
      "metadata": {
        "id": "kJ-cA0BZk4hk"
      }
    },
    {
      "cell_type": "code",
      "source": [
        "booking_status_df = pd.read_csv(main_dir + 'booking_status.csv')\n",
        "booking_status_df.head()"
      ],
      "metadata": {
        "id": "XxNIzSUUlE2S"
      },
      "execution_count": null,
      "outputs": []
    },
    {
      "cell_type": "code",
      "source": [
        "booking_status_df.info()"
      ],
      "metadata": {
        "id": "672Z2t4emMnD"
      },
      "execution_count": null,
      "outputs": []
    },
    {
      "cell_type": "markdown",
      "source": [
        "## Booking To Units"
      ],
      "metadata": {
        "id": "515JkTPCLHcv"
      }
    },
    {
      "cell_type": "code",
      "source": [
        "booking_to_units_df = pd.read_csv(main_dir + 'booking_to_units.csv')\n",
        "booking_to_units_df.head()"
      ],
      "metadata": {
        "id": "pX0-wqrELRVK"
      },
      "execution_count": null,
      "outputs": []
    },
    {
      "cell_type": "code",
      "source": [
        "booking_to_units_df.info()"
      ],
      "metadata": {
        "id": "3-YZoNAhLeBW"
      },
      "execution_count": null,
      "outputs": []
    },
    {
      "cell_type": "code",
      "source": [
        "booking_to_units_df.isna().sum()"
      ],
      "metadata": {
        "id": "s5YWFHYuLi0S"
      },
      "execution_count": null,
      "outputs": []
    },
    {
      "cell_type": "markdown",
      "source": [
        "## Booking"
      ],
      "metadata": {
        "id": "pbDouy8hMMQl"
      }
    },
    {
      "cell_type": "code",
      "source": [
        "booking_df = pd.read_csv(main_dir + 'booking.csv')\n",
        "pd.set_option('display.max_column', None)\n",
        "booking_df.head()"
      ],
      "metadata": {
        "id": "616Vk3oQMJv5"
      },
      "execution_count": null,
      "outputs": []
    },
    {
      "cell_type": "code",
      "source": [
        "pd.reset_option('display.max_rows')"
      ],
      "metadata": {
        "id": "Y4tI9r-c-ABp"
      },
      "execution_count": null,
      "outputs": []
    },
    {
      "cell_type": "code",
      "source": [
        "booking_df.info()"
      ],
      "metadata": {
        "id": "Ev7MqIFuMYFE"
      },
      "execution_count": null,
      "outputs": []
    },
    {
      "cell_type": "code",
      "source": [
        "booking_df.isna().sum()"
      ],
      "metadata": {
        "id": "ZE5q8_6xMfmK"
      },
      "execution_count": null,
      "outputs": []
    },
    {
      "cell_type": "markdown",
      "source": [
        "## Channel"
      ],
      "metadata": {
        "id": "ftg3_AVllQHi"
      }
    },
    {
      "cell_type": "code",
      "source": [
        "channel_df = pd.read_csv(main_dir + 'channel.csv')\n",
        "channel_df"
      ],
      "metadata": {
        "id": "HI66k76ClSzr"
      },
      "execution_count": null,
      "outputs": []
    },
    {
      "cell_type": "code",
      "source": [
        "channel_df.info()"
      ],
      "metadata": {
        "id": "KTwwnolxmTIe"
      },
      "execution_count": null,
      "outputs": []
    },
    {
      "cell_type": "code",
      "source": [
        "channel_df.isna().sum()"
      ],
      "metadata": {
        "id": "0YQOPePTmXdu"
      },
      "execution_count": null,
      "outputs": []
    },
    {
      "cell_type": "markdown",
      "source": [
        "## Currency"
      ],
      "metadata": {
        "id": "2QqdV4PVliHK"
      }
    },
    {
      "cell_type": "code",
      "source": [
        "currency_df = pd.read_csv(main_dir + 'currency.csv')\n",
        "currency_df.head()"
      ],
      "metadata": {
        "id": "7Q4MwbMklhvt"
      },
      "execution_count": null,
      "outputs": []
    },
    {
      "cell_type": "markdown",
      "source": [
        "## Prop property type"
      ],
      "metadata": {
        "id": "-MkOYDqeluAX"
      }
    },
    {
      "cell_type": "code",
      "source": [
        "property_type_df = pd.read_csv(main_dir + 'prop_property_type.csv')\n",
        "property_type_df.head()"
      ],
      "metadata": {
        "id": "jIshKw_-lxyy"
      },
      "execution_count": null,
      "outputs": []
    },
    {
      "cell_type": "code",
      "source": [
        "property_type_df.info()"
      ],
      "metadata": {
        "id": "Tba9Yuc4CuO3"
      },
      "execution_count": null,
      "outputs": []
    },
    {
      "cell_type": "code",
      "source": [
        "property_type_df.isna().sum()"
      ],
      "metadata": {
        "id": "T0Zl6XQpC3Ld"
      },
      "execution_count": null,
      "outputs": []
    },
    {
      "cell_type": "markdown",
      "source": [
        "## Property"
      ],
      "metadata": {
        "id": "hphjHYDYkyVA"
      }
    },
    {
      "cell_type": "code",
      "source": [
        "property_df = pd.read_csv(main_dir + 'property.csv')\n",
        "property_df.head()"
      ],
      "metadata": {
        "id": "XHyx8UJsfulu"
      },
      "execution_count": null,
      "outputs": []
    },
    {
      "cell_type": "code",
      "source": [
        "property_df.info()"
      ],
      "metadata": {
        "id": "tQSjLHIS0S5H"
      },
      "execution_count": null,
      "outputs": []
    },
    {
      "cell_type": "code",
      "source": [
        "property_df.isna().sum()"
      ],
      "metadata": {
        "id": "dyaWf-XWhz-7"
      },
      "execution_count": null,
      "outputs": []
    },
    {
      "cell_type": "markdown",
      "source": [
        "## Unit Amenities"
      ],
      "metadata": {
        "id": "3RX30g1v0JY-"
      }
    },
    {
      "cell_type": "code",
      "source": [
        "unit_amenities_df = pd.read_csv(main_dir + 'unit_amenities.csv')\n",
        "unit_amenities_df.head()"
      ],
      "metadata": {
        "id": "rZozTJDr0CSd"
      },
      "execution_count": null,
      "outputs": []
    },
    {
      "cell_type": "code",
      "source": [
        "unit_amenities_df.info()"
      ],
      "metadata": {
        "id": "4JINFp-H0OaA"
      },
      "execution_count": null,
      "outputs": []
    },
    {
      "cell_type": "code",
      "source": [
        "unit_amenities_df.isna().sum()"
      ],
      "metadata": {
        "id": "FGf-EtSb0Yhl"
      },
      "execution_count": null,
      "outputs": []
    },
    {
      "cell_type": "markdown",
      "source": [
        "## Unit Facilities"
      ],
      "metadata": {
        "id": "NEON2g870gS4"
      }
    },
    {
      "cell_type": "code",
      "source": [
        "unit_facilities_df = pd.read_csv(main_dir + 'unit_facilities.csv')\n",
        "unit_facilities_df.head()"
      ],
      "metadata": {
        "id": "2Q3vWKDH0idV"
      },
      "execution_count": null,
      "outputs": []
    },
    {
      "cell_type": "code",
      "source": [
        "unit_facilities_df.info()"
      ],
      "metadata": {
        "id": "IHHrShDG1Qa2"
      },
      "execution_count": null,
      "outputs": []
    },
    {
      "cell_type": "code",
      "source": [
        "unit_facilities_df.isna().sum()"
      ],
      "metadata": {
        "id": "Y9Bqt2mh1UBt"
      },
      "execution_count": null,
      "outputs": []
    },
    {
      "cell_type": "code",
      "source": [
        "pd.set_option('display.max_rows', None)\n",
        "unit_facilities_df[unit_facilities_df.duplicated('unit_id', keep=False)].sort_values('unit_id')"
      ],
      "metadata": {
        "id": "COuee2L6Da_v"
      },
      "execution_count": null,
      "outputs": []
    },
    {
      "cell_type": "markdown",
      "source": [
        "## Unit Type Amenity Category"
      ],
      "metadata": {
        "id": "HfoRa0w_1dTm"
      }
    },
    {
      "cell_type": "code",
      "source": [
        "unit_type_amenity_category_df = pd.read_csv(main_dir + 'unit_type_amenity_category.csv')\n",
        "unit_type_amenity_category_df.head()"
      ],
      "metadata": {
        "id": "AJHvkiZJ1lBH"
      },
      "execution_count": null,
      "outputs": []
    },
    {
      "cell_type": "code",
      "source": [
        "unit_type_amenity_category_df.info()"
      ],
      "metadata": {
        "id": "5NtWaoB012Dy"
      },
      "execution_count": null,
      "outputs": []
    },
    {
      "cell_type": "code",
      "source": [
        "unit_type_amenity_category_df.isna().sum()"
      ],
      "metadata": {
        "id": "AiqUtIhJ16zK"
      },
      "execution_count": null,
      "outputs": []
    },
    {
      "cell_type": "markdown",
      "source": [
        "## Unit Type Amenity"
      ],
      "metadata": {
        "id": "pcx5wDmj2Qzd"
      }
    },
    {
      "cell_type": "code",
      "source": [
        "unit_type_amenity_df = pd.read_csv(main_dir + 'unit_type_amenity.csv')\n",
        "unit_type_amenity_df.head()"
      ],
      "metadata": {
        "id": "ztNVVRPH2Ite"
      },
      "execution_count": null,
      "outputs": []
    },
    {
      "cell_type": "code",
      "source": [
        "unit_type_amenity_df.info()"
      ],
      "metadata": {
        "id": "dPXN3Kl92Wye"
      },
      "execution_count": null,
      "outputs": []
    },
    {
      "cell_type": "code",
      "source": [
        "unit_type_amenity_df.isna().sum()"
      ],
      "metadata": {
        "id": "4msa1P4v2aNL"
      },
      "execution_count": null,
      "outputs": []
    },
    {
      "cell_type": "markdown",
      "source": [
        "## Unit Type Detail"
      ],
      "metadata": {
        "id": "w9zGdYU539SF"
      }
    },
    {
      "cell_type": "code",
      "source": [
        "unit_type_detail_df = pd.read_csv(main_dir + 'unit_type_detail.csv')\n",
        "unit_type_detail_df.head()"
      ],
      "metadata": {
        "id": "axnFcN3M4BsN"
      },
      "execution_count": null,
      "outputs": []
    },
    {
      "cell_type": "code",
      "source": [
        "unit_type_detail_df.info()"
      ],
      "metadata": {
        "id": "VkjmfOyX4Hif"
      },
      "execution_count": null,
      "outputs": []
    },
    {
      "cell_type": "code",
      "source": [
        "unit_type_detail_df.isna().sum()"
      ],
      "metadata": {
        "id": "ncO7STnG4K9K"
      },
      "execution_count": null,
      "outputs": []
    },
    {
      "cell_type": "markdown",
      "source": [
        "## Unit Type Field"
      ],
      "metadata": {
        "id": "uVIV_jeT4P2-"
      }
    },
    {
      "cell_type": "code",
      "source": [
        "unit_type_field_df = pd.read_csv(main_dir + 'unit_type_field.csv')\n",
        "unit_type_field_df.head()"
      ],
      "metadata": {
        "id": "B1YlczDU4TyF"
      },
      "execution_count": null,
      "outputs": []
    },
    {
      "cell_type": "code",
      "source": [
        "unit_type_field_df.info()"
      ],
      "metadata": {
        "id": "NV3O_w0T4bl_"
      },
      "execution_count": null,
      "outputs": []
    },
    {
      "cell_type": "code",
      "source": [
        "unit_type_field_df.isna().sum()"
      ],
      "metadata": {
        "id": "85Jrj_nu4f09"
      },
      "execution_count": null,
      "outputs": []
    },
    {
      "cell_type": "markdown",
      "source": [
        "## Unit Type Has Amenity"
      ],
      "metadata": {
        "id": "uiZ5ISq54mNN"
      }
    },
    {
      "cell_type": "code",
      "source": [
        "unit_type_has_amenity_df = pd.read_csv(main_dir + 'unit_type_has_amenity.csv')\n",
        "unit_type_has_amenity_df.head()"
      ],
      "metadata": {
        "id": "GcLL4sW44lXc"
      },
      "execution_count": null,
      "outputs": []
    },
    {
      "cell_type": "code",
      "source": [
        "unit_type_has_amenity_df.info()"
      ],
      "metadata": {
        "id": "QeRoiMbs44nE"
      },
      "execution_count": null,
      "outputs": []
    },
    {
      "cell_type": "code",
      "source": [
        "unit_type_has_amenity_df.isna().sum()"
      ],
      "metadata": {
        "id": "Pp8T3dU1475T"
      },
      "execution_count": null,
      "outputs": []
    },
    {
      "cell_type": "markdown",
      "source": [
        "## Unit Type"
      ],
      "metadata": {
        "id": "PAiGVOvH5JrH"
      }
    },
    {
      "cell_type": "code",
      "source": [
        "unit_type_df = pd.read_csv(main_dir + 'unit_type.csv')\n",
        "unit_type_df.head()"
      ],
      "metadata": {
        "id": "DNvajSog5LlQ"
      },
      "execution_count": null,
      "outputs": []
    },
    {
      "cell_type": "code",
      "source": [
        "unit_type_df.info()"
      ],
      "metadata": {
        "id": "H2MCpBxi5Qt6"
      },
      "execution_count": null,
      "outputs": []
    },
    {
      "cell_type": "code",
      "source": [
        "unit_type_df.isna().sum()"
      ],
      "metadata": {
        "id": "qJjOqcrd5TeK"
      },
      "execution_count": null,
      "outputs": []
    },
    {
      "cell_type": "markdown",
      "source": [
        "## Unit"
      ],
      "metadata": {
        "id": "CZ5jOgFJ5eGL"
      }
    },
    {
      "cell_type": "code",
      "source": [
        "unit_df = pd.read_csv(main_dir + 'unit.csv')\n",
        "unit_df.head()"
      ],
      "metadata": {
        "id": "tKjtUs_j5f1s"
      },
      "execution_count": null,
      "outputs": []
    },
    {
      "cell_type": "code",
      "source": [
        "unit_df.info()"
      ],
      "metadata": {
        "id": "o8HVhRBe5l7H"
      },
      "execution_count": null,
      "outputs": []
    },
    {
      "cell_type": "code",
      "source": [
        "unit_df.isna().sum()"
      ],
      "metadata": {
        "id": "sAVxn5QS5oo9"
      },
      "execution_count": null,
      "outputs": []
    },
    {
      "cell_type": "code",
      "source": [
        "unit_df[unit_df['unit_type_id'].duplicated()]"
      ],
      "metadata": {
        "id": "JSHbfoCS4yhT"
      },
      "execution_count": null,
      "outputs": []
    },
    {
      "cell_type": "markdown",
      "source": [
        "# ETL"
      ],
      "metadata": {
        "id": "CYUynmqXX6Sg"
      }
    },
    {
      "cell_type": "markdown",
      "source": [
        "## Merge 1 clean_unit + unit_facilities"
      ],
      "metadata": {
        "id": "ZKL_CKCRKh0y"
      }
    },
    {
      "cell_type": "code",
      "source": [
        "unit_df['unit_id'].duplicated().sum()"
      ],
      "metadata": {
        "id": "VphYTZJJEfbr"
      },
      "execution_count": null,
      "outputs": []
    },
    {
      "cell_type": "markdown",
      "source": [
        "drop data where 'deleted_at' != NaN, karena itu artinya datanya sudah dihapus dan sudah tidak relevan lagi. cmiiw"
      ],
      "metadata": {
        "id": "1hiHZrTAe8jO"
      }
    },
    {
      "cell_type": "code",
      "source": [
        "unit_df[unit_df['deleted_at'].notna()]"
      ],
      "metadata": {
        "id": "pfffCqS5Dus3"
      },
      "execution_count": null,
      "outputs": []
    },
    {
      "cell_type": "markdown",
      "source": [
        "Make sure all 'deleted_at' != NaN is a timestamp before deleting"
      ],
      "metadata": {
        "id": "FK-l63h_GP5Q"
      }
    },
    {
      "cell_type": "code",
      "source": [
        "pd.set_option('display.max_rows', None)\n",
        "unit_df.loc[unit_df['deleted_at'].notna(),'deleted_at']"
      ],
      "metadata": {
        "id": "MbIm4krHFS7V"
      },
      "execution_count": null,
      "outputs": []
    },
    {
      "cell_type": "code",
      "source": [
        "pd.reset_option('display.max_rows')"
      ],
      "metadata": {
        "id": "q1vsNQkyGbm8"
      },
      "execution_count": null,
      "outputs": []
    },
    {
      "cell_type": "code",
      "source": [
        "clean_unit_df = unit_df[unit_df['deleted_at'].isna()]\n",
        "clean_unit_df"
      ],
      "metadata": {
        "id": "e2K7lGcBE7xy"
      },
      "execution_count": null,
      "outputs": []
    },
    {
      "cell_type": "code",
      "source": [
        "clean_unit_df.isna().sum()"
      ],
      "metadata": {
        "id": "VY26wIkPH_3v"
      },
      "execution_count": null,
      "outputs": []
    },
    {
      "cell_type": "markdown",
      "source": [
        "dropping 'deleted_at', 'created_at',\t'updated_at', 'temp_column'"
      ],
      "metadata": {
        "id": "Js8izHiyHT_B"
      }
    },
    {
      "cell_type": "code",
      "source": [
        "clean_unit_df = clean_unit_df.drop(['deleted_at', 'created_at', 'updated_at', 'temp_column', 'old_unit_id'], axis=1)\n",
        "clean_unit_df"
      ],
      "metadata": {
        "id": "o1QFm4lNHhB1"
      },
      "execution_count": null,
      "outputs": []
    },
    {
      "cell_type": "code",
      "source": [
        "merge1_df = clean_unit_df.merge(unit_facilities_df, on=['unit_id'],how='left')\n",
        "merge1_df"
      ],
      "metadata": {
        "id": "KFR3XACbGp6I"
      },
      "execution_count": null,
      "outputs": []
    },
    {
      "cell_type": "markdown",
      "source": [
        "kenapa dari 398 rows bisa jadi 539 rows? Duplicate value? mari kita cek"
      ],
      "metadata": {
        "id": "-4vxhw7XO-v9"
      }
    },
    {
      "cell_type": "code",
      "source": [
        "merge1_df.duplicated().sum()"
      ],
      "metadata": {
        "id": "sY77fiROPnuj"
      },
      "execution_count": null,
      "outputs": []
    },
    {
      "cell_type": "markdown",
      "source": [
        "yup duplicate 141 values | 539 - 141 = 398 rows"
      ],
      "metadata": {
        "id": "aJ0r2-iUPKjG"
      }
    },
    {
      "cell_type": "markdown",
      "source": [
        "cek seperti apa duplikatnya"
      ],
      "metadata": {
        "id": "xZZGEaQ-PyCa"
      }
    },
    {
      "cell_type": "code",
      "source": [
        "pd.set_option('display.max_rows', None)\n",
        "merge1_df[merge1_df.duplicated('unit_id', keep=False)].sort_values('unit_id')"
      ],
      "metadata": {
        "id": "ebwhIroeOLW8"
      },
      "execution_count": null,
      "outputs": []
    },
    {
      "cell_type": "markdown",
      "source": [
        "sepertinya semua data duplikat isinya sama jadi aman untuk didrop"
      ],
      "metadata": {
        "id": "iXnGj-CIQ05A"
      }
    },
    {
      "cell_type": "code",
      "source": [
        "pd.reset_option('display.max_rows')\n",
        "merge1_df.drop_duplicates(subset='unit_id',inplace=True)\n",
        "merge1_df"
      ],
      "metadata": {
        "id": "p3qdXKDQPKA2"
      },
      "execution_count": null,
      "outputs": []
    },
    {
      "cell_type": "code",
      "source": [
        "merge1_df.duplicated().sum()"
      ],
      "metadata": {
        "id": "iwyLwKvtRb2k"
      },
      "execution_count": null,
      "outputs": []
    },
    {
      "cell_type": "code",
      "source": [
        "merge1_df.info()"
      ],
      "metadata": {
        "id": "TVs4O9-rPCf9"
      },
      "execution_count": null,
      "outputs": []
    },
    {
      "cell_type": "code",
      "source": [
        "merge1_df.isna().sum()"
      ],
      "metadata": {
        "id": "D6p4SUUYPJjb"
      },
      "execution_count": null,
      "outputs": []
    },
    {
      "cell_type": "markdown",
      "source": [
        "## Merge 2 clean_unit + unit_facilities + unit_amenities"
      ],
      "metadata": {
        "id": "SP_RVpKfRkpY"
      }
    },
    {
      "cell_type": "markdown",
      "source": [
        "3 fitur dari unit_facilities yakni 'gym', 'parking', 'pool' juga terdapat pada unit_amenities. Mari kita cek perbedaanya"
      ],
      "metadata": {
        "id": "vPLbHUmzZQG7"
      }
    },
    {
      "cell_type": "code",
      "source": [
        "tes_df = unit_facilities_df.merge(unit_amenities_df, on=['unit_id'], how='outer',suffixes=('_facilities', '_amenities'))\n",
        "pd.set_option('display.max_rows',None)\n",
        "tes_df.drop_duplicates(subset='unit_id', inplace=True)\n",
        "tes_df.loc[:, ['unit_id', 'gym_facilities', 'parking_facilities', 'pool_facilities','gym_amenities', 'parking_amenities', 'pool_amenities']].sort_values('unit_id')"
      ],
      "metadata": {
        "id": "RYVAcSKMSkwG"
      },
      "execution_count": null,
      "outputs": []
    },
    {
      "cell_type": "markdown",
      "source": [
        "sepertinya semuanya sama dan lebih baik ambil dari unit_facilities karena minim NaN value. cmiiw"
      ],
      "metadata": {
        "id": "viXv3UfTZlLj"
      }
    },
    {
      "cell_type": "markdown",
      "source": [
        "tapi ada masalah lain yaitu duplicate value"
      ],
      "metadata": {
        "id": "XesDPE_pZvpv"
      }
    },
    {
      "cell_type": "code",
      "source": [
        "unit_amenities_df[unit_amenities_df.duplicated('unit_id', keep=False)]"
      ],
      "metadata": {
        "id": "MbLlCEJaV0Ty"
      },
      "execution_count": null,
      "outputs": []
    },
    {
      "cell_type": "code",
      "source": [
        "unit_amenities_df.info()"
      ],
      "metadata": {
        "id": "vk-ILZ93HiX7"
      },
      "execution_count": null,
      "outputs": []
    },
    {
      "cell_type": "code",
      "source": [
        "pd.reset_option('display.max_rows')\n",
        "def count_zeros(row):\n",
        "    return (row == 0).sum()\n",
        "\n",
        "unit_amenities_df['zero_count'] = unit_amenities_df.apply(count_zeros, axis=1)\n",
        "df_sorted = unit_amenities_df.sort_values(by=['unit_id', 'zero_count']).drop_duplicates(subset='unit_id', keep='first')\n",
        "\n",
        "clean_unit_amenities_df = df_sorted.drop(columns='zero_count')\n",
        "clean_unit_amenities_df"
      ],
      "metadata": {
        "id": "eI_oRKUcGgQf"
      },
      "execution_count": null,
      "outputs": []
    },
    {
      "cell_type": "code",
      "source": [
        "clean_unit_amenities_df.duplicated().sum()"
      ],
      "metadata": {
        "id": "vN6chGbQShKX"
      },
      "execution_count": null,
      "outputs": []
    },
    {
      "cell_type": "code",
      "source": [
        "clean_unit_amenities_df = clean_unit_amenities_df.drop(['gym', 'parking', 'pool'], axis=1)"
      ],
      "metadata": {
        "id": "9Hf7OBN2Sw0i"
      },
      "execution_count": null,
      "outputs": []
    },
    {
      "cell_type": "code",
      "source": [
        "merge2_df = merge1_df.merge(clean_unit_amenities_df, on=['unit_id'],how='left')\n",
        "merge2_df"
      ],
      "metadata": {
        "id": "MekfoCQYScYm"
      },
      "execution_count": null,
      "outputs": []
    },
    {
      "cell_type": "markdown",
      "source": [
        "## Merge 3 clean_unit + unit_facilities + unit_amenities + unit_type"
      ],
      "metadata": {
        "id": "x-ftBmm4eQm3"
      }
    },
    {
      "cell_type": "markdown",
      "source": [
        "drop data where 'deleted_at' != NaN, karena itu artinya datanya sudah dihapus dan sudah tidak relevan lagi. cmiiw"
      ],
      "metadata": {
        "id": "f9e0pQqNixKU"
      }
    },
    {
      "cell_type": "code",
      "source": [
        "unit_type_df[unit_type_df['deleted_at'].notna()]"
      ],
      "metadata": {
        "id": "-M5mir0GfgX0"
      },
      "execution_count": null,
      "outputs": []
    },
    {
      "cell_type": "markdown",
      "source": [
        "Make sure all 'deleted_at' != NaN is a timestamp before deleting"
      ],
      "metadata": {
        "id": "p5hkU4vzi30O"
      }
    },
    {
      "cell_type": "code",
      "source": [
        "pd.set_option('display.max_rows', None)\n",
        "unit_type_df.loc[unit_type_df['deleted_at'].notna(),'deleted_at']"
      ],
      "metadata": {
        "id": "ZjSoZNj8i40y"
      },
      "execution_count": null,
      "outputs": []
    },
    {
      "cell_type": "code",
      "source": [
        "pd.reset_option('display.max_rows')"
      ],
      "metadata": {
        "id": "tJlOgNTvjSaw"
      },
      "execution_count": null,
      "outputs": []
    },
    {
      "cell_type": "code",
      "source": [
        "clean_unit_type_df = unit_type_df[unit_type_df['deleted_at'].isna()]\n",
        "clean_unit_type_df"
      ],
      "metadata": {
        "id": "GyZgH6d7jDbM"
      },
      "execution_count": null,
      "outputs": []
    },
    {
      "cell_type": "code",
      "source": [
        "clean_unit_type_df = clean_unit_type_df.drop(['deleted_at', 'created_at',\t'updated_at'], axis=1)\n",
        "clean_unit_type_df"
      ],
      "metadata": {
        "id": "Etj9vmVcjf6F"
      },
      "execution_count": null,
      "outputs": []
    },
    {
      "cell_type": "code",
      "source": [
        "clean_unit_type_df[clean_unit_type_df.duplicated('unit_type_id', keep=False)]"
      ],
      "metadata": {
        "id": "8829dqTKxoKJ"
      },
      "execution_count": null,
      "outputs": []
    },
    {
      "cell_type": "code",
      "source": [
        "merge3_df = merge2_df.merge(clean_unit_type_df, on=['unit_type_id', 'property_id'],how='left')\n",
        "merge3_df"
      ],
      "metadata": {
        "id": "Mxo7DuYBhZJH"
      },
      "execution_count": null,
      "outputs": []
    },
    {
      "cell_type": "code",
      "source": [
        "merge3_df.info()"
      ],
      "metadata": {
        "id": "X-XuCVZCkCcv"
      },
      "execution_count": null,
      "outputs": []
    },
    {
      "cell_type": "code",
      "source": [
        "merge3_df.isna().sum()"
      ],
      "metadata": {
        "id": "g7H0XmpbkFTE"
      },
      "execution_count": null,
      "outputs": []
    },
    {
      "cell_type": "code",
      "source": [
        "merge3_df[merge3_df.duplicated('unit_type_id', keep=False)].sort_values('unit_type_id')"
      ],
      "metadata": {
        "id": "UGoERnsHx4fT"
      },
      "execution_count": null,
      "outputs": []
    },
    {
      "cell_type": "markdown",
      "source": [
        "## Merge 4 clean_unit + unit_facilities + unit_amenities + unit_type + (unit_type_detail + unit_type_field)"
      ],
      "metadata": {
        "id": "nF4OyRK6jtj0"
      }
    },
    {
      "cell_type": "code",
      "source": [
        "unit_type_detail_df"
      ],
      "metadata": {
        "id": "ry5_Ibr4j3XZ"
      },
      "execution_count": null,
      "outputs": []
    },
    {
      "cell_type": "code",
      "source": [
        "unit_type_detail_df[unit_type_detail_df['deleted_at'].notna()]"
      ],
      "metadata": {
        "id": "h-nEWA5kzUhC"
      },
      "execution_count": null,
      "outputs": []
    },
    {
      "cell_type": "code",
      "source": [
        "pd.set_option('display.max_rows', None)\n",
        "unit_type_detail_df.loc[unit_type_detail_df['deleted_at'].notna(),'deleted_at']"
      ],
      "metadata": {
        "id": "mObpuqYEz4Z5"
      },
      "execution_count": null,
      "outputs": []
    },
    {
      "cell_type": "code",
      "source": [
        "pd.reset_option('display.max_rows')"
      ],
      "metadata": {
        "id": "Sl6bKwnn0AG8"
      },
      "execution_count": null,
      "outputs": []
    },
    {
      "cell_type": "code",
      "source": [
        "clean_unit_type_detail_df = unit_type_detail_df[unit_type_detail_df['deleted_at'].isna()]\n",
        "clean_unit_type_detail_df"
      ],
      "metadata": {
        "id": "ino2E6FUzayG"
      },
      "execution_count": null,
      "outputs": []
    },
    {
      "cell_type": "code",
      "source": [
        "clean_unit_type_detail_df = clean_unit_type_detail_df.drop(['deleted_at', 'created_at',\t'updated_at'], axis=1)\n",
        "clean_unit_type_detail_df"
      ],
      "metadata": {
        "id": "z83jjdUE0E5Z"
      },
      "execution_count": null,
      "outputs": []
    },
    {
      "cell_type": "code",
      "source": [
        "clean_unit_type_detail_df['unit_type_id'].duplicated().sum()"
      ],
      "metadata": {
        "id": "LNW0mhbfxKE8"
      },
      "execution_count": null,
      "outputs": []
    },
    {
      "cell_type": "code",
      "source": [
        "merge3_df['unit_type_id'].duplicated().sum()"
      ],
      "metadata": {
        "id": "97L7_3KLxY5t"
      },
      "execution_count": null,
      "outputs": []
    },
    {
      "cell_type": "code",
      "source": [
        "unit_type_field_df"
      ],
      "metadata": {
        "id": "8rXwivOSKNiv"
      },
      "execution_count": null,
      "outputs": []
    },
    {
      "cell_type": "code",
      "source": [
        "pd.set_option('display.max_rows', None)\n",
        "unit_type_field_df.loc[unit_type_field_df['deleted_at'].notna(),'deleted_at']"
      ],
      "metadata": {
        "id": "PcGMryg9KjgL"
      },
      "execution_count": null,
      "outputs": []
    },
    {
      "cell_type": "code",
      "source": [
        "pd.reset_option('display.max_rows')"
      ],
      "metadata": {
        "id": "dFEKQHurKm3p"
      },
      "execution_count": null,
      "outputs": []
    },
    {
      "cell_type": "code",
      "source": [
        "clean_unit_type_field_df = unit_type_field_df[unit_type_df['deleted_at'].isna()]\n",
        "clean_unit_type_field_df"
      ],
      "metadata": {
        "id": "B7p5-Dl4KqDc"
      },
      "execution_count": null,
      "outputs": []
    },
    {
      "cell_type": "code",
      "source": [
        "clean_unit_type_field_df.isna().sum()"
      ],
      "metadata": {
        "id": "gMhpffDEMChJ"
      },
      "execution_count": null,
      "outputs": []
    },
    {
      "cell_type": "code",
      "source": [
        "clean_unit_type_field_df = clean_unit_type_field_df.drop(['deleted_at', 'created_at',\t'updated_at','label_id'], axis=1)\n",
        "clean_unit_type_field_df"
      ],
      "metadata": {
        "id": "4p0OZEBrL5SD"
      },
      "execution_count": null,
      "outputs": []
    },
    {
      "cell_type": "code",
      "source": [
        "clean_unit_type_detail_df"
      ],
      "metadata": {
        "id": "FCFpTH4JMpk-"
      },
      "execution_count": null,
      "outputs": []
    },
    {
      "cell_type": "code",
      "source": [
        "merge4_df = clean_unit_type_detail_df.merge(clean_unit_type_field_df, on=['unit_type_field_id'],how='left')\n",
        "merge4_df"
      ],
      "metadata": {
        "id": "RPYPT5TXJ5j_"
      },
      "execution_count": null,
      "outputs": []
    },
    {
      "cell_type": "code",
      "source": [
        "merge4_df.isna().sum()"
      ],
      "metadata": {
        "id": "_Mb05nyENIKY"
      },
      "execution_count": null,
      "outputs": []
    },
    {
      "cell_type": "code",
      "source": [
        "merge4_df['name'].unique()"
      ],
      "metadata": {
        "id": "8RMtQg-zb7XQ"
      },
      "execution_count": null,
      "outputs": []
    },
    {
      "cell_type": "code",
      "source": [
        "pivot_df = merge4_df.pivot(index='unit_type_id', columns='name', values='value')\n",
        "\n",
        "# result = merge4_df.drop_duplicates(subset=['unit_type_id']).set_index('unit_type_id')[['label', 'input_type', 'is_required']].join(pivot_df)\n",
        "\n",
        "clean_merge4_df = pivot_df.reset_index()\n",
        "clean_merge4_df"
      ],
      "metadata": {
        "id": "Wt4CYokYbvBz"
      },
      "execution_count": null,
      "outputs": []
    },
    {
      "cell_type": "code",
      "source": [
        "merge4_df = merge3_df.merge(clean_merge4_df, on=['unit_type_id'],how='left')\n",
        "merge4_df"
      ],
      "metadata": {
        "id": "EhLbM-2PrhYK"
      },
      "execution_count": null,
      "outputs": []
    },
    {
      "cell_type": "code",
      "source": [
        "pd.set_option('display.max_rows',None)\n",
        "merge4_df.loc[:, ['unit_id','bedroom_x', 'bathroom_x', 'beds_x', 'guests', 'capacity','essentials_x', 'bathroom_y', 'bedroom_y', 'beds_y', 'essentials_y', 'total_guest_capacity']]"
      ],
      "metadata": {
        "id": "zG1EoZnr6sc1"
      },
      "execution_count": null,
      "outputs": []
    },
    {
      "cell_type": "code",
      "source": [
        "merge4_df['bedroom'] = merge4_df['bedroom_x'].combine_first(merge4_df['bedroom_y'])\n",
        "merge4_df['bathroom'] = merge4_df['bathroom_x'].combine_first(merge4_df['bathroom_y'])\n",
        "merge4_df['beds'] = merge4_df['beds_x'].combine_first(merge4_df['beds_y'])\n",
        "merge4_df['total_guest_capacity'] = merge4_df['total_guest_capacity'].combine_first(merge4_df['guests'])\n",
        "merge4_df['essentials'] = merge4_df['essentials_x'].combine_first(merge4_df['essentials_y'])\n",
        "\n",
        "merge4_df = merge4_df.drop(columns=['bedroom_x', 'bedroom_y', 'bathroom_x', 'bathroom_y', 'beds_x', 'beds_y', 'guests', 'essentials_x', 'essentials_y'])\n",
        "\n",
        "merge4_df"
      ],
      "metadata": {
        "id": "BP4vMzO8zYO8"
      },
      "execution_count": null,
      "outputs": []
    },
    {
      "cell_type": "code",
      "source": [
        "merge4_df[merge4_df['property_id'] == 'PR0837']"
      ],
      "metadata": {
        "id": "_i6hTBpEmL7g"
      },
      "execution_count": null,
      "outputs": []
    },
    {
      "cell_type": "code",
      "source": [
        "merge4_df.info()"
      ],
      "metadata": {
        "id": "ArnGOy0qplY9"
      },
      "execution_count": null,
      "outputs": []
    },
    {
      "cell_type": "code",
      "source": [
        "merge4_df = merge4_df[merge4_df['status'] == 1]\n",
        "merge4_df = merge4_df.reset_index(drop=True)"
      ],
      "metadata": {
        "id": "17Ir-qK6oro_"
      },
      "execution_count": null,
      "outputs": []
    },
    {
      "cell_type": "code",
      "source": [
        "merge4_df"
      ],
      "metadata": {
        "id": "yYk-OhcboyCZ"
      },
      "execution_count": null,
      "outputs": []
    },
    {
      "cell_type": "code",
      "source": [
        "merge4_df.info()"
      ],
      "metadata": {
        "id": "69pzCu8NpsHO"
      },
      "execution_count": null,
      "outputs": []
    },
    {
      "cell_type": "code",
      "source": [
        "sort_merge4_df = merge4_df.sort_values(by='property_id')\n",
        "grouped = merge4_df.groupby('property_id')['capacity'].apply(lambda x: x.isna().all())\n",
        "result = grouped[grouped].index.tolist()"
      ],
      "metadata": {
        "id": "d1FXhrt1nrNL"
      },
      "execution_count": null,
      "outputs": []
    },
    {
      "cell_type": "code",
      "source": [
        "print(\"Property_id dengan semua capacity NaN:\", result)"
      ],
      "metadata": {
        "id": "hKH_opyzn3Rs"
      },
      "execution_count": null,
      "outputs": []
    },
    {
      "cell_type": "code",
      "source": [
        "merge4_df[merge4_df['property_id'].isin(result)]"
      ],
      "metadata": {
        "id": "gpuclY6WpZ7I"
      },
      "execution_count": null,
      "outputs": []
    },
    {
      "cell_type": "code",
      "source": [
        "merge4_df.isna().sum()"
      ],
      "metadata": {
        "id": "AGijVs_mZfyO"
      },
      "execution_count": null,
      "outputs": []
    }
  ]
}